{
 "metadata": {
  "name": "",
  "signature": "sha256:03943d003919d3869db8318d45e00b5eaa5484d29d657589cefae0f8ec4f89af"
 },
 "nbformat": 3,
 "nbformat_minor": 0,
 "worksheets": [
  {
   "cells": [
    {
     "cell_type": "markdown",
     "metadata": {},
     "source": [
      "# Scraping Calibrations\n",
      "\n",
      "A notebook that scrapes the calibrations from a CSV into a SQLite Data Table\n",
      "\n",
      "#### Imports"
     ]
    },
    {
     "cell_type": "code",
     "collapsed": false,
     "input": [
      "import sqlite3\n",
      "import csv"
     ],
     "language": "python",
     "metadata": {},
     "outputs": [],
     "prompt_number": 10
    },
    {
     "cell_type": "markdown",
     "metadata": {},
     "source": [
      "#### DB Initialization"
     ]
    },
    {
     "cell_type": "code",
     "collapsed": false,
     "input": [
      "conn = sqlite3.connect('/tmp/calibrations.sqlite')\n",
      "\n",
      "c = conn.cursor()\n",
      "c.execute('DROP TABLE IF EXISTS calibrations')\n",
      "c.execute('CREATE TABLE calibrations (id TEXT, name TEXT, value TEXT);')\n",
      "\n",
      "conn.commit()\n",
      "conn.close()"
     ],
     "language": "python",
     "metadata": {},
     "outputs": [],
     "prompt_number": 27
    },
    {
     "cell_type": "markdown",
     "metadata": {},
     "source": [
      "#### Scrape calibration.csv"
     ]
    },
    {
     "cell_type": "code",
     "collapsed": false,
     "input": [
      "conn = sqlite3.connect('/tmp/calibrations.sqlite')\n",
      "c = conn.cursor()\n",
      "\n",
      "with open('/Users/luke/Downloads/calibration.csv', 'rb') as csvfile:\n",
      "    next(csvfile)\n",
      "    reader = csv.reader(csvfile)\n",
      "    for row in reader:\n",
      "        c.execute('INSERT INTO calibrations VALUES (?, ?, ?)', row)\n",
      "\n",
      "conn.commit()\n",
      "conn.close()"
     ],
     "language": "python",
     "metadata": {},
     "outputs": [],
     "prompt_number": 28
    },
    {
     "cell_type": "markdown",
     "metadata": {},
     "source": [
      "#### Scrape OPTAA"
     ]
    },
    {
     "cell_type": "code",
     "collapsed": false,
     "input": [
      "import csv\n",
      "\n",
      "conn = sqlite3.connect('/tmp/calibrations.sqlite')\n",
      "c = conn.cursor()\n",
      "\n",
      "with open('/Users/luke/Downloads/ai_configs_optaac_v01-1.csv', 'rb') as csvfile:\n",
      "    next(csvfile)\n",
      "    reader = csv.reader(csvfile, delimiter=',', quoting=csv.QUOTE_MINIMAL, quotechar=\"'\")\n",
      "    for row in reader:\n",
      "        c.execute('INSERT INTO calibrations VALUES (?, ?, ?)', row)\n",
      "\n",
      "conn.commit()\n",
      "conn.close()"
     ],
     "language": "python",
     "metadata": {},
     "outputs": [],
     "prompt_number": 29
    },
    {
     "cell_type": "code",
     "collapsed": false,
     "input": [],
     "language": "python",
     "metadata": {},
     "outputs": []
    }
   ],
   "metadata": {}
  }
 ]
}