{
 "metadata": {
  "name": ""
 },
 "nbformat": 3,
 "nbformat_minor": 0,
 "worksheets": [
  {
   "cells": [
    {
     "cell_type": "markdown",
     "metadata": {},
     "source": [
      "Hey Guys,\n",
      "\n",
      "I was looking over the document Matthew sent my way about the sorts of data we\n",
      "can expect from the instruments, the goal I'm trying to achieve here is I want\n",
      "to know what is the largest contiguous dataset we'll be working with. I would\n",
      "like to be able to bench-test our data model with the largest we can expect to\n",
      "make sure that it performs well, doesn't cause an out-of-memory error and meets\n",
      "our requirements. The document highlights the Broadband Hydrophone as having the\n",
      "largest bandwidth, but what I found was not a large bandwidth but a titanic\n",
      "amount of bandwidth.\n",
      "\n",
      "We are using the icListen HF Broadband Hydrophone for the EA and RSN\n",
      "deployments. [[0]][confluence] I'm not too familiar with what the scientific\n",
      "goal is behind their deployment but I would imagine that it would be used to\n",
      "measure oceanic background noise, shipping traffic and biologic activity in the\n",
      "vicinity of the hydrophone. My experience with hydrophones as a Sonar Technician\n",
      "was primarily a military application.\n",
      "\n",
      "According to the technical specifications of the Broadband Hydrophone (HYDBB)\n",
      "documented for RSN, the operating frequency range is 5Hz to\n",
      "100kHz.[[1]][techspec] The same document identifies the sampling frequency as\n",
      "2.5 times the highest operating frequency, or 500 kHz.  [[1]][techspec] \n",
      "\n",
      "Next, I wanted to identify what is the format of the audio data, is it 32-bit,\n",
      "16-bit PCM, or maybe MP3, linear PCM. According to the Ocean Sonics File Format\n",
      "documentation, the audio sampling is transmitted in a standard RIFF format\n",
      "(WAV). The data-format is 24-bit uncompressed PCM. [[2]][iclisten] There is also\n",
      "an additional frequency file format that is transmitted from the instrument that\n",
      "streams the fourier transform coefficients in a proprietary format. I haven't\n",
      "identified or done the math to identify the bandwidth of this information but I\n",
      "would imagine that it's a linear fraction of what the audio channel produces.\n",
      "\n",
      "The effective bandwidth of just the audio channel is \n",
      "\n",
      "\n",
      "[techspec]: https://alfresco.oceanobservatories.org/alfresco/d/d/workspace/SpacesStore/66f0d6d2-3591-4598-8430-c695b565216a/4320-64418_Tech_Spec_HYDBB_RSN.pdf \"HYDBB Technical Spec\"\n",
      "\n",
      "[iclisten]: https://alfresco.oceanobservatories.org/alfresco/d/d/workspace/SpacesStore/22c75c94-132e-41a2-89b1-4e059f771f2c/icListen%20Log%20File%20Formats.pdf \"icListen Log File Formats\"\n",
      "\n",
      "[confluence]: https://confluence.oceanobservatories.org/display/instruments/HYDBB \"Confluence Instruments HYDBB\"\n"
     ]
    },
    {
     "cell_type": "code",
     "collapsed": false,
     "input": [
      "sampling_freq = 500000 # 500 kHz\n",
      "bits_per_sample = 24   # 24-bit PCM\n",
      "bandwidth_per_channel = sampling_freq * bits_per_sample\n",
      "bandwidth_per_channel / 8. / 1024. # kilobytes per second"
     ],
     "language": "python",
     "metadata": {},
     "outputs": [
      {
       "metadata": {},
       "output_type": "pyout",
       "prompt_number": 3,
       "text": [
        "1464.84375"
       ]
      }
     ],
     "prompt_number": 3
    },
    {
     "cell_type": "markdown",
     "metadata": {},
     "source": [
      "So, that's 1.46 MBps per audio channel, that doesn't include the frequency\n",
      "channels and the FFT format. There's an additional few bytes of overhead for the\n",
      "chunk headers but I won't include that for now.\n",
      "\n",
      "Neglecting database and format overhead, an hour's worth of data stored on disk\n",
      "would be\n",
      "\n"
     ]
    },
    {
     "cell_type": "code",
     "collapsed": false,
     "input": [
      "bandwidth = bandwidth_per_channel / 8. / 1024.\n",
      "one_hour = 3600 * bandwidth\n",
      "one_hour\n"
     ],
     "language": "python",
     "metadata": {},
     "outputs": [
      {
       "metadata": {},
       "output_type": "pyout",
       "prompt_number": 4,
       "text": [
        "5273437.5"
       ]
      }
     ],
     "prompt_number": 4
    },
    {
     "cell_type": "code",
     "collapsed": false,
     "input": [
      "one_hour * 24 * 365"
     ],
     "language": "python",
     "metadata": {},
     "outputs": [
      {
       "metadata": {},
       "output_type": "pyout",
       "prompt_number": 6,
       "text": [
        "46195312500.0"
       ]
      }
     ],
     "prompt_number": 6
    },
    {
     "cell_type": "markdown",
     "metadata": {},
     "source": [
      "One hour's worth of uncompressed audio data is 5.029 Gigabytes. If we break it\n",
      "down more that's 44 terabytes per instrument per audio channel per year, not\n",
      "including any metadata overhead or additional sampling data. \n",
      "\n",
      "I don't think a database is a wise place to put these files, I would recommend\n",
      "downloading the WAV files from the instrument and placing them in 30-minute\n",
      "files. One thing to note is that the WAV file format (RIFF) is limited to only\n",
      "4-GigaBytes per file because the size field in the RIFF header is a 4-byte\n",
      "unsigned integer. Users could be served the files as raw WAV files, or a\n",
      "compressed file-format (lossy and lossless options). As much as I would love to\n",
      "solve this problem by compressing the audio channels in an MP3 stream, the lossy\n",
      "compression could be devastating to scientific applications.\n",
      "\n",
      "I also think that this data even in it's rawest form would cripple the broker.\n",
      "I'm not sure of a good way for the instrument agent's to serve the files but the\n",
      "broker is not a good option here, maybe straight TCP with checksums or even\n",
      "UDP!?\n",
      "\n",
      "Can someone comment on my math or references and maybe check to make sure I'm\n",
      "not missing something obvious or there's a key piece of information I'm missing,\n",
      "did OL or RSN say that the instrument won't ever be operated above 200 Hz? This\n",
      "is a colossal amount of data.\n",
      "\n",
      "Thanks,\n"
     ]
    },
    {
     "cell_type": "markdown",
     "metadata": {},
     "source": [
      "\n",
      "- [[0]][confluence] Confluence Instruments HYDBB\n",
      "- [[1]][techspec] HYDBB Technical Specifications\n",
      "- [[2]][iclisten] icListen Log File Formats\n",
      "\n",
      "[techspec]: https://alfresco.oceanobservatories.org/alfresco/d/d/workspace/SpacesStore/66f0d6d2-3591-4598-8430-c695b565216a/4320-64418_Tech_Spec_HYDBB_RSN.pdf \"HYDBB Technical Spec\"\n",
      "\n",
      "[iclisten]: https://alfresco.oceanobservatories.org/alfresco/d/d/workspace/SpacesStore/22c75c94-132e-41a2-89b1-4e059f771f2c/icListen%20Log%20File%20Formats.pdf \"icListen Log File Formats\"\n",
      "\n",
      "[confluence]: https://confluence.oceanobservatories.org/display/instruments/HYDBB \"Confluence Instruments HYDBB\"\n"
     ]
    },
    {
     "cell_type": "code",
     "collapsed": false,
     "input": [],
     "language": "python",
     "metadata": {},
     "outputs": []
    }
   ],
   "metadata": {}
  }
 ]
}