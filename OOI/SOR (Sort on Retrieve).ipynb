{
 "metadata": {
  "name": ""
 },
 "nbformat": 3,
 "nbformat_minor": 0,
 "worksheets": [
  {
   "cells": [
    {
     "cell_type": "markdown",
     "metadata": {},
     "source": [
      "# Sort on Retrieve\n",
      "\n",
      "Consider a data granule (or file) that is unordered."
     ]
    },
    {
     "cell_type": "code",
     "collapsed": false,
     "input": [
      "import numpy as np\n",
      "\n",
      "granule = {\n",
      "    'time': np.arange(20),\n",
      "    'temp': np.arange(20)\n",
      "    }\n",
      "\n",
      "np.random.shuffle(granule['time'])"
     ],
     "language": "python",
     "metadata": {},
     "outputs": [],
     "prompt_number": 1
    },
    {
     "cell_type": "markdown",
     "metadata": {},
     "source": [
      "In order to sort our data properly let's dump this bad boy into a matrix, sort it and then make a new granule."
     ]
    },
    {
     "cell_type": "code",
     "collapsed": false,
     "input": [
      "data_mat = np.array([granule['time'], granule['temp']])\n",
      "print data_mat\n"
     ],
     "language": "python",
     "metadata": {},
     "outputs": [
      {
       "output_type": "stream",
       "stream": "stdout",
       "text": [
        "[[ 2  3 12  8 15 14  9  1  5 19 17  4 10 11 18  7 16  6  0 13]\n",
        " [ 0  1  2  3  4  5  6  7  8  9 10 11 12 13 14 15 16 17 18 19]]\n"
       ]
      }
     ],
     "prompt_number": 2
    },
    {
     "cell_type": "markdown",
     "metadata": {},
     "source": [
      "Now we sort the Matrix by the first row"
     ]
    },
    {
     "cell_type": "code",
     "collapsed": false,
     "input": [
      "data_mat.sort(axis=0)\n",
      "print data_mat"
     ],
     "language": "python",
     "metadata": {},
     "outputs": [
      {
       "output_type": "stream",
       "stream": "stdout",
       "text": [
        "[[ 0  1  2  3  4  5  6  1  5  9 10  4 10 11 14  7 16  6  0 13]\n",
        " [ 2  3 12  8 15 14  9  7  8 19 17 11 12 13 18 15 16 17 18 19]]\n"
       ]
      }
     ],
     "prompt_number": 3
    },
    {
     "cell_type": "markdown",
     "metadata": {},
     "source": [
      "Once the matrix is sorted, we apply it back to the granule and now we have our dataset."
     ]
    },
    {
     "cell_type": "code",
     "collapsed": false,
     "input": [
      "granule['time'] = data_mat[0]\n",
      "granule['temp'] = data_mat[1]"
     ],
     "language": "python",
     "metadata": {},
     "outputs": [],
     "prompt_number": 4
    },
    {
     "cell_type": "code",
     "collapsed": false,
     "input": [
      "granule"
     ],
     "language": "python",
     "metadata": {},
     "outputs": [
      {
       "metadata": {},
       "output_type": "pyout",
       "prompt_number": 6,
       "text": [
        "{'temp': array([ 2,  3, 12,  8, 15, 14,  9,  7,  8, 19, 17, 11, 12, 13, 18, 15, 16,\n",
        "       17, 18, 19]),\n",
        " 'time': array([ 0,  1,  2,  3,  4,  5,  6,  1,  5,  9, 10,  4, 10, 11, 14,  7, 16,\n",
        "        6,  0, 13])}"
       ]
      }
     ],
     "prompt_number": 6
    },
    {
     "cell_type": "markdown",
     "metadata": {},
     "source": [
      "What about if we took that data matrix and used it for getting a subset (with stride) back."
     ]
    },
    {
     "cell_type": "markdown",
     "metadata": {},
     "source": [
      "# A different approach\n",
      "\n",
      "So the above is a little tedious and it's use-case is quite narrow because different fields may have different datatypes so the matrix transforms won't fit here. Another option is to make a sort function for ourselves and apply the swaps across the granule."
     ]
    },
    {
     "cell_type": "markdown",
     "metadata": {},
     "source": [
      "### Building a simple granule"
     ]
    },
    {
     "cell_type": "code",
     "collapsed": false,
     "input": [
      "from pprint import pformat\n",
      "class DataGranule:\n",
      "    '''\n",
      "    Simple Data Granule\n",
      "    A structure of arrays\n",
      "    '''\n",
      "    shape=None\n",
      "    rd=None\n",
      "\n",
      "    def __init__(self):\n",
      "        self.shape = None\n",
      "        self.rd = {}\n",
      "\n",
      "    def __getitem__(self, key):\n",
      "        return self.rd[key]\n",
      "\n",
      "    def __setitem__(self, key, value):\n",
      "        if self.shape is None:\n",
      "            self.shape = value.shape\n",
      "        else:\n",
      "            if value.shape != self.shape:\n",
      "                raise ValueError(\"Invalid Shape: %s\" % self.shape)\n",
      "        self.rd[key] = value\n",
      "\n",
      "    def __repr__(self):\n",
      "        return '{\\n  ' + ',\\n  '.join(('\"%s\": %s' % (k,v) for k,v in self.rd.iteritems())) + '\\n}'\n",
      "\n",
      "\n",
      "\n"
     ],
     "language": "python",
     "metadata": {},
     "outputs": [],
     "prompt_number": 48
    },
    {
     "cell_type": "code",
     "collapsed": false,
     "input": [
      "dg = DataGranule()\n",
      "dg['time'] = np.arange(20)\n",
      "dg['temp'] = np.arange(20)\n",
      "np.random.shuffle(dg['time'])"
     ],
     "language": "python",
     "metadata": {},
     "outputs": [],
     "prompt_number": 49
    },
    {
     "cell_type": "code",
     "collapsed": false,
     "input": [
      "dg"
     ],
     "language": "python",
     "metadata": {},
     "outputs": [
      {
       "metadata": {},
       "output_type": "pyout",
       "prompt_number": 51,
       "text": [
        "{\n",
        "  \"temp\": [ 0  1  2  3  4  5  6  7  8  9 10 11 12 13 14 15 16 17 18 19],\n",
        "  \"time\": [ 2 11  3 13  6  4 15 17  8 10  0 18  1  9  5 12 14 16 19  7]\n",
        "}"
       ]
      }
     ],
     "prompt_number": 51
    },
    {
     "cell_type": "markdown",
     "metadata": {},
     "source": [
      "Now let's see what we can work with to make sorting the granule based on a field.\n",
      "\n",
      "### Quicksort"
     ]
    },
    {
     "cell_type": "code",
     "collapsed": false,
     "input": [
      "\n",
      "def swap(arr, i0, i1):\n",
      "    if i0 != i1:\n",
      "        t = arr[i0]\n",
      "        arr[i0] = arr[i1]\n",
      "        arr[i1] = t\n",
      "\n",
      "def partition(arr, left, right, pivot):\n",
      "    val = arr[pivot]\n",
      "    swap(arr, pivot, right)\n",
      "\n",
      "    store_index = left\n",
      "    for i in xrange(left, right):\n",
      "        if arr[i] < val:\n",
      "            swap(arr, i, store_index)\n",
      "            store_index += 1\n",
      "\n",
      "    swap(arr,store_index, right)\n",
      "    return store_index\n",
      "\n",
      "def quicksort(arr, left=None, right=None):\n",
      "    if left is None:\n",
      "        left = 0\n",
      "    if right is None:\n",
      "        right = arr.shape[0] - 1\n",
      "\n",
      "    if left < right:\n",
      "        pivot = (right - left) / 2 + left\n",
      "\n",
      "        pivot = partition(arr, left, right, pivot)\n",
      "        quicksort(arr, left, pivot-1)\n",
      "        quicksort(arr, pivot+1, right)\n",
      "\n",
      "\n"
     ],
     "language": "python",
     "metadata": {},
     "outputs": [],
     "prompt_number": 54
    },
    {
     "cell_type": "code",
     "collapsed": false,
     "input": [
      "example = np.arange(20)\n",
      "np.random.shuffle(example)\n",
      "print example\n",
      "quicksort(example)\n",
      "print example"
     ],
     "language": "python",
     "metadata": {},
     "outputs": [
      {
       "output_type": "stream",
       "stream": "stdout",
       "text": [
        "[ 7 11  2  5  9 15  3 16 19  4 17 13  8 14  6  0  1 18 12 10]\n",
        "[ 0  1  2  3  4  5  6  7  8  9 10 11 12 13 14 15 16 17 18 19]\n"
       ]
      }
     ],
     "prompt_number": 55
    },
    {
     "cell_type": "markdown",
     "metadata": {},
     "source": [
      "Now let's add quicksort to the granule."
     ]
    },
    {
     "cell_type": "code",
     "collapsed": false,
     "input": [
      "from pprint import pformat\n",
      "class DataGranule:\n",
      "    '''\n",
      "    Simple Data Granule\n",
      "    A structure of arrays\n",
      "    '''\n",
      "    shape=None\n",
      "    rd=None\n",
      "\n",
      "    def __init__(self):\n",
      "        self.shape = None\n",
      "        self.rd = {}\n",
      "\n",
      "    def __getitem__(self, key):\n",
      "        return self.rd[key]\n",
      "\n",
      "    def __setitem__(self, key, value):\n",
      "        if self.shape is None:\n",
      "            self.shape = value.shape\n",
      "        else:\n",
      "            if value.shape != self.shape:\n",
      "                raise ValueError(\"Invalid Shape: %s\" % self.shape)\n",
      "        self.rd[key] = value\n",
      "\n",
      "    def swap(self, i0, i1):\n",
      "        if i0 != i1:\n",
      "            for k,v in self.rd.iteritems():\n",
      "                t = v[i0]\n",
      "                v[i0] = v[i1]\n",
      "                v[i1] = t\n",
      "\n",
      "    def __repr__(self):\n",
      "        return '{\\n  ' + ',\\n  '.join(('\"%s\": %s' % (k,v) for k,v in self.rd.iteritems())) + '\\n}'\n",
      "\n",
      "    def quicksort(self, field):\n",
      "        self._quicksort(self.rd[field])\n",
      "\n",
      "    def _quicksort(self, arr, left=None, right=None):\n",
      "        if left is None:\n",
      "            left = 0\n",
      "        if right is None:\n",
      "            right = self.shape[0] - 1\n",
      "\n",
      "        if left < right:\n",
      "            pivot = (right - left)/2 + left\n",
      "            pivot = self._partition(arr, left, right, pivot)\n",
      "            self._quicksort(arr, left, pivot-1)\n",
      "            self._quicksort(arr, pivot+1, right)\n",
      "\n",
      "\n",
      "    def _partition(self, arr, left, right, pivot):\n",
      "        val = arr[pivot]\n",
      "        self.swap(pivot, right)\n",
      "        store_index = left\n",
      "        for i in xrange(left, right):\n",
      "            if arr[i] < val:\n",
      "                self.swap(i, store_index)\n",
      "                store_index += 1\n",
      "        self.swap(store_index, right)\n",
      "        return store_index\n",
      "\n"
     ],
     "language": "python",
     "metadata": {},
     "outputs": [],
     "prompt_number": 56
    },
    {
     "cell_type": "code",
     "collapsed": false,
     "input": [
      "dg = DataGranule()\n",
      "dg['time'] = np.arange(20)\n",
      "np.random.shuffle(dg['time'])\n",
      "dg['temp'] = np.arange(20)\n",
      "print dg\n",
      "print dg['"
     ],
     "language": "python",
     "metadata": {},
     "outputs": [
      {
       "output_type": "stream",
       "stream": "stdout",
       "text": [
        "{\n",
        "  \"temp\": [ 0  1  2  3  4  5  6  7  8  9 10 11 12 13 14 15 16 17 18 19],\n",
        "  \"time\": [15 16 12 13  5  2  6 17  1  7  9  3 18  4 10  0 11 14  8 19]\n",
        "}\n"
       ]
      }
     ],
     "prompt_number": 57
    },
    {
     "cell_type": "code",
     "collapsed": false,
     "input": [
      "dg.quicksort('time')"
     ],
     "language": "python",
     "metadata": {},
     "outputs": [],
     "prompt_number": 58
    },
    {
     "cell_type": "code",
     "collapsed": false,
     "input": [
      "print dg"
     ],
     "language": "python",
     "metadata": {},
     "outputs": [
      {
       "output_type": "stream",
       "stream": "stdout",
       "text": [
        "{\n",
        "  \"temp\": [15  8  5 11 13  4  6  9 18 10 14 16  2  3 17  0  1  7 12 19],\n",
        "  \"time\": [ 0  1  2  3  4  5  6  7  8  9 10 11 12 13 14 15 16 17 18 19]\n",
        "}\n"
       ]
      }
     ],
     "prompt_number": 59
    },
    {
     "cell_type": "markdown",
     "metadata": {},
     "source": [
      "Voila, works like a charm."
     ]
    }
   ],
   "metadata": {}
  }
 ]
}