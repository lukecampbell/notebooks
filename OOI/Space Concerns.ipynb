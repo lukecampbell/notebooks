{
 "metadata": {
  "name": ""
 },
 "nbformat": 3,
 "nbformat_minor": 0,
 "worksheets": [
  {
   "cells": [
    {
     "cell_type": "markdown",
     "metadata": {},
     "source": [
      "I'm just gonna poke around and see how much space is really taken up"
     ]
    },
    {
     "cell_type": "code",
     "collapsed": false,
     "input": [
      "float32_size = 4 # 4 bytes\n",
      "float64_size = 8 # 8 bytes\n",
      "int8_size = 1\n",
      "int16_size = 2\n",
      "int32_size = 4\n",
      "int64_size = 4"
     ],
     "language": "python",
     "metadata": {},
     "outputs": [],
     "prompt_number": 1
    },
    {
     "cell_type": "markdown",
     "metadata": {},
     "source": [
      "For a CTD sampling at 1Hz, observing three sensors for conductivity, pressure and temperature the data rate is:"
     ]
    },
    {
     "cell_type": "code",
     "collapsed": false,
     "input": [
      "time = float64_size\n",
      "temperature = float32_size\n",
      "conductivity = float32_size\n",
      "pressure = float32_size\n",
      "\n",
      "ctd_total_size = sum([time, temperature, conductivity, pressure])\n",
      "print 'Total Size:' , ctd_total_size"
     ],
     "language": "python",
     "metadata": {},
     "outputs": [
      {
       "output_type": "stream",
       "stream": "stdout",
       "text": [
        "Total Size: 20\n"
       ]
      }
     ],
     "prompt_number": 4
    },
    {
     "cell_type": "markdown",
     "metadata": {},
     "source": [
      "So, 20 bytes per second."
     ]
    },
    {
     "cell_type": "code",
     "collapsed": false,
     "input": [
      "data_rate = 20 # per second\n",
      "hour = 3600\n",
      "day = hour * 24\n",
      "year = day * 365\n",
      "month = year / 12\n",
      "week = day * 7\n",
      "\n",
      "data_rate_kb = data_rate / 1024.\n",
      "data_rate_mb = data_rate / 1024. ** 2\n",
      "\n",
      "print 'Hourly Consumption (KB):', hour * data_rate_kb\n",
      "print 'Daily Consumption (MB):', day * data_rate_mb\n",
      "print 'Weekly Consumption (MB):', week * data_rate_mb\n",
      "print 'Monthly Consumption (MB):', month * data_rate_mb\n",
      "print 'Yearly Consumption (MB):', year * data_rate_mb"
     ],
     "language": "python",
     "metadata": {},
     "outputs": [
      {
       "output_type": "stream",
       "stream": "stdout",
       "text": [
        "Hourly Consumption (KB): 70.3125\n",
        "Daily Consumption (MB): 1.64794921875\n",
        "Weekly Consumption (MB): 11.5356445312\n",
        "Monthly Consumption (MB): 50.1251220703\n",
        "Yearly Consumption (MB): 601.501464844\n"
       ]
      }
     ],
     "prompt_number": 8
    },
    {
     "cell_type": "markdown",
     "metadata": {},
     "source": [
      "If a scientist wanted to apply corrections to all three values 6 times over the lifespan of this dataset the new data overhead would be:"
     ]
    },
    {
     "cell_type": "code",
     "collapsed": false,
     "input": [
      "print 'Adjusted Dataset Size (MB):', year * data_rate_mb * 6"
     ],
     "language": "python",
     "metadata": {},
     "outputs": [
      {
       "output_type": "stream",
       "stream": "stdout",
       "text": [
        "Adjusted Dataset Size (MB): 3609.00878906\n"
       ]
      }
     ],
     "prompt_number": 9
    },
    {
     "cell_type": "markdown",
     "metadata": {},
     "source": [
      "So 3.6 Gigabytes per instrument assuming that the instrument was deployed and sampling continuously year round and the scientist uploaded a new dataset for the entire span of the instruments sampling history six times while retaining the history. This does not account for metadata overhead and compression."
     ]
    },
    {
     "cell_type": "markdown",
     "metadata": {},
     "source": [
      "With an estimate of 700 instruments each sampling. I'll assume that a general instrument samples 12 sensor values which is absurdly high for some and low for others."
     ]
    },
    {
     "cell_type": "code",
     "collapsed": false,
     "input": [
      "general_instrument = sum([time, float32_size * 12])\n",
      "data_rate = general_instrument\n",
      "data_rate_kb = general_instrument / 1024.\n",
      "data_rate_mb = general_instrument / 1024. ** 2\n",
      "\n",
      "print 'Yearly Consumption (MB):',year * data_rate_mb"
     ],
     "language": "python",
     "metadata": {},
     "outputs": [
      {
       "output_type": "stream",
       "stream": "stdout",
       "text": [
        "Yearly Consumption (MB): 1684.20410156\n"
       ]
      }
     ],
     "prompt_number": 11
    },
    {
     "cell_type": "code",
     "collapsed": false,
     "input": [
      "all_instruments = general_instrument * 700\n",
      "data_rate = all_instruments\n",
      "data_rate_kb = all_instruments / 1024.\n",
      "data_rate_mb = all_instruments / 1024. ** 2\n",
      "data_rate_gb = all_instruments / 1024. ** 3\n",
      "data_rate_tb = all_instruments / 1024. ** 4\n",
      "\n",
      "print 'Yearly Consumption of 700 deployed instruments (TB):',year * data_rate_tb"
     ],
     "language": "python",
     "metadata": {},
     "outputs": [
      {
       "output_type": "stream",
       "stream": "stdout",
       "text": [
        "Yearly Consumption of 700 deployed instruments (TB): 1.12432753667\n"
       ]
      }
     ],
     "prompt_number": 14
    },
    {
     "cell_type": "code",
     "collapsed": false,
     "input": [
      "theoretical_space = [54.6875,546.875,5468.75,54687.5,546875]\n",
      "actual_space = [5240,5240,5240,51672,515620]\n",
      "timesteps = [1000,10000,100000,1000000,10000000]\n",
      "\n",
      "fig = plt.subplot(111)\n",
      "fig.plot(timesteps, actual_space,'r', label='Coverage Model')\n",
      "fig.plot(timesteps, theoretical_space, 'b', label='Theoretical')\n",
      "fig.set_yscale('log')\n",
      "fig.set_xscale('log')\n",
      "fig.set_title(\"Actual Space\")\n"
     ],
     "language": "python",
     "metadata": {},
     "outputs": [
      {
       "metadata": {},
       "output_type": "pyout",
       "prompt_number": 24,
       "text": [
        "<matplotlib.text.Text at 0x1042a56d0>"
       ]
      },
      {
       "metadata": {},
       "output_type": "display_data",
       "png": "[encoded data removed]",
       "text": [
        "<matplotlib.figure.Figure at 0x10402af50>"
       ]
      }
     ],
     "prompt_number": 24
    },
    {
     "cell_type": "markdown",
     "metadata": {},
     "source": [
      "So the coverage model actually takes up slightly less space than the theoretical values by a very small margin. So we'll assume the theoretical values to err on the side of caution. If a data scientist were to make 6 corrections to every single dataset every year:"
     ]
    },
    {
     "cell_type": "code",
     "collapsed": false,
     "input": [
      "print 'Yearly consumption with corrections (TB):', year * data_rate_tb * 6"
     ],
     "language": "python",
     "metadata": {},
     "outputs": [
      {
       "output_type": "stream",
       "stream": "stdout",
       "text": [
        "Yearly consumption with corrections (TB): 6.74596522003\n"
       ]
      }
     ],
     "prompt_number": 25
    },
    {
     "cell_type": "markdown",
     "metadata": {},
     "source": [
      "---"
     ]
    },
    {
     "cell_type": "code",
     "collapsed": false,
     "input": [
      "size = 200 * 4 * 3600"
     ],
     "language": "python",
     "metadata": {},
     "outputs": [],
     "prompt_number": 1
    },
    {
     "cell_type": "code",
     "collapsed": false,
     "input": [
      "size / (1024.*1024.)"
     ],
     "language": "python",
     "metadata": {},
     "outputs": [
      {
       "metadata": {},
       "output_type": "pyout",
       "prompt_number": 4,
       "text": [
        "2.74658203125"
       ]
      }
     ],
     "prompt_number": 4
    },
    {
     "cell_type": "code",
     "collapsed": false,
     "input": [],
     "language": "python",
     "metadata": {},
     "outputs": []
    }
   ],
   "metadata": {}
  }
 ]
}