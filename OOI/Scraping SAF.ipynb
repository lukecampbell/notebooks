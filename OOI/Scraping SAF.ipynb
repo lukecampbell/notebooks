{
 "metadata": {
  "name": "",
  "signature": "sha256:8a41ad48676fa906c9b1e36365d614d34619361420ef097857be16f77f6e881a"
 },
 "nbformat": 3,
 "nbformat_minor": 0,
 "worksheets": [
  {
   "cells": [
    {
     "cell_type": "markdown",
     "metadata": {},
     "source": [
      "#### Imports"
     ]
    },
    {
     "cell_type": "code",
     "collapsed": false,
     "input": [
      "import csv\n",
      "from lxml import etree\n",
      "import sqlite3\n",
      "import psycopg2 as pg2\n",
      "import psycopg2.extensions as pg2ext\n",
      "import logging\n",
      "from collections import OrderedDict"
     ],
     "language": "python",
     "metadata": {},
     "outputs": [],
     "prompt_number": 112
    },
    {
     "cell_type": "markdown",
     "metadata": {},
     "source": [
      "#### File"
     ]
    },
    {
     "cell_type": "code",
     "collapsed": false,
     "input": [
      "path = '/Users/luke/Downloads/MySavedReport.xml'\n",
      "with open(path, 'rb') as f:\n",
      "    tree = etree.parse(f)"
     ],
     "language": "python",
     "metadata": {},
     "outputs": [],
     "prompt_number": 113
    },
    {
     "cell_type": "markdown",
     "metadata": {},
     "source": [
      "#### Database"
     ]
    },
    {
     "cell_type": "code",
     "collapsed": false,
     "input": [
      "conn = pg2.connect('dbname=saf user=safuser host=10.90.71.205')\n",
      "c = conn.cursor()\n",
      "statement = \"DROP TABLE IF EXISTS instrument_catalog;\"\n",
      "print statement\n",
      "c.execute(statement)\n",
      "conn.commit()"
     ],
     "language": "python",
     "metadata": {},
     "outputs": [
      {
       "output_type": "stream",
       "stream": "stdout",
       "text": [
        "DROP TABLE IF EXISTS instrument_catalog;\n"
       ]
      }
     ],
     "prompt_number": 114
    },
    {
     "cell_type": "markdown",
     "metadata": {},
     "source": [
      "#### Column Mapping and Keys"
     ]
    },
    {
     "cell_type": "code",
     "collapsed": false,
     "input": [
      "# <Details ReferenceDesignator=\"CE05MOAS-GL006-03-ADCPAM999\" LSubsite_Description=\"Endurance Mobile Assets\" LSite_Prefix=\"05\" LSubsite_SiteSuffix=\"MOAS\" Textbox11=\"GL (Gliders)\" LNode_NodeSequence=\"006\" LPort_PortNumber=\"03\" SClass_PublicID=\"ADCPA\" SSeries_PublicID=\"M\" LSlot_InstrumentSequence=\"999\" SSubseries_PublicID=\"01\" SSubseries_Description=\"ADCPA Series M Sub 01\" MMInstrument_Manufacturer=\"Teledyne RDI\" MMInstrument_PublicID=\"Explorer DVL 600 kHz\" MMInstrument_Description=\"Explorer DVL 600 kHz\" First_Deployment_Date=\"2014-04\" Platform_Agent_Type=\"Shore CyberPoP - Coastal Glider Dock Server\" Ready_For_2013_=\"\" Susceptible_to_Acoustic_Interference=\"Yes\" Produces_Acoustic_Interference=\"\"/>\n",
      "column_map = OrderedDict([\n",
      "    ('reference_designator' , 'ReferenceDesignator'),\n",
      "    ('subsite_name' , 'LSubsite_Description'),\n",
      "    ('site_prefix' , 'LSite_Prefix'),\n",
      "    ('node_type' , 'Textbox11'),\n",
      "    ('node_site_sequence', 'LNode_NodeSequence'),\n",
      "    ('port_number', 'LPort_PortNumber'),\n",
      "    ('instrument_series', 'SSeries_PublicID'),\n",
      "    ('instrument_sequence_number', 'LSlot_InstrumentSequence'),\n",
      "    ('instrument_subseries', 'SSubseries_PublicID'),\n",
      "    ('instrument_subseries_description', 'SSubseries_Description'),\n",
      "    ('manufacturer', 'MMInstrument_Manufacturer'),\n",
      "    ('make_model', 'MMInstrument_PublicID'),\n",
      "    ('make_model_description', 'MMInstrument_Description'),\n",
      "    ('subsite_first_deployment_date', 'First_Deployment_Date'),\n",
      "    ('platform_agent_type', 'Platform_Agent_Type'),\n",
      "    ('ready_for_2013', 'Ready_For_2013_'),\n",
      "    ('susceptible_acoustic_interference', 'Susceptible_to_Acoustic_Interference'),\n",
      "    ('produces_acoustic_interference', 'Produces_Acoustic_Interference')\n",
      "    ])"
     ],
     "language": "python",
     "metadata": {},
     "outputs": [],
     "prompt_number": 115
    },
    {
     "cell_type": "markdown",
     "metadata": {},
     "source": [
      "#### Table"
     ]
    },
    {
     "cell_type": "code",
     "collapsed": false,
     "input": [
      "statement = 'CREATE TABLE instrument_catalog (%s);' % (','.join(['%s text' % key for key in column_map]))\n",
      "print statement\n",
      "c.execute(statement)\n",
      "conn.commit()"
     ],
     "language": "python",
     "metadata": {},
     "outputs": [
      {
       "output_type": "stream",
       "stream": "stdout",
       "text": [
        "CREATE TABLE instrument_catalog (reference_designator text,subsite_name text,site_prefix text,node_type text,node_site_sequence text,port_number text,instrument_series text,instrument_sequence_number text,instrument_subseries text,instrument_subseries_description text,manufacturer text,make_model text,make_model_description text,subsite_first_deployment_date text,platform_agent_type text,ready_for_2013 text,susceptible_acoustic_interference text,produces_acoustic_interference text);\n"
       ]
      }
     ],
     "prompt_number": 116
    },
    {
     "cell_type": "markdown",
     "metadata": {},
     "source": [
      "#### XML Parsing"
     ]
    },
    {
     "cell_type": "markdown",
     "metadata": {},
     "source": [
      "#### Insert"
     ]
    },
    {
     "cell_type": "code",
     "collapsed": false,
     "input": [
      "for details in tablix.find('.//{*}Details_Collection'):\n",
      "    statement = 'INSERT INTO instrument_catalog(%s) VALUES (%s);' % (','.join(column_map), ','.join(\"'%s'\" % details.attrib[column_map[key]] for key in column_map))\n",
      "    #print statement\n",
      "    c.execute(statement)\n",
      "conn.commit()"
     ],
     "language": "python",
     "metadata": {},
     "outputs": [],
     "prompt_number": 117
    },
    {
     "cell_type": "code",
     "collapsed": true,
     "input": [
      "conn.close()"
     ],
     "language": "python",
     "metadata": {},
     "outputs": [],
     "prompt_number": 118
    }
   ],
   "metadata": {}
  }
 ]
}