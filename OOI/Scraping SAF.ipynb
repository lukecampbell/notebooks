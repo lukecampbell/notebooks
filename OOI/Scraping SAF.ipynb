{
 "metadata": {
  "name": "",
  "signature": "sha256:0b4e967f1e5bd3609a0c23197f44e7aa43543a43d713382da45d12190ababba0"
 },
 "nbformat": 3,
 "nbformat_minor": 0,
 "worksheets": [
  {
   "cells": [
    {
     "cell_type": "markdown",
     "metadata": {},
     "source": [
      "#### Imports"
     ]
    },
    {
     "cell_type": "code",
     "collapsed": false,
     "input": [
      "import csv\n",
      "from lxml import etree\n",
      "import sqlite3\n",
      "import psycopg2 as pg2\n",
      "import psycopg2.extensions as pg2ext\n",
      "import logging\n",
      "from collections import OrderedDict"
     ],
     "language": "python",
     "metadata": {},
     "outputs": [],
     "prompt_number": 1
    },
    {
     "cell_type": "markdown",
     "metadata": {},
     "source": [
      "#### File"
     ]
    },
    {
     "cell_type": "code",
     "collapsed": false,
     "input": [
      "path = '/Users/luke/Downloads/MySavedReport.xml'\n",
      "with open(path, 'rb') as f:\n",
      "    tree = etree.parse(f)"
     ],
     "language": "python",
     "metadata": {},
     "outputs": [],
     "prompt_number": 2
    },
    {
     "cell_type": "markdown",
     "metadata": {},
     "source": [
      "#### Database"
     ]
    },
    {
     "cell_type": "code",
     "collapsed": false,
     "input": [
      "conn = pg2.connect('dbname=saf user=safuser host=10.90.71.205')\n",
      "c = conn.cursor()\n",
      "statement = \"DROP TABLE IF EXISTS instrument_catalog;\"\n",
      "print statement\n",
      "c.execute(statement)\n",
      "conn.commit()"
     ],
     "language": "python",
     "metadata": {},
     "outputs": [
      {
       "output_type": "stream",
       "stream": "stdout",
       "text": [
        "DROP TABLE IF EXISTS instrument_catalog;\n"
       ]
      }
     ],
     "prompt_number": 3
    },
    {
     "cell_type": "markdown",
     "metadata": {},
     "source": [
      "#### Column Mapping and Keys\n",
      "\n",
      "Create an intuitive mapping from the XML Tag Attributes to the Column Headers supplied in the report\n",
      "![Column Headers](http://i.imgur.com/LNuQ7U0.png)"
     ]
    },
    {
     "cell_type": "code",
     "collapsed": false,
     "input": [
      "# <Details ReferenceDesignator=\"CE05MOAS-GL006-03-ADCPAM999\" LSubsite_Description=\"Endurance Mobile Assets\" LSite_Prefix=\"05\" LSubsite_SiteSuffix=\"MOAS\" Textbox11=\"GL (Gliders)\" LNode_NodeSequence=\"006\" LPort_PortNumber=\"03\" SClass_PublicID=\"ADCPA\" SSeries_PublicID=\"M\" LSlot_InstrumentSequence=\"999\" SSubseries_PublicID=\"01\" SSubseries_Description=\"ADCPA Series M Sub 01\" MMInstrument_Manufacturer=\"Teledyne RDI\" MMInstrument_PublicID=\"Explorer DVL 600 kHz\" MMInstrument_Description=\"Explorer DVL 600 kHz\" First_Deployment_Date=\"2014-04\" Platform_Agent_Type=\"Shore CyberPoP - Coastal Glider Dock Server\" Ready_For_2013_=\"\" Susceptible_to_Acoustic_Interference=\"Yes\" Produces_Acoustic_Interference=\"\"/>\n",
      "\n",
      "table_name = 'instrument_catalog' \n",
      "column_map = OrderedDict([\n",
      "    ('reference_designator' , 'ReferenceDesignator'),\n",
      "    ('subsite_name' , 'LSubsite_Description'),\n",
      "    ('site_prefix' , 'LSite_Prefix'),\n",
      "    ('node_type' , 'Textbox11'),\n",
      "    ('node_site_sequence', 'LNode_NodeSequence'),\n",
      "    ('port_number', 'LPort_PortNumber'),\n",
      "    ('instrument_series', 'SSeries_PublicID'),\n",
      "    ('instrument_sequence_number', 'LSlot_InstrumentSequence'),\n",
      "    ('instrument_subseries', 'SSubseries_PublicID'),\n",
      "    ('instrument_subseries_description', 'SSubseries_Description'),\n",
      "    ('manufacturer', 'MMInstrument_Manufacturer'),\n",
      "    ('make_model', 'MMInstrument_PublicID'),\n",
      "    ('make_model_description', 'MMInstrument_Description'),\n",
      "    ('subsite_first_deployment_date', 'First_Deployment_Date'),\n",
      "    ('platform_agent_type', 'Platform_Agent_Type'),\n",
      "    ('ready_for_2013', 'Ready_For_2013_'),\n",
      "    ('susceptible_acoustic_interference', 'Susceptible_to_Acoustic_Interference'),\n",
      "    ('produces_acoustic_interference', 'Produces_Acoustic_Interference')\n",
      "    ])"
     ],
     "language": "python",
     "metadata": {},
     "outputs": [],
     "prompt_number": 4
    },
    {
     "cell_type": "markdown",
     "metadata": {},
     "source": [
      "#### Table"
     ]
    },
    {
     "cell_type": "code",
     "collapsed": false,
     "input": [
      "statement = 'CREATE TABLE %s (%s);' % (table_name, ','.join(['%s text' % key for key in column_map]))\n",
      "print statement\n",
      "c.execute(statement)\n",
      "conn.commit()"
     ],
     "language": "python",
     "metadata": {},
     "outputs": [
      {
       "output_type": "stream",
       "stream": "stdout",
       "text": [
        "CREATE TABLE instrument_catalog (reference_designator text,subsite_name text,site_prefix text,node_type text,node_site_sequence text,port_number text,instrument_series text,instrument_sequence_number text,instrument_subseries text,instrument_subseries_description text,manufacturer text,make_model text,make_model_description text,subsite_first_deployment_date text,platform_agent_type text,ready_for_2013 text,susceptible_acoustic_interference text,produces_acoustic_interference text);\n"
       ]
      }
     ],
     "prompt_number": 5
    },
    {
     "cell_type": "markdown",
     "metadata": {},
     "source": [
      "#### XML Parsing"
     ]
    },
    {
     "cell_type": "markdown",
     "metadata": {},
     "source": [
      "#### Insert"
     ]
    },
    {
     "cell_type": "code",
     "collapsed": false,
     "input": [
      "root = tree.getroot()\n",
      "tablix = root[1]\n",
      "for details in tablix.find('.//{*}Details_Collection'):\n",
      "    statement = 'INSERT INTO instrument_catalog(%s) VALUES (%s);' % (','.join(column_map), ','.join(\"'%s'\" % details.attrib[column_map[key]] for key in column_map))\n",
      "    #print statement\n",
      "    c.execute(statement)\n",
      "conn.commit()"
     ],
     "language": "python",
     "metadata": {},
     "outputs": [],
     "prompt_number": 6
    },
    {
     "cell_type": "code",
     "collapsed": true,
     "input": [
      "conn.close()"
     ],
     "language": "python",
     "metadata": {},
     "outputs": [],
     "prompt_number": 7
    }
   ],
   "metadata": {}
  }
 ]
}