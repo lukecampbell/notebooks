{
 "metadata": {
  "name": ""
 },
 "nbformat": 3,
 "nbformat_minor": 0,
 "worksheets": [
  {
   "cells": [
    {
     "cell_type": "code",
     "collapsed": false,
     "input": [
      "number_of_parameters = 10\n",
      "sampling_frequency = 1 # Hz\n",
      "years = 5\n",
      "days = 365 * years\n",
      "seconds = 3600 * 24 * days\n",
      "timesteps = seconds\n",
      "\n",
      "bytes_per_parameter = 8 # bytes\n",
      "\n",
      "dataset_size = bytes_per_parameter * number_of_parameters * timesteps\n",
      "print \"Size in MB: \", dataset_size / (1024**2)"
     ],
     "language": "python",
     "metadata": {},
     "outputs": [
      {
       "output_type": "stream",
       "stream": "stdout",
       "text": [
        "Size in MB:  12030\n"
       ]
      }
     ],
     "prompt_number": 11
    },
    {
     "cell_type": "code",
     "collapsed": false,
     "input": [
      "import time\n",
      "class TimeIt:\n",
      "    def __init__(self):\n",
      "        pass\n",
      "    def __enter__(self):\n",
      "        self.t = time.time()\n",
      "    def __exit__(self, type, value, traceback):\n",
      "        print time.time() - self.t\n",
      "        "
     ],
     "language": "python",
     "metadata": {},
     "outputs": [],
     "prompt_number": 5
    },
    {
     "cell_type": "code",
     "collapsed": false,
     "input": [
      "# 12 GB? I can barely hold that in memory, but let's test it.\n",
      "large_count = 1024**3 # 1 gb\n",
      "float_size = 8\n",
      "total_size = 2 * large_count / float_size\n",
      "with TimeIt() as dt:\n",
      "    large_array = np.random.random(total_size) # I now have a 2GB array\n",
      "print \"seconds to allocate 2GB\"\n",
      "\n",
      "with TimeIt() as dt:\n",
      "    np.sort(large_array)\n",
      "print \"seconds to sort 2GB array\""
     ],
     "language": "python",
     "metadata": {},
     "outputs": [
      {
       "output_type": "stream",
       "stream": "stdout",
       "text": [
        "4.54079508781\n",
        "seconds to allocate 2GB\n",
        "31.3940711021"
       ]
      },
      {
       "output_type": "stream",
       "stream": "stdout",
       "text": [
        "\n",
        "seconds to sort 2GB array\n"
       ]
      }
     ],
     "prompt_number": 13
    },
    {
     "cell_type": "code",
     "collapsed": false,
     "input": [
      "31.39/2 * 11"
     ],
     "language": "python",
     "metadata": {},
     "outputs": [
      {
       "metadata": {},
       "output_type": "pyout",
       "prompt_number": 14,
       "text": [
        "172.645"
       ]
      }
     ],
     "prompt_number": 14
    },
    {
     "cell_type": "code",
     "collapsed": false,
     "input": [],
     "language": "python",
     "metadata": {},
     "outputs": []
    }
   ],
   "metadata": {}
  }
 ]
}