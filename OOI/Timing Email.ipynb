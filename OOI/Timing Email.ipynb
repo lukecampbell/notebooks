{
 "metadata": {
  "name": ""
 },
 "nbformat": 3,
 "nbformat_minor": 0,
 "worksheets": [
  {
   "cells": [
    {
     "cell_type": "markdown",
     "metadata": {},
     "source": [
      "Hey Guys,\n",
      "\n",
      "Here's the retrieve performance based on the number of slices.\n",
      "\n",
      "| slices | total time    |\n",
      "|--------|---------------|\n",
      "| 1      | 1.7488181591  |\n",
      "| 2      | 1.70817518234 |\n",
      "| 4      | 1.75243091583 |\n",
      "| 8      | 1.83208298683 |\n",
      "| 16     | 1.74126696587 |\n",
      "| 32     | 1.87566494942 |\n",
      "| 64     | 2.07228302956 |\n",
      "| 128    | 2.75411295891 |\n",
      "| 256    | 3.36750912666 |\n",
      "| 512    | 5.3422961235  |\n",
      "| 1024   | 8.57125306129 |\n",
      "| 2048   | 16.5289921761 |\n",
      "| 4096   | 39.722028017  |\n",
      "| 8192   | 59.0141458511 |\n",
      "| 16383  | 109.825838089 |\n",
      "| 32768  | 211.316990137 |\n",
      "\n",
      "\n",
      "This is for a smaller coverage with only 4 parameters and 3156000 timesteps (1 Hz over a year). I tried to observe the time required where the number of slices equaled the number of timesteps but it took over 2 hours and I killed it preemptively. A basic statistical model predicted that it would take 5.907 hours. \n",
      "\n",
      "Here's the predictor model:\n",
      "\n",
      "$$y = \\beta_0 + \\beta_1 x_i + \\epsilon$$\n",
      "\n",
      "Where $\\beta_0$ is 2.473136 seconds, $\\beta_1$ is 0.006737 seconds, $x_i$ is the number of time steps and $\\epsilon$ is the residual.\n"
     ]
    },
    {
     "cell_type": "code",
     "collapsed": false,
     "input": [
      "fig = figure()\n",
      "with open('/Users/luke/Documents/Dev/code/coi2/timing.csv', 'r') as f:\n",
      "    data = np.genfromtxt(f, delimiter=',')\n",
      "slices = data[:,0][1:]\n",
      "times = data[:,1][1:]\n",
      "p = fig.add_subplot(111)\n",
      "model = lambda x : 2.473136 + 0.006737 * x\n",
      "t = np.array([0,32768])\n",
      "p.scatter(slices,times)\n",
      "p.plot(t, model(t),color='r')\n",
      "fig.show()"
     ],
     "language": "python",
     "metadata": {},
     "outputs": [
      {
       "metadata": {},
       "output_type": "display_data",
       "png": "[encoded data removed]",
       "text": [
        "<matplotlib.figure.Figure at 0x10ecb2a10>"
       ]
      }
     ],
     "prompt_number": 2
    },
    {
     "cell_type": "markdown",
     "metadata": {},
     "source": [
      "Although the model scales linearly and the growth coefficient is quite small, the performance is not good. As you can see, any algorithm that is $O(n)$ for retrieving by slices can lead to suboptimal performance for greater number of slices.\n",
      "\n",
      "The number of slices in a retrieve operation will be equal to the number of contiguous subsets of data in the answer from the coverage dataset. Therefore, the more ordered a dataset is, the fewer slices will be required. \n",
      "\n",
      "I don't have any more numbers on memory consumption yet. It's difficult to discern the consumption required to build the dataset vs that required to retrieve answers from the dataset."
     ]
    }
   ],
   "metadata": {}
  }
 ]
}