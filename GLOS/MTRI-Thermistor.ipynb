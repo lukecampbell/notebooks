{
 "metadata": {
  "name": "",
  "signature": "sha256:13483358b3a9f88b5b1db9cac31b701fa36183f0507613d4e7f44e8a97c42803"
 },
 "nbformat": 3,
 "nbformat_minor": 0,
 "worksheets": [
  {
   "cells": [
    {
     "cell_type": "code",
     "collapsed": false,
     "input": [
      "from netCDF4 import Dataset\n",
      "nkw = '/Users/luke/Documents/Datasets/GLOS/MTRI-SKW_sea_water_temperature.nc'\n",
      "nkw_out = '/Users/luke/Documents/Datasets/GLOS/MTRI-SKW_sea_water_temperature_modified.nc'\n",
      "nc = Dataset(nkw, 'r')\n",
      "nc_out = Dataset(nkw_out, 'r+')"
     ],
     "language": "python",
     "metadata": {},
     "outputs": [],
     "prompt_number": 1
    },
    {
     "cell_type": "code",
     "collapsed": false,
     "input": [
      "nc.variables"
     ],
     "language": "python",
     "metadata": {},
     "outputs": [
      {
       "metadata": {},
       "output_type": "pyout",
       "prompt_number": 2,
       "text": [
        "OrderedDict([(u'platform', <netCDF4.Variable object at 0x10e2a53e0>), (u'crs', <netCDF4.Variable object at 0x10e2a5478>), (u'feature_type_instance', <netCDF4.Variable object at 0x10e2a5510>), (u'time', <netCDF4.Variable object at 0x10e2a55a8>), (u'instrument', <netCDF4.Variable object at 0x10e2a5640>), (u'longitude', <netCDF4.Variable object at 0x10e2a56d8>), (u'latitude', <netCDF4.Variable object at 0x10e2a5770>), (u'obs', <netCDF4.Variable object at 0x10e2a5808>), (u'height', <netCDF4.Variable object at 0x10e2a58a0>)])"
       ]
      }
     ],
     "prompt_number": 2
    },
    {
     "cell_type": "code",
     "collapsed": false,
     "input": [
      "nc_out.variables"
     ],
     "language": "python",
     "metadata": {},
     "outputs": [
      {
       "metadata": {},
       "output_type": "pyout",
       "prompt_number": 3,
       "text": [
        "OrderedDict([(u'platform', <netCDF4.Variable object at 0x10e2a59d0>), (u'crs', <netCDF4.Variable object at 0x10e2a5a68>), (u'time', <netCDF4.Variable object at 0x10e2a5b00>), (u'instrument', <netCDF4.Variable object at 0x10e2a5b98>), (u'longitude', <netCDF4.Variable object at 0x10e2a5c30>), (u'latitude', <netCDF4.Variable object at 0x10e2a5cc8>), (u'temperature', <netCDF4.Variable object at 0x10e2a5d60>), (u'height', <netCDF4.Variable object at 0x10e2a5df8>)])"
       ]
      }
     ],
     "prompt_number": 3
    },
    {
     "cell_type": "code",
     "collapsed": false,
     "input": [
      "nc_out.variables['platform'][:] = nc.variables['platform']"
     ],
     "language": "python",
     "metadata": {},
     "outputs": [],
     "prompt_number": 4
    },
    {
     "cell_type": "code",
     "collapsed": false,
     "input": [
      "nc_out.variables['crs'][:] = nc.variables['crs'][:]"
     ],
     "language": "python",
     "metadata": {},
     "outputs": [],
     "prompt_number": 5
    },
    {
     "cell_type": "code",
     "collapsed": false,
     "input": [
      "for varname in ['time', 'instrument', 'latitude', 'longitude', 'height']:\n",
      "    nc_out.variables[varname][:] = nc.variables[varname][:]"
     ],
     "language": "python",
     "metadata": {},
     "outputs": [],
     "prompt_number": 6
    },
    {
     "cell_type": "code",
     "collapsed": false,
     "input": [
      "nc_out.variables['temperature'][:] = nc.variables['obs'][:]"
     ],
     "language": "python",
     "metadata": {},
     "outputs": [],
     "prompt_number": 7
    },
    {
     "cell_type": "code",
     "collapsed": false,
     "input": [
      "nc_out.variables['temperature'][0:100]"
     ],
     "language": "python",
     "metadata": {},
     "outputs": [
      {
       "metadata": {},
       "output_type": "pyout",
       "prompt_number": 8,
       "text": [
        "array([[ 14.4,  13.8,  13.5,  13.5,  13.4,  13.1],\n",
        "       [ 14.1,  13.8,  13.6,  13.6,  13.4,  13.3],\n",
        "       [ 14.5,  14.3,  14. ,  13.4,  12.9,  12.1],\n",
        "       [ 14.3,  14. ,  13.9,  13. ,  13.1,  12.6],\n",
        "       [ 14. ,  13.8,  13.5,  11.6,  11.6,  10.1],\n",
        "       [ 13.9,  13.5,  12.9,  13. ,  12.9,  12.6],\n",
        "       [ 13.9,  13.6,  13.5,  13.8,  13.4,  13.1],\n",
        "       [ 13.8,  13.4,  12.3,  11.4,  11.1,   9.8],\n",
        "       [ 13.5,  13.3,  13. ,  13.1,  12.8,  12.5],\n",
        "       [ 13.6,  12.1,  10.5,  10.1,   9.5,   8.9],\n",
        "       [ 13.5,  12.1,  11.5,  10.9,  10.5,   9.6],\n",
        "       [ 14.4,  14. ,   8.1,   7.5,   6.9,   6.8],\n",
        "       [ 14.5,  14.1,  13.8,  12.5,  12.4,  10.3],\n",
        "       [ 14.3,  14. ,  13.8,  13.6,  13.4,  12.6],\n",
        "       [ 14. ,  13.8,  13.6,  13.9,  13.6,  13.6],\n",
        "       [ 13.5,  13.3,  13.1,  13.4,  13.3,  13.3],\n",
        "       [ 14.3,  13.9,  13.8,  14. ,  13.8,  13.8],\n",
        "       [ 14.3,  14. ,  13.9,  14.3,  14. ,  14. ],\n",
        "       [ 14.3,  14. ,  13.9,  14.3,  14. ,  14. ],\n",
        "       [ 14.1,  13.9,  13.9,  14.1,  13.9,  13.9],\n",
        "       [ 14.1,  13.9,  13.9,  14.1,  13.9,  13.9],\n",
        "       [ 14.3,  14. ,  13.9,  14.1,  13.9,  14. ],\n",
        "       [ 14. ,  13.8,  11.9,  11.6,  11.1,  10. ],\n",
        "       [ 13.8,  13.5,  13.4,  13.3,  13. ,  11.5],\n",
        "       [ 13.9,  13.5,  13.5,  13.8,  13.5,  13.3],\n",
        "       [ 13.9,  13.5,  12. ,  10.3,  10. ,   8.5],\n",
        "       [ 13.8,  13.4,  11.4,   8.4,   7.8,   6.9],\n",
        "       [ 13.8,  13.5,  13.4,  13.4,  13.1,  12. ],\n",
        "       [ 13.8,  13.4,   9. ,   8. ,   7.6,   7.1],\n",
        "       [ 13.6,  13.4,  13. ,  10.9,  10.3,   8.1],\n",
        "       [ 13.8,  13.5,  13.5,  13.8,  13.5,  13.5],\n",
        "       [ 13.9,  13.6,  13.6,  13.9,  13.6,  13.6],\n",
        "       [ 13.9,  13.6,  13.6,  13.9,  13.6,  13.6],\n",
        "       [ 13.9,  13.6,  13.5,  12.9,  12.5,  11.4],\n",
        "       [ 13.6,  12.5,   9.5,   8. ,   7.6,   7.1],\n",
        "       [ 13.9,  13.3,  10.5,   7.4,   6.8,   6.3],\n",
        "       [ 14. ,  13.6,  11.8,   9.8,   9.3,   7.9],\n",
        "       [ 14.3,  13.6,  12.5,  10.8,  10.3,   8.6],\n",
        "       [ 14.5,  13.8,  13.5,  13.3,  13. ,  11.8],\n",
        "       [ 14.3,  13.8,  13.4,  13.6,  13.5,  13.4],\n",
        "       [ 14.4,  14. ,  13.9,  14. ,  13.8,  13.5],\n",
        "       [ 14.3,  13.8,  12.8,  10.9,  10.4,   9.5],\n",
        "       [ 14.4,  13.6,  12.9,  11. ,  10.3,   8.8],\n",
        "       [ 14.3,  13.6,  10.3,   9.9,   9.5,   9.1],\n",
        "       [ 14. ,  13.6,  10.9,   9.8,   9.5,   9.3],\n",
        "       [ 14. ,  13.8,  12.9,  11.6,  11.3,   9.9],\n",
        "       [ 14.3,  14. ,  13.8,  12.5,  12.1,   9.9],\n",
        "       [ 14.1,  13.8,  13.6,  13.8,  13.5,  13. ],\n",
        "       [ 14.4,  14. ,  13.3,  11.6,  11. ,   9.8],\n",
        "       [ 14. ,  13.6,  11.1,   9.3,   8.6,   7.6],\n",
        "       [ 13.9,  12. ,   9. ,   8. ,   8. ,   7.4],\n",
        "       [ 13.9,  13.5,  13. ,  10.3,   9.6,   8.9],\n",
        "       [ 13.8,  13.1,  10.3,   8.3,   7.9,   7.3],\n",
        "       [ 13.5,  13.1,  10.9,   9.3,   8.8,   7.4],\n",
        "       [ 13.5,  13. ,  10.4,   7.3,   6.6,   6.5],\n",
        "       [ 13.4,  13. ,  12.5,  10.6,  10.4,   7.3],\n",
        "       [ 13.5,  13.3,   9.1,   6.9,   6.4,   6.3],\n",
        "       [ 13.4,  10.1,   7.8,   7.1,   6.8,   6.6],\n",
        "       [ 13.4,  12.1,  10. ,   7.6,   7.3,   6.8],\n",
        "       [ 10.1,   9.1,   8. ,   7.8,   7.5,   7.4],\n",
        "       [ 10.4,  10. ,   9.9,  10. ,   9.8,   9.9],\n",
        "       [ 11.4,  10.8,   9.1,   8.8,   8.4,   8. ],\n",
        "       [ 12.8,  11.9,  10. ,   9.1,   8.8,   8. ],\n",
        "       [ 12.9,  11.6,   8.4,   7.1,   6.8,   6.9],\n",
        "       [ 12.1,  11. ,   9.1,   7.9,   8. ,   7.6],\n",
        "       [ 12.4,  10.1,   8.8,   7.6,   7.1,   6.9],\n",
        "       [ 12.5,  12. ,  10.8,   9.4,   9.9,   9. ],\n",
        "       [ 12.9,  11.6,  10.5,   9.8,   9.5,   9.1],\n",
        "       [ 13. ,  12.4,  10.8,   9. ,   9. ,   8. ],\n",
        "       [ 12.8,  10.3,   9. ,   8.6,   8.3,   8. ],\n",
        "       [ 10.5,   8.3,   7.6,   7.9,   7.5,   7.5],\n",
        "       [ 11.5,   7.6,   7.1,   7.4,   7.1,   7.1],\n",
        "       [ 10.8,   9.5,   8.8,   8.1,   8.6,   8.3],\n",
        "       [ 10.3,   9.9,   9.6,   9.5,   9.4,   8.8],\n",
        "       [ 12.3,  12.1,  12. ,  11.8,  11.8,  10.3],\n",
        "       [ 11.8,  11.5,  11.5,  11.8,  11.5,  11.5],\n",
        "       [ 10.8,  10.6,  10.5,  10.8,  10.5,  10.5],\n",
        "       [ 11.5,  11.3,  10.8,   9.6,   9. ,   8.4],\n",
        "       [ 10.4,  10.1,  10.1,  10.1,   9.9,   9.6],\n",
        "       [ 10.4,  10.1,  10. ,  10.4,  10.1,  10.1],\n",
        "       [ 10.6,  10.4,  10.3,  10.5,  10.3,  10.3],\n",
        "       [ 10.6,  10.1,   9.9,  10.1,   9.9,   9.6],\n",
        "       [  9.5,   9.3,   9.1,   9.5,   9.3,   9.3],\n",
        "       [  9.6,   8.9,   8.6,   8.9,   8.6,   8.6],\n",
        "       [  9.3,   8.6,   8.4,   8.6,   8.4,   8.4],\n",
        "       [  9. ,   8.3,   8.1,   8.4,   8.1,   8.3],\n",
        "       [ 10. ,   9.1,   9. ,   9.3,   9. ,   9.1],\n",
        "       [ 11.4,  10.1,   9.3,   9.3,   8.9,   8.8],\n",
        "       [ 12.1,  11.1,  10.1,   9.8,   9.6,   9.5],\n",
        "       [ 11.8,  10.3,   9.4,   9.1,   8.9,   8.8],\n",
        "       [ 13.4,  11.8,   9.6,   9.5,   9.4,   9.1],\n",
        "       [ 13. ,  12.1,  11.6,  11.3,  11.1,  10.8],\n",
        "       [ 13. ,  12. ,  11.3,  10.6,  10.4,   9.6],\n",
        "       [ 12.5,  10.3,   9. ,   9. ,   8.6,   8.4],\n",
        "       [ 13.5,  12.3,  10.6,  10.4,  10.4,  10.1],\n",
        "       [ 12. ,  10.9,  10.4,  10. ,   9.8,   9.5],\n",
        "       [ 13. ,  12.8,  12.6,  11.4,  11.1,  10.5],\n",
        "       [ 13. ,  12.3,  11.9,  12. ,  11.8,  11.8],\n",
        "       [ 12.3,  11.5,  11.3,  11.4,  11.1,  10.9],\n",
        "       [ 11.6,  11.1,  11. ,  11.3,  11. ,  10.9]])"
       ]
      }
     ],
     "prompt_number": 8
    },
    {
     "cell_type": "code",
     "collapsed": false,
     "input": [
      "nc_out.close()"
     ],
     "language": "python",
     "metadata": {},
     "outputs": [],
     "prompt_number": 9
    },
    {
     "cell_type": "code",
     "collapsed": false,
     "input": [
      "nc.variables['platform'][:]"
     ],
     "language": "python",
     "metadata": {},
     "outputs": [
      {
       "metadata": {},
       "output_type": "pyout",
       "prompt_number": 10,
       "text": [
        "array(['S', 'o', 'u', 't', 'h', ' ', 'K', 'e', 'e', 'w', 'e', 'e', 'n',\n",
        "       'a', 'w', ' ', 'W', 'a', 't', 'e', 'r', 'w', 'a', 'y', ' ', 't',\n",
        "       'h', 'e', 'r', 'm', 'i', 's', 't', 'o', 'r', '', '', '', '', '', '',\n",
        "       '', '', '', '', '', '', '', '', '', '', '', '', '', '', '', '', '',\n",
        "       '', '', '', '', '', '', '', '', '', '', '', '', '', '', '', '', '',\n",
        "       '', '', '', '', '', '', '', '', '', '', '', '', '', '', '', '', '',\n",
        "       '', '', '', '', '', '', '', '', '', '', '', '', '', '', '', '', '',\n",
        "       '', '', '', '', '', '', '', '', '', '', '', '', '', '', '', '', '',\n",
        "       '', ''], \n",
        "      dtype='|S1')"
       ]
      }
     ],
     "prompt_number": 10
    },
    {
     "cell_type": "code",
     "collapsed": false,
     "input": [
      "''.join(_)"
     ],
     "language": "python",
     "metadata": {},
     "outputs": [
      {
       "metadata": {},
       "output_type": "pyout",
       "prompt_number": 11,
       "text": [
        "'South Keeweenaw Waterway thermistor'"
       ]
      }
     ],
     "prompt_number": 11
    },
    {
     "cell_type": "code",
     "collapsed": false,
     "input": [
      "nc.close()"
     ],
     "language": "python",
     "metadata": {},
     "outputs": [],
     "prompt_number": 12
    },
    {
     "cell_type": "code",
     "collapsed": false,
     "input": [],
     "language": "python",
     "metadata": {},
     "outputs": []
    }
   ],
   "metadata": {}
  }
 ]
}