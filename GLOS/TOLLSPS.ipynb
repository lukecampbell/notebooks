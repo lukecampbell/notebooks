{
 "cells": [
  {
   "cell_type": "code",
   "execution_count": 1,
   "metadata": {
    "collapsed": true
   },
   "outputs": [],
   "source": [
    "from netCDF4 import Dataset\n",
    "from netCDF4 import num2date\n",
    "nc = Dataset('http://glos.staging.asascience.com:8080/thredds/dodsC/habs_prod//lakes/ysi_turbidity/tollsps/tollsps.ncml', 'r')"
   ]
  },
  {
   "cell_type": "code",
   "execution_count": 2,
   "metadata": {
    "collapsed": false
   },
   "outputs": [],
   "source": [
    "times = nc.variables['time'][:]\n",
    "dates = num2date(times, units='seconds since 1970-01-01')"
   ]
  },
  {
   "cell_type": "code",
   "execution_count": 3,
   "metadata": {
    "collapsed": false
   },
   "outputs": [
    {
     "data": {
      "text/plain": [
       "array([datetime.datetime(2015, 3, 16, 0, 0),\n",
       "       datetime.datetime(2015, 3, 16, 0, 10),\n",
       "       datetime.datetime(2015, 3, 16, 0, 20), ...,\n",
       "       datetime.datetime(2015, 3, 23, 14, 30),\n",
       "       datetime.datetime(2015, 3, 23, 14, 40),\n",
       "       datetime.datetime(2015, 3, 23, 14, 50)], dtype=object)"
      ]
     },
     "execution_count": 3,
     "metadata": {},
     "output_type": "execute_result"
    }
   ],
   "source": [
    "dates"
   ]
  },
  {
   "cell_type": "code",
   "execution_count": 4,
   "metadata": {
    "collapsed": false
   },
   "outputs": [
    {
     "data": {
      "text/plain": [
       "(1082,)"
      ]
     },
     "execution_count": 4,
     "metadata": {},
     "output_type": "execute_result"
    }
   ],
   "source": [
    "dates.shape"
   ]
  },
  {
   "cell_type": "code",
   "execution_count": 5,
   "metadata": {
    "collapsed": false
   },
   "outputs": [
    {
     "name": "stdout",
     "output_type": "stream",
     "text": [
      "Populating the interactive namespace from numpy and matplotlib\n"
     ]
    },
    {
     "name": "stderr",
     "output_type": "stream",
     "text": [
      "WARNING: pylab import has clobbered these variables: ['num2date']\n",
      "`%matplotlib` prevents importing * from pylab and numpy\n"
     ]
    }
   ],
   "source": [
    "%pylab inline"
   ]
  },
  {
   "cell_type": "code",
   "execution_count": 6,
   "metadata": {
    "collapsed": false
   },
   "outputs": [
    {
     "data": {
      "text/plain": [
       "<matplotlib.collections.PathCollection at 0x10db05fd0>"
      ]
     },
     "execution_count": 6,
     "metadata": {},
     "output_type": "execute_result"
    },
    {
     "data": {
      "image/png": "[encoded data removed]",
      "text/plain": [
       "<matplotlib.figure.Figure at 0x10da478d0>"
      ]
     },
     "metadata": {},
     "output_type": "display_data"
    }
   ],
   "source": [
    "import matplotlib.pyplot as plt\n",
    "plt.scatter(range(times.shape[0]), times)"
   ]
  },
  {
   "cell_type": "code",
   "execution_count": 7,
   "metadata": {
    "collapsed": true
   },
   "outputs": [],
   "source": [
    "import glob"
   ]
  },
  {
   "cell_type": "code",
   "execution_count": 8,
   "metadata": {
    "collapsed": false
   },
   "outputs": [
    {
     "data": {
      "text/plain": [
       "['/Users/lcampbell/Documents/Datasets/GLOS/HABS-PROD/lakes/sea_surface_water_temperature/tollsps/2015/tollsps_sea_surface_water_temperature_2015075.nc',\n",
       " '/Users/lcampbell/Documents/Datasets/GLOS/HABS-PROD/lakes/sea_surface_water_temperature/tollsps/2015/tollsps_sea_surface_water_temperature_2015076.nc',\n",
       " '/Users/lcampbell/Documents/Datasets/GLOS/HABS-PROD/lakes/sea_surface_water_temperature/tollsps/2015/tollsps_sea_surface_water_temperature_2015077.nc',\n",
       " '/Users/lcampbell/Documents/Datasets/GLOS/HABS-PROD/lakes/sea_surface_water_temperature/tollsps/2015/tollsps_sea_surface_water_temperature_2015078.nc',\n",
       " '/Users/lcampbell/Documents/Datasets/GLOS/HABS-PROD/lakes/sea_surface_water_temperature/tollsps/2015/tollsps_sea_surface_water_temperature_2015079.nc',\n",
       " '/Users/lcampbell/Documents/Datasets/GLOS/HABS-PROD/lakes/sea_surface_water_temperature/tollsps/2015/tollsps_sea_surface_water_temperature_2015080.nc',\n",
       " '/Users/lcampbell/Documents/Datasets/GLOS/HABS-PROD/lakes/sea_surface_water_temperature/tollsps/2015/tollsps_sea_surface_water_temperature_2015081.nc',\n",
       " '/Users/lcampbell/Documents/Datasets/GLOS/HABS-PROD/lakes/sea_surface_water_temperature/tollsps/2015/tollsps_sea_surface_water_temperature_2015082.nc']"
      ]
     },
     "execution_count": 8,
     "metadata": {},
     "output_type": "execute_result"
    }
   ],
   "source": [
    "list(glob.glob('/Users/lcampbell/Documents/Datasets/GLOS/HABS-PROD/lakes/sea_surface_water_temperature/tollsps/2015/*.nc'))"
   ]
  },
  {
   "cell_type": "code",
   "execution_count": 9,
   "metadata": {
    "collapsed": false
   },
   "outputs": [
    {
     "data": {
      "text/plain": [
       "datetime.datetime(2015, 3, 16, 0, 0)"
      ]
     },
     "execution_count": 9,
     "metadata": {},
     "output_type": "execute_result"
    }
   ],
   "source": [
    "from netCDF4 import num2date\n",
    "num2date(times[0], units='seconds since 1970-01-01')"
   ]
  },
  {
   "cell_type": "code",
   "execution_count": 10,
   "metadata": {
    "collapsed": false
   },
   "outputs": [],
   "source": [
    "for nc_file in glob.glob('/Users/lcampbell/Documents/Datasets/GLOS/HABS-PROD/lakes/sea_surface_water_temperature/tollsps/2015/*.nc'):\n",
    "    with Dataset(nc_file, 'r+') as nc:\n",
    "        time_var = nc.variables['time']\n",
    "        start_time = time_var[0]\n",
    "        end_time = time_var[-1]\n",
    "        start_dtg = num2date(start_time, units=time_var.units)\n",
    "        end_dtg = num2date(end_time, units=time_var.units)\n",
    "        start_iso = start_dtg.isoformat()\n",
    "        end_iso = end_dtg.isoformat()\n",
    "        nc.time_coverage_start = start_iso\n",
    "        nc.time_coverage_end = end_iso\n",
    "        "
   ]
  },
  {
   "cell_type": "code",
   "execution_count": 11,
   "metadata": {
    "collapsed": true
   },
   "outputs": [],
   "source": [
    "url = 'http://tds.glos.us/thredds/dodsC/glos/habs/lakes/ph/tollsps/tollsps.ncml'\n",
    "nc = Dataset(url,'r')"
   ]
  },
  {
   "cell_type": "code",
   "execution_count": 12,
   "metadata": {
    "collapsed": false
   },
   "outputs": [
    {
     "data": {
      "text/plain": [
       "OrderedDict([(u'height', <type 'netCDF4.Dimension'>: name = 'height', size = 1\n",
       "), (u'maxStrlen64', <type 'netCDF4.Dimension'>: name = 'maxStrlen64', size = 64\n",
       "), (u'time', <type 'netCDF4.Dimension'>: name = 'time', size = 1508\n",
       ")])"
      ]
     },
     "execution_count": 12,
     "metadata": {},
     "output_type": "execute_result"
    }
   ],
   "source": [
    "nc.dimensions"
   ]
  },
  {
   "cell_type": "code",
   "execution_count": 13,
   "metadata": {
    "collapsed": false
   },
   "outputs": [
    {
     "ename": "IndexError",
     "evalue": "",
     "output_type": "error",
     "traceback": [
      "\u001b[0;31m---------------------------------------------------------------------------\u001b[0m",
      "\u001b[0;31mIndexError\u001b[0m                                Traceback (most recent call last)",
      "\u001b[0;32m<ipython-input-13-7953f4565071>\u001b[0m in \u001b[0;36m<module>\u001b[0;34m()\u001b[0m\n\u001b[0;32m----> 1\u001b[0;31m \u001b[0mnc\u001b[0m\u001b[0;34m.\u001b[0m\u001b[0mvariables\u001b[0m\u001b[0;34m[\u001b[0m\u001b[0;34m'time'\u001b[0m\u001b[0;34m]\u001b[0m\u001b[0;34m[\u001b[0m\u001b[0;34m:\u001b[0m\u001b[0;34m]\u001b[0m\u001b[0;34m\u001b[0m\u001b[0m\n\u001b[0m",
      "\u001b[0;32mnetCDF4.pyx\u001b[0m in \u001b[0;36mnetCDF4.Variable.__getitem__ (netCDF4.c:42287)\u001b[0;34m()\u001b[0m\n",
      "\u001b[0;32mnetCDF4.pyx\u001b[0m in \u001b[0;36mnetCDF4.Variable._get (netCDF4.c:50523)\u001b[0;34m()\u001b[0m\n",
      "\u001b[0;31mIndexError\u001b[0m: "
     ]
    }
   ],
   "source": [
    "nc.variables['time'][:]"
   ]
  },
  {
   "cell_type": "code",
   "execution_count": null,
   "metadata": {
    "collapsed": true
   },
   "outputs": [],
   "source": []
  }
 ],
 "metadata": {
  "kernelspec": {
   "display_name": "Python 2",
   "language": "python",
   "name": "python2"
  },
  "language_info": {
   "codemirror_mode": {
    "name": "ipython",
    "version": 2
   },
   "file_extension": ".py",
   "mimetype": "text/x-python",
   "name": "python",
   "nbconvert_exporter": "python",
   "pygments_lexer": "ipython2",
   "version": "2.7.6"
  }
 },
 "nbformat": 4,
 "nbformat_minor": 0
}
