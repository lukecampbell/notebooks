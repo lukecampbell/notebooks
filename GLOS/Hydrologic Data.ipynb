{
 "metadata": {
  "name": ""
 },
 "nbformat": 3,
 "nbformat_minor": 0,
 "worksheets": [
  {
   "cells": [
    {
     "cell_type": "code",
     "collapsed": false,
     "input": [
      "#!/usr/bin/env python\n",
      "\n",
      "\"\"\"Parsing of XLS files\"\"\"\n",
      "\n",
      "__author__ = 'Michael Meisinger'\n",
      "\n",
      "import csv\n",
      "import StringIO\n",
      "import xlrd\n",
      "\n",
      "\n",
      "class XLSParser(object):\n",
      "    \"\"\"Class that transforms an XLS file into a dict of csv files (str)\"\"\"\n",
      "\n",
      "    def extract_csvs(self, file_content):\n",
      "        sheets = self.extract_worksheets(file_content)\n",
      "        csv_docs = {}\n",
      "        for sheet_name, sheet in sheets.iteritems():\n",
      "            csv_doc = self.dumps_csv(sheet)\n",
      "            csv_docs[sheet_name] = csv_doc.splitlines()\n",
      "#            csv_doc = self.dumps_csv_list(sheet)\n",
      "#            csv_docs[sheet_name] = csv_doc\n",
      "        return csv_docs\n",
      "\n",
      "    def extract_worksheets(self, file_content):\n",
      "        book = xlrd.open_workbook(file_contents=file_content)\n",
      "        sheets = {}\n",
      "        formatter = lambda(t,v): self.format_excelval(book,t,v,False)\n",
      "\n",
      "        for sheet_name in book.sheet_names():\n",
      "            raw_sheet = book.sheet_by_name(sheet_name)\n",
      "            data = []\n",
      "            for row in range(raw_sheet.nrows):\n",
      "                (types, values) = (raw_sheet.row_types(row), raw_sheet.row_values(row))\n",
      "                data.append(map(formatter, zip(types, values)))\n",
      "            sheets[sheet_name] = data\n",
      "        return sheets\n",
      "\n",
      "    def dumps_csv(self, sheet):\n",
      "        stream = StringIO.StringIO()\n",
      "        csvout = csv.writer(stream, delimiter=',', doublequote=False, escapechar='\\\\')\n",
      "        csvout.writerows( map(self.utf8ize, sheet) )\n",
      "        csv_doc = stream.getvalue()\n",
      "        stream.close()\n",
      "        return csv_doc\n",
      "\n",
      "    def dumps_csv_list(self, sheet):\n",
      "        cvs_lines = []\n",
      "        for line in sheet:\n",
      "            stream = StringIO.StringIO()\n",
      "            csvout = csv.writer(stream, delimiter=',', doublequote=False, escapechar='\\\\')\n",
      "            csvout.writerow(self.utf8ize(line))\n",
      "            csv_doc = stream.getvalue()\n",
      "            stream.close()\n",
      "            cvs_lines.append(csv_doc)\n",
      "        return cvs_lines\n",
      "\n",
      "    def tupledate_to_isodate(self, tupledate):\n",
      "        (y,m,d, hh,mm,ss) = tupledate\n",
      "        nonzero = lambda n: n!=0\n",
      "        date = \"%04d-%02d-%02d\"  % (y,m,d)    if filter(nonzero, (y,m,d))                else ''\n",
      "        time = \"T%02d:%02d:%02d\" % (hh,mm,ss) if filter(nonzero, (hh,mm,ss)) or not date else ''\n",
      "        return date+time\n",
      "\n",
      "    def format_excelval(self, book, type, value, wanttupledate):\n",
      "        if   type == 2: # TEXT\n",
      "            if value == int(value): value = int(value)\n",
      "        elif type == 3: # NUMBER\n",
      "            datetuple = xlrd.xldate_as_tuple(value, book.datemode)\n",
      "            value = datetuple if wanttupledate else self.tupledate_to_isodate(datetuple)\n",
      "        elif type == 5: # ERROR\n",
      "            value = xlrd.error_text_from_code[value]\n",
      "        return value\n",
      "\n",
      "    def utf8ize(self, l):\n",
      "        return [unicode(s).encode(\"utf-8\") if hasattr(s,'encode') else s for s in l]\n",
      "\n"
     ],
     "language": "python",
     "metadata": {},
     "outputs": [],
     "prompt_number": 1
    },
    {
     "cell_type": "code",
     "collapsed": false,
     "input": [
      "parser = XLSParser()"
     ],
     "language": "python",
     "metadata": {},
     "outputs": [],
     "prompt_number": 2
    },
    {
     "cell_type": "code",
     "collapsed": false,
     "input": [
      "filepath = '/Users/luke/Documents/Dev/code/glos/data/glerl_report/WindSpeed_Overlake.xlsx'\n",
      "with open(filepath, 'r') as f:\n",
      "    doc = f.read()"
     ],
     "language": "python",
     "metadata": {},
     "outputs": [],
     "prompt_number": 33
    },
    {
     "cell_type": "code",
     "collapsed": false,
     "input": [
      "info = parser.extract_worksheets(doc)"
     ],
     "language": "python",
     "metadata": {},
     "outputs": [],
     "prompt_number": 34
    },
    {
     "cell_type": "code",
     "collapsed": false,
     "input": [
      "info.keys()"
     ],
     "language": "python",
     "metadata": {},
     "outputs": [
      {
       "metadata": {},
       "output_type": "pyout",
       "prompt_number": 35,
       "text": [
        "[u'GRT',\n",
        " u'STC',\n",
        " u'MHG',\n",
        " u'MIC',\n",
        " u'GEO',\n",
        " u'HUR',\n",
        " u'SUP',\n",
        " u'Metadata',\n",
        " u'HGB',\n",
        " u'ERI',\n",
        " u'ONT',\n",
        " u'Areas']"
       ]
      }
     ],
     "prompt_number": 35
    },
    {
     "cell_type": "code",
     "collapsed": false,
     "input": [
      "header_line = 3\n",
      "columns = nccl[header_line]"
     ],
     "language": "python",
     "metadata": {},
     "outputs": [],
     "prompt_number": 15
    },
    {
     "cell_type": "code",
     "collapsed": false,
     "input": [
      "data_range = (4, 116)\n",
      "data_rows = nccl[data_range[0]:data_range[1]]"
     ],
     "language": "python",
     "metadata": {},
     "outputs": [],
     "prompt_number": 62
    },
    {
     "cell_type": "code",
     "collapsed": false,
     "input": [
      "data_rows[0]"
     ],
     "language": "python",
     "metadata": {},
     "outputs": [
      {
       "metadata": {},
       "output_type": "pyout",
       "prompt_number": 63,
       "text": [
        "[1898,\n",
        " u'',\n",
        " u'',\n",
        " u'',\n",
        " u'',\n",
        " u'',\n",
        " u'',\n",
        " u'',\n",
        " u'',\n",
        " u'',\n",
        " u'',\n",
        " 27.02538210116731,\n",
        " 92.16718319066148]"
       ]
      }
     ],
     "prompt_number": 63
    },
    {
     "cell_type": "code",
     "collapsed": false,
     "input": [
      "from datetime import date, datetime\n",
      "from netCDF4 import Dataset\n",
      "import time\n",
      "import calendar"
     ],
     "language": "python",
     "metadata": {},
     "outputs": [],
     "prompt_number": 55
    },
    {
     "cell_type": "code",
     "collapsed": false,
     "input": [
      "nccl[0][0]"
     ],
     "language": "python",
     "metadata": {},
     "outputs": [
      {
       "metadata": {},
       "output_type": "pyout",
       "prompt_number": 58,
       "text": [
        "u'Lake Erie Net Basin Supply (expressed as cubic meters per second)'"
       ]
      }
     ],
     "prompt_number": 58
    },
    {
     "cell_type": "code",
     "collapsed": false,
     "input": [
      "nc = Dataset('/Users/luke/Documents/nc/NBS_comp_cms_LakePrc.nc', 'w')"
     ],
     "language": "python",
     "metadata": {},
     "outputs": []
    },
    {
     "cell_type": "code",
     "collapsed": false,
     "input": [
      "nc.createDimension('time', len(data_rows)*12)\n",
      "nc.GDAL = \"GDAL 1.9.2, released 2012/10/08\"\n",
      "nc.history = \"Created dynamically in IPython Notebook 2013-11-14\"\n",
      "nc.title = nccl[0][0]\n",
      "nc.summary = nccl[1][0]\n",
      "nc.naming_authority = 'GLOS'\n",
      "nc.source = 'GLERL'\n",
      "nc.standard_name_vocabulary = \"http://www.cgd.ucar.edu/cms/eaton/cf-metadata/standard_name.html\"\n",
      "nc.project = 'GLOS'\n",
      "nc.Conventions = \"CF-1.6\"\n",
      "time = nc.createVariable('time', 'i8', ('time',))\n",
      "time.standard_name = 'time'\n",
      "time.units = 'seconds since 1970-01-01'\n",
      "time.long_name = 'Time'\n",
      "time.axis = 'T'\n",
      "precip = nc.createVariable('precipitation', 'f8', ('time',))\n",
      "precip.standard_name = 'precipitation_amount'\n",
      "precip.units = 'm3 s-1'\n",
      "for i,row in enumerate(data_rows):\n",
      "    for j in xrange(12):\n",
      "        the_date = datetime(row[0], j+1, 1)\n",
      "        timestamp = calendar.timegm(the_date.utctimetuple())\n",
      "        time[i*12 + j] = timestamp\n",
      "        precip[i*12 + j] = row[j+1]\n",
      "\n",
      "        "
     ],
     "language": "python",
     "metadata": {},
     "outputs": [],
     "prompt_number": 59
    },
    {
     "cell_type": "code",
     "collapsed": false,
     "input": [
      "nc.close()"
     ],
     "language": "python",
     "metadata": {},
     "outputs": [],
     "prompt_number": 60
    },
    {
     "cell_type": "code",
     "collapsed": false,
     "input": [],
     "language": "python",
     "metadata": {},
     "outputs": []
    }
   ],
   "metadata": {}
  }
 ]
}