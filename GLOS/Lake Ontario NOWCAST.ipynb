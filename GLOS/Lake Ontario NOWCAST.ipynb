{
 "metadata": {
  "name": "",
  "signature": "sha256:4b9d8aa8734d15d40c8aa201fbfe05044452a19d5d1f4271355df192eae6ae8b"
 },
 "nbformat": 3,
 "nbformat_minor": 0,
 "worksheets": [
  {
   "cells": [
    {
     "cell_type": "code",
     "collapsed": false,
     "input": [
      "from netCDF4 import Dataset\n",
      "url = 'http://tds.glos.us/thredds/dodsC/glos/glcfs/archive2012/ontario/ncfmrc-3d/Lake_Ontario_-_Nowcast_-_3D_-_2012_best.ncd'\n",
      "\n",
      "nc = Dataset(url)"
     ],
     "language": "python",
     "metadata": {},
     "outputs": [],
     "prompt_number": 4
    },
    {
     "cell_type": "code",
     "collapsed": false,
     "input": [
      "nc.variables['u'].shape"
     ],
     "language": "python",
     "metadata": {},
     "outputs": [
      {
       "metadata": {},
       "output_type": "pyout",
       "prompt_number": 5,
       "text": [
        "(2928, 19, 25, 61)"
       ]
      }
     ],
     "prompt_number": 5
    },
    {
     "cell_type": "code",
     "collapsed": false,
     "input": [
      "block1 = nc.variables['u'][:50,:,:,:]"
     ],
     "language": "python",
     "metadata": {},
     "outputs": [],
     "prompt_number": 7
    },
    {
     "cell_type": "code",
     "collapsed": false,
     "input": [
      "bytes = 2928 * 19 * 25 * 61 * 4\n",
      "bytes / 1024. / 1024."
     ],
     "language": "python",
     "metadata": {},
     "outputs": [
      {
       "metadata": {},
       "output_type": "pyout",
       "prompt_number": 9,
       "text": [
        "323.63433837890625"
       ]
      }
     ],
     "prompt_number": 9
    },
    {
     "cell_type": "code",
     "collapsed": false,
     "input": [],
     "language": "python",
     "metadata": {},
     "outputs": []
    }
   ],
   "metadata": {}
  }
 ]
}