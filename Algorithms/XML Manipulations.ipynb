{
 "metadata": {
  "name": ""
 },
 "nbformat": 3,
 "nbformat_minor": 0,
 "worksheets": [
  {
   "cells": [
    {
     "cell_type": "code",
     "collapsed": false,
     "input": [
      "import lxml.etree as etree\n",
      "tree = etree.parse('/tmp/example.xml')\n",
      "root = tree.getroot()"
     ],
     "language": "python",
     "metadata": {},
     "outputs": [],
     "prompt_number": 109
    },
    {
     "cell_type": "code",
     "collapsed": false,
     "input": [
      "template='''<dataset active=\"True\" datasetID=\"{{dataset_id}}\" type=\"EDDTableFromDapSequence\">\n",
      "    <sourceUrl>{{url}}</sourceUrl>\n",
      "    <reloadEveryNMinutes>1440</reloadEveryNMinutes>\n",
      "    <outerSequenceName>data</outerSequenceName>\n",
      "    <defaultDataQuery>&amp;amp;time&amp;gt;=1970-01-01</defaultDataQuery>\n",
      "    <addAttributes>\n",
      "        <att name=\"infoUrl\">{{face_page}}</att>\n",
      "        <att name=\"license\">These data were collected by the Ocean Observatory Initiative (OOI) project purely for internal system development purposes during the construction phase of the project and are offered for release to the public with no assurance of data quality, consistency, temporal continuity or additional support. The OOI Program assumes no liability resulting from the use of these data for other than the intended purpose. No data quality assurance steps have been implemented on this data to date.</att>\n",
      "        <att name=\"title\">{{title}}</att>\n",
      "        <att name=\"standard_name_vocabulary\">CF-12</att>\n",
      "        <att name=\"Conventions\">COARDS, CF-1.6, Unidata Dataset Discovery v1.0</att>\n",
      "        <att name=\"cdm_data_type\">Other</att>\n",
      "        <att name=\"summary\">{{summary}}</att>\n",
      "        <att name=\"institution\">OOI</att>\n",
      "    </addAttributes>\n",
      "    {% for var in vars %}\n",
      "    <dataVariable>\n",
      "        <sourceName>{{var[\"name\"]}}</sourceName>\n",
      "        <destinationName>{{var[\"name\"]}}</destinationName>\n",
      "        <addAttributes>\n",
      "            {% for key,value in var[\"attrs\"].iteritems() %}\n",
      "            <att name=\"{{key}}\">{{value}}</att>\n",
      "            {% endfor %}\n",
      "        </addAttributes>\n",
      "    </dataVariable>\n",
      "    {% endfor %}\n",
      "</dataset>\n",
      "'''"
     ],
     "language": "python",
     "metadata": {},
     "outputs": [],
     "prompt_number": 110
    },
    {
     "cell_type": "code",
     "collapsed": false,
     "input": [
      "from jinja2 import Template\n",
      "from jinja2 import Environment\n",
      "jenv = Environment(trim_blocks=True,lstrip_blocks=True)\n",
      "jtemplate = jenv.from_string(template)"
     ],
     "language": "python",
     "metadata": {},
     "outputs": [],
     "prompt_number": 111
    },
    {
     "cell_type": "code",
     "collapsed": false,
     "input": [
      "dataset_id = 'abc123'\n",
      "url = 'http://www.google.com/'\n",
      "face_page = url\n",
      "title = 'sample dataset'\n",
      "summary = 'Sample Dataset'\n",
      "params = []\n",
      "time = {'name':'time', 'attrs':{'units':'seconds since 1900-01-01', 'ioos_category':'Time', 'long_name':'Time', 'standard_name':'time', 'time_precision':'blah', 'ooi_short_name':'time', 'data_product_level':'axis'}}\n",
      "params.append(time)\n",
      "temp = {'name':'temperature', 'attrs':{'units':'deg_C', 'ioos_category':'Temperature', 'long_name':'Temperature Corrected', 'standard_name':'temperature', 'function_name':'linear_corr'}}\n",
      "params.append(temp)"
     ],
     "language": "python",
     "metadata": {},
     "outputs": [],
     "prompt_number": 112
    },
    {
     "cell_type": "code",
     "collapsed": false,
     "input": [
      "rendered = jtemplate.render(dataset_id=dataset_id, url=url, face_page=face_page, title=title, summary=summary, vars=params)"
     ],
     "language": "python",
     "metadata": {},
     "outputs": [],
     "prompt_number": 113
    },
    {
     "cell_type": "code",
     "collapsed": false,
     "input": [
      "element = etree.fromstring(rendered)"
     ],
     "language": "python",
     "metadata": {},
     "outputs": [],
     "prompt_number": 114
    },
    {
     "cell_type": "code",
     "collapsed": false,
     "input": [
      "root.append(element)"
     ],
     "language": "python",
     "metadata": {},
     "outputs": [],
     "prompt_number": 117
    },
    {
     "cell_type": "code",
     "collapsed": false,
     "input": [
      "print etree.tostring(root, encoding='utf-8', xml_declaration=True, pretty_print=True)"
     ],
     "language": "python",
     "metadata": {},
     "outputs": [
      {
       "output_type": "stream",
       "stream": "stdout",
       "text": [
        "<?xml version='1.0' encoding='utf-8'?>\n",
        "<erddapDatasets>\n",
        "  <dataset active=\"True\" datasetID=\"abc123\" type=\"EDDTableFromDapSequence\">\n",
        "    <sourceUrl>http://www.google.com/</sourceUrl>\n",
        "    <reloadEveryNMinutes>1440</reloadEveryNMinutes>\n",
        "    <outerSequenceName>data</outerSequenceName>\n",
        "    <defaultDataQuery>&amp;amp;time&amp;gt;=1970-01-01</defaultDataQuery>\n",
        "    <addAttributes>\n",
        "        <att name=\"infoUrl\">http://www.google.com/</att>\n",
        "        <att name=\"license\">These data were collected by the Ocean Observatory Initiative (OOI) project purely for internal system development purposes during the construction phase of the project and are offered for release to the public with no assurance of data quality, consistency, temporal continuity or additional support. The OOI Program assumes no liability resulting from the use of these data for other than the intended purpose. No data quality assurance steps have been implemented on this data to date.</att>\n",
        "        <att name=\"title\">sample dataset</att>\n",
        "        <att name=\"standard_name_vocabulary\">CF-12</att>\n",
        "        <att name=\"Conventions\">COARDS, CF-1.6, Unidata Dataset Discovery v1.0</att>\n",
        "        <att name=\"cdm_data_type\">Other</att>\n",
        "        <att name=\"summary\">Sample Dataset</att>\n",
        "        <att name=\"institution\">OOI</att>\n",
        "    </addAttributes>\n",
        "    <dataVariable>\n",
        "        <sourceName>time</sourceName>\n",
        "        <destinationName>time</destinationName>\n",
        "        <addAttributes>\n",
        "            <att name=\"ioos_category\">Time</att>\n",
        "            <att name=\"ooi_short_name\">time</att>\n",
        "            <att name=\"data_product_level\">axis</att>\n",
        "            <att name=\"long_name\">Time</att>\n",
        "            <att name=\"standard_name\">time</att>\n",
        "            <att name=\"units\">seconds since 1900-01-01</att>\n",
        "            <att name=\"time_precision\">blah</att>\n",
        "        </addAttributes>\n",
        "    </dataVariable>\n",
        "    <dataVariable>\n",
        "        <sourceName>temperature</sourceName>\n",
        "        <destinationName>temperature</destinationName>\n",
        "        <addAttributes>\n",
        "            <att name=\"units\">deg_C</att>\n",
        "            <att name=\"ioos_category\">Temperature</att>\n",
        "            <att name=\"standard_name\">temperature</att>\n",
        "            <att name=\"function_name\">linear_corr</att>\n",
        "            <att name=\"long_name\">Temperature Corrected</att>\n",
        "        </addAttributes>\n",
        "    </dataVariable>\n",
        "</dataset>\n",
        "</erddapDatasets>\n",
        "\n"
       ]
      }
     ],
     "prompt_number": 118
    },
    {
     "cell_type": "code",
     "collapsed": false,
     "input": [
      "relevant = [ele for ele in root if 'datasetID' in ele.attrib and ele.attrib['datasetID'] == 'abc123']"
     ],
     "language": "python",
     "metadata": {},
     "outputs": [],
     "prompt_number": 126
    },
    {
     "cell_type": "code",
     "collapsed": false,
     "input": [
      "for r in relevant:\n",
      "    root.remove(r)"
     ],
     "language": "python",
     "metadata": {},
     "outputs": [],
     "prompt_number": 128
    },
    {
     "cell_type": "code",
     "collapsed": false,
     "input": [
      "print etree.tostring(root)"
     ],
     "language": "python",
     "metadata": {},
     "outputs": [
      {
       "output_type": "stream",
       "stream": "stdout",
       "text": [
        "<erddapDatasets/>\n"
       ]
      }
     ],
     "prompt_number": 130
    },
    {
     "cell_type": "code",
     "collapsed": false,
     "input": [
      "ele = relevant[0]"
     ],
     "language": "python",
     "metadata": {},
     "outputs": [],
     "prompt_number": 133
    },
    {
     "cell_type": "code",
     "collapsed": false,
     "input": [
      "d = { child.attrib['name'] : child.text for child in ele.find('addAttributes') }\n",
      "children = [ child for child in ele.find('addAttributes') ]\n"
     ],
     "language": "python",
     "metadata": {},
     "outputs": [],
     "prompt_number": 144
    },
    {
     "cell_type": "code",
     "collapsed": false,
     "input": [
      "d"
     ],
     "language": "python",
     "metadata": {},
     "outputs": [
      {
       "metadata": {},
       "output_type": "pyout",
       "prompt_number": 145,
       "text": [
        "{'Conventions': 'COARDS, CF-1.6, Unidata Dataset Discovery v1.0',\n",
        " 'cdm_data_type': 'Other',\n",
        " 'infoUrl': 'http://www.google.com/',\n",
        " 'institution': 'OOI',\n",
        " 'license': 'These data were collected by the Ocean Observatory Initiative (OOI) project purely for internal system development purposes during the construction phase of the project and are offered for release to the public with no assurance of data quality, consistency, temporal continuity or additional support. The OOI Program assumes no liability resulting from the use of these data for other than the intended purpose. No data quality assurance steps have been implemented on this data to date.',\n",
        " 'standard_name_vocabulary': 'CF-12',\n",
        " 'summary': 'Sample Dataset',\n",
        " 'title': 'sample dataset'}"
       ]
      }
     ],
     "prompt_number": 145
    },
    {
     "cell_type": "code",
     "collapsed": false,
     "input": [
      "child.attrib"
     ],
     "language": "python",
     "metadata": {},
     "outputs": [
      {
       "metadata": {},
       "output_type": "pyout",
       "prompt_number": 142,
       "text": [
        "{'name': 'infoUrl'}"
       ]
      }
     ],
     "prompt_number": 142
    },
    {
     "cell_type": "code",
     "collapsed": false,
     "input": [
      "child.text"
     ],
     "language": "python",
     "metadata": {},
     "outputs": [
      {
       "metadata": {},
       "output_type": "pyout",
       "prompt_number": 143,
       "text": [
        "'http://www.google.com/'"
       ]
      }
     ],
     "prompt_number": 143
    },
    {
     "cell_type": "code",
     "collapsed": false,
     "input": [],
     "language": "python",
     "metadata": {},
     "outputs": []
    }
   ],
   "metadata": {}
  }
 ]
}