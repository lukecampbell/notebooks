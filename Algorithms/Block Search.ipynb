{
 "metadata": {
  "name": ""
 },
 "nbformat": 3,
 "nbformat_minor": 0,
 "worksheets": [
  {
   "cells": [
    {
     "cell_type": "code",
     "collapsed": false,
     "input": [
      "\n",
      "def block_search(vector, value, left=None, right=None):\n",
      "    '''\n",
      "    Let's try a block approach:\n",
      "\n",
      "    1) Determine the total bounds of the vector\n",
      "    2) If the value is before, return 0, if it's after return N+1\n",
      "    3) Assume that the vector has uniform spacing and make a weighted guess where the value might be\n",
      "    '''\n",
      "    if left is None:\n",
      "        left = 0\n",
      "    if right is None:\n",
      "        right = vector.shape[0]\n",
      "\n",
      "    if value < vector[left]:\n",
      "        return left\n",
      "    N = (right - left)\n",
      "    if N <= 1:\n",
      "        return right\n",
      "    if value > vector[right-1]:\n",
      "        return right\n",
      "\n",
      "    v = vector\n",
      "    t = value\n",
      "    i = (t - v[left]) / ((v[right-1] - v[left]) / float(N))\n",
      "    i = int(i + left)\n",
      "    if vector[i] == value:\n",
      "        return i\n",
      "    print 'i: ', i\n",
      "    i0 = max(left, i-N/4)\n",
      "    i1 = min(right, i + N/4)\n",
      "    return block_search(vector, value, i0, i1)\n"
     ],
     "language": "python",
     "metadata": {},
     "outputs": [],
     "prompt_number": 77
    },
    {
     "cell_type": "code",
     "collapsed": false,
     "input": [
      "a = np.arange(200, 400, 2)\n",
      "block_search(a, 397)"
     ],
     "language": "python",
     "metadata": {},
     "outputs": [
      {
       "output_type": "stream",
       "stream": "stdout",
       "text": [
        "i:  99\n",
        "i:  99\n",
        "i:  99\n",
        "i:  99\n"
       ]
      },
      {
       "metadata": {},
       "output_type": "pyout",
       "prompt_number": 78,
       "text": [
        "99"
       ]
      }
     ],
     "prompt_number": 78
    },
    {
     "cell_type": "code",
     "collapsed": false,
     "input": [],
     "language": "python",
     "metadata": {},
     "outputs": [],
     "prompt_number": 75
    },
    {
     "cell_type": "code",
     "collapsed": false,
     "input": [
      "block_search(a, 397, i0, i1)"
     ],
     "language": "python",
     "metadata": {},
     "outputs": [
      {
       "metadata": {},
       "output_type": "pyout",
       "prompt_number": 76,
       "text": [
        "99"
       ]
      }
     ],
     "prompt_number": 76
    },
    {
     "cell_type": "code",
     "collapsed": false,
     "input": [],
     "language": "python",
     "metadata": {},
     "outputs": []
    }
   ],
   "metadata": {}
  }
 ]
}