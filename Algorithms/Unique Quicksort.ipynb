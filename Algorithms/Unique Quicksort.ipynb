{
 "metadata": {
  "name": ""
 },
 "nbformat": 3,
 "nbformat_minor": 0,
 "worksheets": [
  {
   "cells": [
    {
     "cell_type": "markdown",
     "metadata": {},
     "source": [
      "# Description\n",
      "\n",
      "This is just some toying around to see if I can alter the quicksort algorithm to also remove duplicate values in the process.\n",
      "\n",
      "The idea here is that if two values are equal in the process of sorting, I set the value to be really high?\n",
      "\n"
     ]
    },
    {
     "cell_type": "code",
     "collapsed": false,
     "input": [
      "def swap(value_dict, x0, x1):\n",
      "    '''\n",
      "    Value dictionary array swap\n",
      "    '''\n",
      "    if x0 != x1:\n",
      "        for name,arr in value_dict.iteritems():\n",
      "            t = arr[x0]\n",
      "            arr[x0] = arr[x1]\n",
      "            arr[x1] = t\n",
      "\n",
      "def partition(value_dict, axis, left, right, pivot):\n",
      "    '''\n",
      "    Pivot algorithm, part of quicksort\n",
      "    '''\n",
      "    axis_arr = value_dict[axis]\n",
      "    val = axis_arr[pivot]\n",
      "    swap(value_dict, pivot, right)\n",
      "    store_index = left\n",
      "    for i in xrange(left, right):\n",
      "        if axis_arr[i] < val:\n",
      "            swap(value_dict, i, store_index)\n",
      "            store_index += 1\n",
      "\n",
      "        if axis_arr[i] == val and value_dict['__idx__'][i] < value_dict['__idx__'][right]:\n",
      "            print 'dup found ', val\n",
      "            print i, ' < ', pivot\n",
      "            swap(value_dict, i, store_index)\n",
      "            store_index += 1\n",
      "    swap(value_dict, store_index, right)\n",
      "    return store_index\n",
      "\n",
      "def qsort(value_dict, axis, left=None, right=None):\n",
      "    '''\n",
      "    Quicksort, value dictionary edition\n",
      "    '''\n",
      "    top_call=False\n",
      "    if left is None and right is None:\n",
      "        value_dict['__idx__'] = np.arange(len(value_dict[axis]))\n",
      "        top_call=True\n",
      "    if left is None:\n",
      "        left = 0\n",
      "    if right is None:\n",
      "        right = len(value_dict[axis]) - 1\n",
      "    if left < right:\n",
      "        pivot = (right - left) / 2 + left\n",
      "        pivot = partition(value_dict, axis, left, right, pivot)\n",
      "        qsort(value_dict, axis, left, pivot-1)\n",
      "        qsort(value_dict, axis, pivot+1, right)\n",
      "    if top_call:\n",
      "        del value_dict['__idx__']\n"
     ],
     "language": "python",
     "metadata": {},
     "outputs": [],
     "prompt_number": 43
    },
    {
     "cell_type": "code",
     "collapsed": false,
     "input": [
      "vd = {}\n",
      "vd['a'] = [1, 2, 3, 2, 3, 4, 5, 6, 7, 8, 3, 4, 5]\n",
      "vd['b'] = [1, 1, 1, 2, 2, 2, 3, 3, 3, 3, 4, 4, 4]\n",
      "vd['c'] = [0, 1, 2, 3, 4, 5, 6, 7, 8, 9, 10, 11, 12]\n",
      "qsort(vd,'a')"
     ],
     "language": "python",
     "metadata": {},
     "outputs": [
      {
       "output_type": "stream",
       "stream": "stdout",
       "text": [
        "dup found  2\n",
        "1  <  3\n",
        "dup found  3\n",
        "4  <  4\n"
       ]
      }
     ],
     "prompt_number": 44
    },
    {
     "cell_type": "code",
     "collapsed": false,
     "input": [
      "print vd['c']\n",
      "print vd['a']\n",
      "print vd['b']"
     ],
     "language": "python",
     "metadata": {},
     "outputs": [
      {
       "output_type": "stream",
       "stream": "stdout",
       "text": [
        "[0, 1, 3, 2, 4, 10, 5, 11, 6, 12, 7, 8, 9]\n",
        "[1, 2, 2, 3, 3, 3, 4, 4, 5, 5, 6, 7, 8]\n",
        "[1, 1, 2, 1, 2, 4, 2, 4, 3, 4, 3, 3, 3]\n"
       ]
      }
     ],
     "prompt_number": 45
    },
    {
     "cell_type": "code",
     "collapsed": false,
     "input": [],
     "language": "python",
     "metadata": {},
     "outputs": []
    }
   ],
   "metadata": {}
  }
 ]
}