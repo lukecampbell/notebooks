{
 "metadata": {
  "name": "Knuth Offset"
 },
 "nbformat": 3,
 "nbformat_minor": 0,
 "worksheets": [
  {
   "cells": [
    {
     "cell_type": "code",
     "collapsed": false,
     "input": [
      "def offset(index, shape):\n",
      "    ndim = len(shape)\n",
      "    offset = 0\n",
      "    for i in xrange(ndim):\n",
      "        a = 1\n",
      "        for j in xrange(i,ndim-1):\n",
      "            a*=shape[j]\n",
      "        offset += a * index[i]\n",
      "    return offset\n",
      "    "
     ],
     "language": "python",
     "metadata": {},
     "outputs": [],
     "prompt_number": 10
    },
    {
     "cell_type": "code",
     "collapsed": false,
     "input": [
      "offset([1,2,3], [10,10,10])"
     ],
     "language": "python",
     "metadata": {},
     "outputs": [
      {
       "output_type": "pyout",
       "prompt_number": 2,
       "text": [
        "123"
       ]
      }
     ],
     "prompt_number": 2
    },
    {
     "cell_type": "code",
     "collapsed": false,
     "input": [
      "np.arange(10**3).reshape((10,10,10))[1,2,3]"
     ],
     "language": "python",
     "metadata": {},
     "outputs": [
      {
       "output_type": "pyout",
       "prompt_number": 4,
       "text": [
        "123"
       ]
      }
     ],
     "prompt_number": 4
    },
    {
     "cell_type": "code",
     "collapsed": false,
     "input": [
      "def rslice_offset(results, shape, start, stop, stride, dim=0, index=None):\n",
      "    if not index: index = []\n",
      "    ndim = len(shape)\n",
      "    if dim == ndim:\n",
      "        results.append(offset(index, shape))\n",
      "        return\n",
      "    for i in xrange(start[dim], stop[dim], stride[dim]):\n",
      "        index.append(i)\n",
      "        rslice_offset(results, shape, start, stop, stride, dim+1, index)\n",
      "        index.pop(-1)\n",
      "            \n",
      "def rslice_fill(fvalue, narray, shape, start, stop, stride):\n",
      "    offsets = []\n",
      "    rslice_offset(offsets, shape, start, stop, stride)\n",
      "    \n",
      "    for o in offsets:\n",
      "        print narray[o]\n",
      "        narray[o] = fvalue\n",
      "        print narray[o]\n",
      "        \n",
      "    \n",
      "    "
     ],
     "language": "python",
     "metadata": {},
     "outputs": [],
     "prompt_number": 29
    },
    {
     "cell_type": "code",
     "collapsed": false,
     "input": [
      "a = np.ones(2 * 2 * 2 * 4)\n",
      "rslice_fill(2, a, (2,2,2,4), (0,0,0,0), (1,1,1,4), (1,1,1,1))\n",
      "print a.reshape((2,2,2,4))"
     ],
     "language": "python",
     "metadata": {},
     "outputs": [
      {
       "output_type": "stream",
       "stream": "stdout",
       "text": [
        "1.0\n",
        "2.0\n",
        "1.0\n",
        "2.0\n",
        "1.0\n",
        "2.0\n",
        "1.0\n",
        "2.0\n",
        "[[[[ 2.  2.  2.  2.]\n",
        "   [ 1.  1.  1.  1.]]\n",
        "\n",
        "  [[ 1.  1.  1.  1.]\n",
        "   [ 1.  1.  1.  1.]]]\n",
        "\n",
        "\n",
        " [[[ 1.  1.  1.  1.]\n",
        "   [ 1.  1.  1.  1.]]\n",
        "\n",
        "  [[ 1.  1.  1.  1.]\n",
        "   [ 1.  1.  1.  1.]]]]\n"
       ]
      }
     ],
     "prompt_number": 30
    },
    {
     "cell_type": "code",
     "collapsed": false,
     "input": [
      "2**3"
     ],
     "language": "python",
     "metadata": {},
     "outputs": [
      {
       "output_type": "pyout",
       "prompt_number": 31,
       "text": [
        "8"
       ]
      }
     ],
     "prompt_number": 31
    },
    {
     "cell_type": "code",
     "collapsed": false,
     "input": [],
     "language": "python",
     "metadata": {},
     "outputs": []
    }
   ],
   "metadata": {}
  }
 ]
}