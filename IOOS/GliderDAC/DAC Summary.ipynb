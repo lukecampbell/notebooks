{
 "cells": [
  {
   "cell_type": "code",
   "execution_count": 1,
   "metadata": {
    "collapsed": false
   },
   "outputs": [
    {
     "name": "stderr",
     "output_type": "stream",
     "text": [
      "/Users/lcampbell/.virtualenvs/work/lib/python2.7/site-packages/numexpr-2.1-py2.7-macosx-10.10-intel.egg/numexpr/cpuinfo.py:71: UserWarning: [Errno 2] No such file or directory\n",
      "  stacklevel=stacklevel+1):\n"
     ]
    }
   ],
   "source": [
    "import requests\n",
    "import pandas\n",
    "\n",
    "r = requests.get('http://data.ioos.us/providers/api/deployment')\n",
    "if r.status_code != 200:\n",
    "    print r.content\n",
    "    raise IOError(\"Failed to retrieved deployment information\")\n",
    "data = r.json()"
   ]
  },
  {
   "cell_type": "code",
   "execution_count": 1,
   "metadata": {
    "collapsed": false
   },
   "outputs": [],
   "source": [
    "from gliderdac import GliderDAC"
   ]
  },
  {
   "cell_type": "code",
   "execution_count": 2,
   "metadata": {
    "collapsed": false
   },
   "outputs": [
    {
     "ename": "AttributeError",
     "evalue": "'dict' object has no attribute 'institution'",
     "output_type": "error",
     "traceback": [
      "\u001b[0;31m---------------------------------------------------------------------------\u001b[0m",
      "\u001b[0;31mAttributeError\u001b[0m                            Traceback (most recent call last)",
      "\u001b[0;32m<ipython-input-2-938f24146d4b>\u001b[0m in \u001b[0;36m<module>\u001b[0;34m()\u001b[0m\n\u001b[1;32m      1\u001b[0m \u001b[0mdeployments\u001b[0m \u001b[0;34m=\u001b[0m \u001b[0mGliderDAC\u001b[0m\u001b[0;34m.\u001b[0m\u001b[0mget_deployments\u001b[0m\u001b[0;34m(\u001b[0m\u001b[0;34m)\u001b[0m\u001b[0;34m\u001b[0m\u001b[0m\n\u001b[1;32m      2\u001b[0m \u001b[0mmetadata\u001b[0m \u001b[0;34m=\u001b[0m \u001b[0;34m[\u001b[0m\u001b[0mdeployment\u001b[0m\u001b[0;34m.\u001b[0m\u001b[0mget_metadata\u001b[0m\u001b[0;34m(\u001b[0m\u001b[0;34m)\u001b[0m \u001b[0;32mfor\u001b[0m \u001b[0mdeployment\u001b[0m \u001b[0;32min\u001b[0m \u001b[0mdeployments\u001b[0m\u001b[0;34m]\u001b[0m\u001b[0;34m\u001b[0m\u001b[0m\n\u001b[0;32m----> 3\u001b[0;31m \u001b[0minstitutions\u001b[0m \u001b[0;34m=\u001b[0m \u001b[0;34m[\u001b[0m\u001b[0mm\u001b[0m\u001b[0;34m.\u001b[0m\u001b[0mmetadata\u001b[0m\u001b[0;34m.\u001b[0m\u001b[0minstitution\u001b[0m \u001b[0;32mfor\u001b[0m \u001b[0mm\u001b[0m \u001b[0;32min\u001b[0m \u001b[0mmetadata\u001b[0m\u001b[0;34m]\u001b[0m\u001b[0;34m\u001b[0m\u001b[0m\n\u001b[0m\u001b[1;32m      4\u001b[0m \u001b[0minstitutions\u001b[0m\u001b[0;34m\u001b[0m\u001b[0m\n",
      "\u001b[0;31mAttributeError\u001b[0m: 'dict' object has no attribute 'institution'"
     ]
    }
   ],
   "source": [
    "deployments = GliderDAC.get_deployments()\n",
    "metadata = [deployment.get_metadata() for deployment in deployments]\n",
    "institutions = [m.metadata.institution for m in metadata]\n",
    "institutions"
   ]
  },
  {
   "cell_type": "code",
   "execution_count": 3,
   "metadata": {
    "collapsed": true
   },
   "outputs": [],
   "source": [
    "institutions = [m.metadata['institution'] for m in metadata]"
   ]
  },
  {
   "cell_type": "code",
   "execution_count": 4,
   "metadata": {
    "collapsed": false
   },
   "outputs": [
    {
     "data": {
      "text/plain": [
       "[u'National Oceanic and Atmospheric Administration (NOAA) / Atlantic Oceanographic and Meteorological Laboratory (AOML)',\n",
       " u'National Oceanic and Atmospheric Administration (NOAA) / Atlantic Oceanographic and Meteorological Laboratory (AOML)',\n",
       " u'GLOS/CILER',\n",
       " u'Rutgers University',\n",
       " u'Rutgers University',\n",
       " u'Rutgers University',\n",
       " u'Rutgers University',\n",
       " u'Rutgers University',\n",
       " u'Rutgers University',\n",
       " u'Rutgers University',\n",
       " u'Rutgers University',\n",
       " u'Scripps Institution of Oceanography',\n",
       " u'Scripps Institution of Oceanography',\n",
       " u'Scripps Institution of Oceanography',\n",
       " [u'Oregon State University\\nCollege of Earth',\n",
       "  u' Ocean and Atmospheric Sciences\\n104 CEOAS Admin Bldg\\nCorvallis',\n",
       "  u' OR 97331-5503'],\n",
       " u'Scripps Institution of Oceanography',\n",
       " u'Scripps Institution of Oceanography',\n",
       " u'Scripps Institution of Oceanography',\n",
       " u'Scripps Institution of Oceanography',\n",
       " u'Scripps Institution of Oceanography',\n",
       " u'Scripps Institution of Oceanography',\n",
       " u'Scripps Institution of Oceanography',\n",
       " u'Scripps Institution of Oceanography',\n",
       " u'Scripps Institution of Oceanography',\n",
       " u'Scripps Institution of Oceanography',\n",
       " u'Scripps Institution of Oceanography',\n",
       " u'Scripps Institution of Oceanography',\n",
       " u'Rutgers University',\n",
       " u'Rutgers University',\n",
       " u'Rutgers University',\n",
       " u'Rutgers University',\n",
       " u'Rutgers University',\n",
       " u'KOPRI',\n",
       " u'KOPRI',\n",
       " u'Rutgers University',\n",
       " u'Rutgers University',\n",
       " u'Scripps Institution of Oceanography',\n",
       " u'Rutgers University',\n",
       " u'Rutgers University',\n",
       " u'Scripps Institution of Oceanography',\n",
       " u'Scripps Institution of Oceanography',\n",
       " u'Scripps Institution of Oceanography',\n",
       " u'Rutgers University',\n",
       " u'University of Alaska Fairbanks',\n",
       " u'University of Delaware',\n",
       " u'Rutgers University',\n",
       " u'Rutgers University',\n",
       " u'Rutgers University',\n",
       " u'University of Delaware',\n",
       " u'Scripps Institution of Oceanography',\n",
       " u'Scripps Institution of Oceanography',\n",
       " u'Rutgers University',\n",
       " u'Rutgers University',\n",
       " u'Rutgers University',\n",
       " u'Scripps Institution of Oceanography',\n",
       " [u'Oregon State University\\nCollege of Earth',\n",
       "  u' Ocean and Atmospheric Sciences\\n104 CEOAS Admin Bldg\\nCorvallis',\n",
       "  u' OR 97331-5503'],\n",
       " u'Scripps Institution of Oceanography',\n",
       " u'Scripps Institution of Oceanography',\n",
       " u'National Oceanic and Atmospheric Administration (NOAA) / Atlantic Oceanographic and Meteorological Laboratory (AOML)',\n",
       " u'National Oceanic and Atmospheric Administration (NOAA) / Atlantic Oceanographic and Meteorological Laboratory (AOML)',\n",
       " u'Woods Hole Oceanographic Institution',\n",
       " u'Scripps Institution of Oceanography',\n",
       " u'Scripps Institution of Oceanography',\n",
       " u'TWRC',\n",
       " u'University of Minnesota-Duluth-LLO',\n",
       " [u'Ocean Sciences Department',\n",
       "  u' University of California',\n",
       "  u'1156 High Street',\n",
       "  u' Santa Cruz',\n",
       "  u'CA 95064']]"
      ]
     },
     "execution_count": 4,
     "metadata": {},
     "output_type": "execute_result"
    }
   ],
   "source": [
    "institutions"
   ]
  },
  {
   "cell_type": "code",
   "execution_count": 8,
   "metadata": {
    "collapsed": true
   },
   "outputs": [],
   "source": [
    "from collections import defaultdict\n",
    "counts = defaultdict(int)\n",
    "for inst in institutions:\n",
    "    if isinstance(inst, list):\n",
    "        inst = ' '.join(inst)\n",
    "    counts[inst] += 1\n",
    "    "
   ]
  },
  {
   "cell_type": "code",
   "execution_count": 7,
   "metadata": {
    "collapsed": false
   },
   "outputs": [],
   "source": [
    "class ListTable(list):\n",
    "    \"\"\" Overridden list class which takes a 2-dimensional list of \n",
    "        the form [[1,2,3],[4,5,6]], and renders an HTML Table in \n",
    "        IPython Notebook. \"\"\"\n",
    "    \n",
    "    def _repr_html_(self):\n",
    "        html = [\"<table>\"]\n",
    "        for row in self:\n",
    "            html.append(\"<tr>\")\n",
    "            \n",
    "            for col in row:\n",
    "                html.append(\"<td>{0}</td>\".format(col))\n",
    "            \n",
    "            html.append(\"</tr>\")\n",
    "        html.append(\"</table>\")\n",
    "        return ''.join(html)"
   ]
  },
  {
   "cell_type": "code",
   "execution_count": 9,
   "metadata": {
    "collapsed": true
   },
   "outputs": [],
   "source": [
    "table = ListTable()"
   ]
  },
  {
   "cell_type": "code",
   "execution_count": 10,
   "metadata": {
    "collapsed": false
   },
   "outputs": [
    {
     "data": {
      "text/html": [
       "<table><tr><td>Institution</td><td>Deployments</td></tr><tr><td>University of Minnesota-Duluth-LLO</td><td>1</td></tr><tr><td>National Oceanic and Atmospheric Administration (NOAA) / Atlantic Oceanographic and Meteorological Laboratory (AOML)</td><td>4</td></tr><tr><td>University of Alaska Fairbanks</td><td>1</td></tr><tr><td>University of Delaware</td><td>2</td></tr><tr><td>Oregon State University\n",
       "College of Earth  Ocean and Atmospheric Sciences\n",
       "104 CEOAS Admin Bldg\n",
       "Corvallis  OR 97331-5503</td><td>2</td></tr><tr><td>Scripps Institution of Oceanography</td><td>26</td></tr><tr><td>GLOS/CILER</td><td>1</td></tr><tr><td>Rutgers University</td><td>24</td></tr><tr><td>KOPRI</td><td>2</td></tr><tr><td>Ocean Sciences Department  University of California 1156 High Street  Santa Cruz CA 95064</td><td>1</td></tr><tr><td>TWRC</td><td>1</td></tr><tr><td>Woods Hole Oceanographic Institution</td><td>1</td></tr></table>"
      ],
      "text/plain": [
       "[['Institution', 'Deployments'],\n",
       " [u'University of Minnesota-Duluth-LLO', 1],\n",
       " [u'National Oceanic and Atmospheric Administration (NOAA) / Atlantic Oceanographic and Meteorological Laboratory (AOML)',\n",
       "  4],\n",
       " [u'University of Alaska Fairbanks', 1],\n",
       " [u'University of Delaware', 2],\n",
       " [u'Oregon State University\\nCollege of Earth  Ocean and Atmospheric Sciences\\n104 CEOAS Admin Bldg\\nCorvallis  OR 97331-5503',\n",
       "  2],\n",
       " [u'Scripps Institution of Oceanography', 26],\n",
       " [u'GLOS/CILER', 1],\n",
       " [u'Rutgers University', 24],\n",
       " [u'KOPRI', 2],\n",
       " [u'Ocean Sciences Department  University of California 1156 High Street  Santa Cruz CA 95064',\n",
       "  1],\n",
       " [u'TWRC', 1],\n",
       " [u'Woods Hole Oceanographic Institution', 1]]"
      ]
     },
     "execution_count": 10,
     "metadata": {},
     "output_type": "execute_result"
    }
   ],
   "source": [
    "table.append(['Institution', 'Deployments'])\n",
    "for key, val in counts.iteritems():\n",
    "    table.append([key, val])\n",
    "table"
   ]
  },
  {
   "cell_type": "code",
   "execution_count": 11,
   "metadata": {
    "collapsed": false
   },
   "outputs": [
    {
     "data": {
      "text/plain": [
       "12"
      ]
     },
     "execution_count": 11,
     "metadata": {},
     "output_type": "execute_result"
    }
   ],
   "source": [
    "len(counts)"
   ]
  },
  {
   "cell_type": "code",
   "execution_count": 12,
   "metadata": {
    "collapsed": false
   },
   "outputs": [
    {
     "data": {
      "text/plain": [
       "66"
      ]
     },
     "execution_count": 12,
     "metadata": {},
     "output_type": "execute_result"
    }
   ],
   "source": [
    "len(metadata)"
   ]
  },
  {
   "cell_type": "code",
   "execution_count": null,
   "metadata": {
    "collapsed": true
   },
   "outputs": [],
   "source": []
  }
 ],
 "metadata": {
  "kernelspec": {
   "display_name": "Python 2",
   "language": "python",
   "name": "python2"
  },
  "language_info": {
   "codemirror_mode": {
    "name": "ipython",
    "version": 2
   },
   "file_extension": ".py",
   "mimetype": "text/x-python",
   "name": "python",
   "nbconvert_exporter": "python",
   "pygments_lexer": "ipython2",
   "version": "2.7.6"
  }
 },
 "nbformat": 4,
 "nbformat_minor": 0
}
