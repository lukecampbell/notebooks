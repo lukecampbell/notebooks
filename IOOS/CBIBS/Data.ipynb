{
 "cells": [
  {
   "cell_type": "code",
   "execution_count": 1,
   "metadata": {
    "collapsed": true
   },
   "outputs": [],
   "source": [
    "from thredds_crawler.crawl import Crawl"
   ]
  },
  {
   "cell_type": "code",
   "execution_count": 2,
   "metadata": {
    "collapsed": true
   },
   "outputs": [],
   "source": [
    "c = Crawl('http://cbibs-dev.asa.rocks/thredds/catalog.xml')"
   ]
  },
  {
   "cell_type": "code",
   "execution_count": 3,
   "metadata": {
    "collapsed": false
   },
   "outputs": [
    {
     "data": {
      "text/plain": [
       "[<LeafDataset id: testDatasetScanOceanography/WaterQuality/44601/2014/cbibs-oceanography_WaterQuality_44601_201410_draft.nc, name: cbibs-oceanography_WaterQuality_44601_201410_draft.nc, services: ['OPENDAP', 'HTTPServer']>,\n",
       " <LeafDataset id: testDatasetScanOceanography/WaterQuality/44601/2014/cbibs-oceanography_WaterQuality_44601_201409_draft.nc, name: cbibs-oceanography_WaterQuality_44601_201409_draft.nc, services: ['OPENDAP', 'HTTPServer']>,\n",
       " <LeafDataset id: testDatasetScanOceanography/WaterQuality/44601/2014/cbibs-oceanography_WaterQuality_44601_201408_draft.nc, name: cbibs-oceanography_WaterQuality_44601_201408_draft.nc, services: ['OPENDAP', 'HTTPServer']>,\n",
       " <LeafDataset id: testDatasetScanOceanography/WaterQuality/44601/2014/cbibs-oceanography_WaterQuality_44601_201407_draft.nc, name: cbibs-oceanography_WaterQuality_44601_201407_draft.nc, services: ['OPENDAP', 'HTTPServer']>,\n",
       " <LeafDataset id: testDatasetScanOceanography/WaterQuality/44068/2014/cbibs-oceanography_WaterQuality_44068_201410_draft.nc, name: cbibs-oceanography_WaterQuality_44068_201410_draft.nc, services: ['OPENDAP', 'HTTPServer']>,\n",
       " <LeafDataset id: testDatasetScanOceanography/WaterQuality/44068/2014/cbibs-oceanography_WaterQuality_44068_201409_draft.nc, name: cbibs-oceanography_WaterQuality_44068_201409_draft.nc, services: ['OPENDAP', 'HTTPServer']>,\n",
       " <LeafDataset id: testDatasetScanOceanography/WaterQuality/44068/2014/cbibs-oceanography_WaterQuality_44068_201408_draft.nc, name: cbibs-oceanography_WaterQuality_44068_201408_draft.nc, services: ['OPENDAP', 'HTTPServer']>,\n",
       " <LeafDataset id: testDatasetScanOceanography/WaterQuality/44068/2014/cbibs-oceanography_WaterQuality_44068_201407_draft.nc, name: cbibs-oceanography_WaterQuality_44068_201407_draft.nc, services: ['OPENDAP', 'HTTPServer']>,\n",
       " <LeafDataset id: testDatasetScanOceanography/WaterQuality/44064/2014/cbibs-oceanography_WaterQuality_44064_201410_draft.nc, name: cbibs-oceanography_WaterQuality_44064_201410_draft.nc, services: ['OPENDAP', 'HTTPServer']>,\n",
       " <LeafDataset id: testDatasetScanOceanography/WaterQuality/44064/2014/cbibs-oceanography_WaterQuality_44064_201409_draft.nc, name: cbibs-oceanography_WaterQuality_44064_201409_draft.nc, services: ['OPENDAP', 'HTTPServer']>,\n",
       " <LeafDataset id: testDatasetScanOceanography/WaterQuality/44064/2014/cbibs-oceanography_WaterQuality_44064_201408_draft.nc, name: cbibs-oceanography_WaterQuality_44064_201408_draft.nc, services: ['OPENDAP', 'HTTPServer']>,\n",
       " <LeafDataset id: testDatasetScanOceanography/WaterQuality/44064/2014/cbibs-oceanography_WaterQuality_44064_201407_draft.nc, name: cbibs-oceanography_WaterQuality_44064_201407_draft.nc, services: ['OPENDAP', 'HTTPServer']>,\n",
       " <LeafDataset id: testDatasetScanOceanography/WaterQuality/44063/2014/cbibs-oceanography_WaterQuality_44063_201410_draft.nc, name: cbibs-oceanography_WaterQuality_44063_201410_draft.nc, services: ['OPENDAP', 'HTTPServer']>,\n",
       " <LeafDataset id: testDatasetScanOceanography/WaterQuality/44063/2014/cbibs-oceanography_WaterQuality_44063_201409_draft.nc, name: cbibs-oceanography_WaterQuality_44063_201409_draft.nc, services: ['OPENDAP', 'HTTPServer']>,\n",
       " <LeafDataset id: testDatasetScanOceanography/WaterQuality/44063/2014/cbibs-oceanography_WaterQuality_44063_201408_draft.nc, name: cbibs-oceanography_WaterQuality_44063_201408_draft.nc, services: ['OPENDAP', 'HTTPServer']>,\n",
       " <LeafDataset id: testDatasetScanOceanography/WaterQuality/44063/2014/cbibs-oceanography_WaterQuality_44063_201407_draft.nc, name: cbibs-oceanography_WaterQuality_44063_201407_draft.nc, services: ['OPENDAP', 'HTTPServer']>,\n",
       " <LeafDataset id: testDatasetScanOceanography/WaterQuality/44062/2014/cbibs-oceanography_WaterQuality_44062_201410_draft.nc, name: cbibs-oceanography_WaterQuality_44062_201410_draft.nc, services: ['OPENDAP', 'HTTPServer']>,\n",
       " <LeafDataset id: testDatasetScanOceanography/WaterQuality/44062/2014/cbibs-oceanography_WaterQuality_44062_201409_draft.nc, name: cbibs-oceanography_WaterQuality_44062_201409_draft.nc, services: ['OPENDAP', 'HTTPServer']>,\n",
       " <LeafDataset id: testDatasetScanOceanography/WaterQuality/44062/2014/cbibs-oceanography_WaterQuality_44062_201408_draft.nc, name: cbibs-oceanography_WaterQuality_44062_201408_draft.nc, services: ['OPENDAP', 'HTTPServer']>,\n",
       " <LeafDataset id: testDatasetScanOceanography/WaterQuality/44062/2014/cbibs-oceanography_WaterQuality_44062_201407_draft.nc, name: cbibs-oceanography_WaterQuality_44062_201407_draft.nc, services: ['OPENDAP', 'HTTPServer']>,\n",
       " <LeafDataset id: testDatasetScanOceanography/WaterQuality/44062/2014/cbibs-oceanography_WaterQuality_44062_201406_draft.nc, name: cbibs-oceanography_WaterQuality_44062_201406_draft.nc, services: ['OPENDAP', 'HTTPServer']>,\n",
       " <LeafDataset id: testDatasetScanOceanography/WaterQuality/44059/2014/cbibs-oceanography_WaterQuality_44059_201410_draft.nc, name: cbibs-oceanography_WaterQuality_44059_201410_draft.nc, services: ['OPENDAP', 'HTTPServer']>,\n",
       " <LeafDataset id: testDatasetScanOceanography/WaterQuality/44059/2014/cbibs-oceanography_WaterQuality_44059_201409_draft.nc, name: cbibs-oceanography_WaterQuality_44059_201409_draft.nc, services: ['OPENDAP', 'HTTPServer']>,\n",
       " <LeafDataset id: testDatasetScanOceanography/WaterQuality/44059/2014/cbibs-oceanography_WaterQuality_44059_201408_draft.nc, name: cbibs-oceanography_WaterQuality_44059_201408_draft.nc, services: ['OPENDAP', 'HTTPServer']>,\n",
       " <LeafDataset id: testDatasetScanOceanography/WaterQuality/44059/2014/cbibs-oceanography_WaterQuality_44059_201407_draft.nc, name: cbibs-oceanography_WaterQuality_44059_201407_draft.nc, services: ['OPENDAP', 'HTTPServer']>,\n",
       " <LeafDataset id: testDatasetScanOceanography/WaterQuality/44058/2014/cbibs-oceanography_WaterQuality_44058_201410_draft.nc, name: cbibs-oceanography_WaterQuality_44058_201410_draft.nc, services: ['OPENDAP', 'HTTPServer']>,\n",
       " <LeafDataset id: testDatasetScanOceanography/WaterQuality/44058/2014/cbibs-oceanography_WaterQuality_44058_201409_draft.nc, name: cbibs-oceanography_WaterQuality_44058_201409_draft.nc, services: ['OPENDAP', 'HTTPServer']>,\n",
       " <LeafDataset id: testDatasetScanOceanography/WaterQuality/44058/2014/cbibs-oceanography_WaterQuality_44058_201408_draft.nc, name: cbibs-oceanography_WaterQuality_44058_201408_draft.nc, services: ['OPENDAP', 'HTTPServer']>,\n",
       " <LeafDataset id: testDatasetScanOceanography/WaterQuality/44058/2014/cbibs-oceanography_WaterQuality_44058_201407_draft.nc, name: cbibs-oceanography_WaterQuality_44058_201407_draft.nc, services: ['OPENDAP', 'HTTPServer']>,\n",
       " <LeafDataset id: testDatasetScanOceanography/WaterQuality/44057/2014/cbibs-oceanography_WaterQuality_44057_201410_draft.nc, name: cbibs-oceanography_WaterQuality_44057_201410_draft.nc, services: ['OPENDAP', 'HTTPServer']>,\n",
       " <LeafDataset id: testDatasetScanOceanography/WaterQuality/44057/2014/cbibs-oceanography_WaterQuality_44057_201409_draft.nc, name: cbibs-oceanography_WaterQuality_44057_201409_draft.nc, services: ['OPENDAP', 'HTTPServer']>,\n",
       " <LeafDataset id: testDatasetScanOceanography/WaterQuality/44057/2014/cbibs-oceanography_WaterQuality_44057_201408_draft.nc, name: cbibs-oceanography_WaterQuality_44057_201408_draft.nc, services: ['OPENDAP', 'HTTPServer']>,\n",
       " <LeafDataset id: testDatasetScanOceanography/WaterQuality/44057/2014/cbibs-oceanography_WaterQuality_44057_201407_draft.nc, name: cbibs-oceanography_WaterQuality_44057_201407_draft.nc, services: ['OPENDAP', 'HTTPServer']>,\n",
       " <LeafDataset id: testDatasetScanOceanography/WaterQuality/44043/2014/cbibs-oceanography_WaterQuality_44043_201410_draft.nc, name: cbibs-oceanography_WaterQuality_44043_201410_draft.nc, services: ['OPENDAP', 'HTTPServer']>,\n",
       " <LeafDataset id: testDatasetScanOceanography/WaterQuality/44043/2014/cbibs-oceanography_WaterQuality_44043_201409_draft.nc, name: cbibs-oceanography_WaterQuality_44043_201409_draft.nc, services: ['OPENDAP', 'HTTPServer']>,\n",
       " <LeafDataset id: testDatasetScanOceanography/WaterQuality/44043/2014/cbibs-oceanography_WaterQuality_44043_201408_draft.nc, name: cbibs-oceanography_WaterQuality_44043_201408_draft.nc, services: ['OPENDAP', 'HTTPServer']>,\n",
       " <LeafDataset id: testDatasetScanOceanography/WaterQuality/44043/2014/cbibs-oceanography_WaterQuality_44043_201407_draft.nc, name: cbibs-oceanography_WaterQuality_44043_201407_draft.nc, services: ['OPENDAP', 'HTTPServer']>,\n",
       " <LeafDataset id: testDatasetScanOceanography/WaterQuality/44042/2014/cbibs-oceanography_WaterQuality_44042_201410_draft.nc, name: cbibs-oceanography_WaterQuality_44042_201410_draft.nc, services: ['OPENDAP', 'HTTPServer']>,\n",
       " <LeafDataset id: testDatasetScanOceanography/WaterQuality/44042/2014/cbibs-oceanography_WaterQuality_44042_201409_draft.nc, name: cbibs-oceanography_WaterQuality_44042_201409_draft.nc, services: ['OPENDAP', 'HTTPServer']>,\n",
       " <LeafDataset id: testDatasetScanOceanography/WaterQuality/44042/2014/cbibs-oceanography_WaterQuality_44042_201408_draft.nc, name: cbibs-oceanography_WaterQuality_44042_201408_draft.nc, services: ['OPENDAP', 'HTTPServer']>,\n",
       " <LeafDataset id: testDatasetScanOceanography/WaterQuality/44042/2014/cbibs-oceanography_WaterQuality_44042_201407_draft.nc, name: cbibs-oceanography_WaterQuality_44042_201407_draft.nc, services: ['OPENDAP', 'HTTPServer']>,\n",
       " <LeafDataset id: testDatasetScanOceanography/WaterQuality/44041/2014/cbibs-oceanography_WaterQuality_44041_201410_draft.nc, name: cbibs-oceanography_WaterQuality_44041_201410_draft.nc, services: ['OPENDAP', 'HTTPServer']>,\n",
       " <LeafDataset id: testDatasetScanOceanography/WaterQuality/44041/2014/cbibs-oceanography_WaterQuality_44041_201409_draft.nc, name: cbibs-oceanography_WaterQuality_44041_201409_draft.nc, services: ['OPENDAP', 'HTTPServer']>,\n",
       " <LeafDataset id: testDatasetScanOceanography/WaterQuality/44041/2014/cbibs-oceanography_WaterQuality_44041_201408_draft.nc, name: cbibs-oceanography_WaterQuality_44041_201408_draft.nc, services: ['OPENDAP', 'HTTPServer']>,\n",
       " <LeafDataset id: testDatasetScanOceanography/WaterQuality/44041/2014/cbibs-oceanography_WaterQuality_44041_201407_draft.nc, name: cbibs-oceanography_WaterQuality_44041_201407_draft.nc, services: ['OPENDAP', 'HTTPServer']>,\n",
       " <LeafDataset id: testDatasetScanOceanography/Meteorological/44601/2014/cbibs-oceanography_Meteorological_44601_201410_draft.nc, name: cbibs-oceanography_Meteorological_44601_201410_draft.nc, services: ['OPENDAP', 'HTTPServer']>,\n",
       " <LeafDataset id: testDatasetScanOceanography/Meteorological/44601/2014/cbibs-oceanography_Meteorological_44601_201409_draft.nc, name: cbibs-oceanography_Meteorological_44601_201409_draft.nc, services: ['OPENDAP', 'HTTPServer']>,\n",
       " <LeafDataset id: testDatasetScanOceanography/Meteorological/44601/2014/cbibs-oceanography_Meteorological_44601_201408_draft.nc, name: cbibs-oceanography_Meteorological_44601_201408_draft.nc, services: ['OPENDAP', 'HTTPServer']>,\n",
       " <LeafDataset id: testDatasetScanOceanography/Meteorological/44601/2014/cbibs-oceanography_Meteorological_44601_201407_draft.nc, name: cbibs-oceanography_Meteorological_44601_201407_draft.nc, services: ['OPENDAP', 'HTTPServer']>,\n",
       " <LeafDataset id: testDatasetScanOceanography/Meteorological/44068/2014/cbibs-oceanography_Meteorological_44068_201410_draft.nc, name: cbibs-oceanography_Meteorological_44068_201410_draft.nc, services: ['OPENDAP', 'HTTPServer']>,\n",
       " <LeafDataset id: testDatasetScanOceanography/Meteorological/44068/2014/cbibs-oceanography_Meteorological_44068_201409_draft.nc, name: cbibs-oceanography_Meteorological_44068_201409_draft.nc, services: ['OPENDAP', 'HTTPServer']>,\n",
       " <LeafDataset id: testDatasetScanOceanography/Meteorological/44068/2014/cbibs-oceanography_Meteorological_44068_201408_draft.nc, name: cbibs-oceanography_Meteorological_44068_201408_draft.nc, services: ['OPENDAP', 'HTTPServer']>,\n",
       " <LeafDataset id: testDatasetScanOceanography/Meteorological/44068/2014/cbibs-oceanography_Meteorological_44068_201407_draft.nc, name: cbibs-oceanography_Meteorological_44068_201407_draft.nc, services: ['OPENDAP', 'HTTPServer']>,\n",
       " <LeafDataset id: testDatasetScanOceanography/Meteorological/44064/2014/cbibs-oceanography_Meteorological_44064_201410_draft.nc, name: cbibs-oceanography_Meteorological_44064_201410_draft.nc, services: ['OPENDAP', 'HTTPServer']>,\n",
       " <LeafDataset id: testDatasetScanOceanography/Meteorological/44064/2014/cbibs-oceanography_Meteorological_44064_201409_draft.nc, name: cbibs-oceanography_Meteorological_44064_201409_draft.nc, services: ['OPENDAP', 'HTTPServer']>,\n",
       " <LeafDataset id: testDatasetScanOceanography/Meteorological/44064/2014/cbibs-oceanography_Meteorological_44064_201408_draft.nc, name: cbibs-oceanography_Meteorological_44064_201408_draft.nc, services: ['OPENDAP', 'HTTPServer']>,\n",
       " <LeafDataset id: testDatasetScanOceanography/Meteorological/44064/2014/cbibs-oceanography_Meteorological_44064_201407_draft.nc, name: cbibs-oceanography_Meteorological_44064_201407_draft.nc, services: ['OPENDAP', 'HTTPServer']>,\n",
       " <LeafDataset id: testDatasetScanOceanography/Meteorological/44063/2014/cbibs-oceanography_Meteorological_44063_201410_draft.nc, name: cbibs-oceanography_Meteorological_44063_201410_draft.nc, services: ['OPENDAP', 'HTTPServer']>,\n",
       " <LeafDataset id: testDatasetScanOceanography/Meteorological/44063/2014/cbibs-oceanography_Meteorological_44063_201409_draft.nc, name: cbibs-oceanography_Meteorological_44063_201409_draft.nc, services: ['OPENDAP', 'HTTPServer']>,\n",
       " <LeafDataset id: testDatasetScanOceanography/Meteorological/44063/2014/cbibs-oceanography_Meteorological_44063_201408_draft.nc, name: cbibs-oceanography_Meteorological_44063_201408_draft.nc, services: ['OPENDAP', 'HTTPServer']>,\n",
       " <LeafDataset id: testDatasetScanOceanography/Meteorological/44063/2014/cbibs-oceanography_Meteorological_44063_201407_draft.nc, name: cbibs-oceanography_Meteorological_44063_201407_draft.nc, services: ['OPENDAP', 'HTTPServer']>,\n",
       " <LeafDataset id: testDatasetScanOceanography/Meteorological/44062/2014/cbibs-oceanography_Meteorological_44062_201410_draft.nc, name: cbibs-oceanography_Meteorological_44062_201410_draft.nc, services: ['OPENDAP', 'HTTPServer']>,\n",
       " <LeafDataset id: testDatasetScanOceanography/Meteorological/44062/2014/cbibs-oceanography_Meteorological_44062_201409_draft.nc, name: cbibs-oceanography_Meteorological_44062_201409_draft.nc, services: ['OPENDAP', 'HTTPServer']>,\n",
       " <LeafDataset id: testDatasetScanOceanography/Meteorological/44062/2014/cbibs-oceanography_Meteorological_44062_201408_draft.nc, name: cbibs-oceanography_Meteorological_44062_201408_draft.nc, services: ['OPENDAP', 'HTTPServer']>,\n",
       " <LeafDataset id: testDatasetScanOceanography/Meteorological/44062/2014/cbibs-oceanography_Meteorological_44062_201407_draft.nc, name: cbibs-oceanography_Meteorological_44062_201407_draft.nc, services: ['OPENDAP', 'HTTPServer']>,\n",
       " <LeafDataset id: testDatasetScanOceanography/Meteorological/44062/2014/cbibs-oceanography_Meteorological_44062_201406_draft.nc, name: cbibs-oceanography_Meteorological_44062_201406_draft.nc, services: ['OPENDAP', 'HTTPServer']>,\n",
       " <LeafDataset id: testDatasetScanOceanography/Meteorological/44059/2014/cbibs-oceanography_Meteorological_44059_201410_draft.nc, name: cbibs-oceanography_Meteorological_44059_201410_draft.nc, services: ['OPENDAP', 'HTTPServer']>,\n",
       " <LeafDataset id: testDatasetScanOceanography/Meteorological/44059/2014/cbibs-oceanography_Meteorological_44059_201409_draft.nc, name: cbibs-oceanography_Meteorological_44059_201409_draft.nc, services: ['OPENDAP', 'HTTPServer']>,\n",
       " <LeafDataset id: testDatasetScanOceanography/Meteorological/44059/2014/cbibs-oceanography_Meteorological_44059_201408_draft.nc, name: cbibs-oceanography_Meteorological_44059_201408_draft.nc, services: ['OPENDAP', 'HTTPServer']>,\n",
       " <LeafDataset id: testDatasetScanOceanography/Meteorological/44059/2014/cbibs-oceanography_Meteorological_44059_201407_draft.nc, name: cbibs-oceanography_Meteorological_44059_201407_draft.nc, services: ['OPENDAP', 'HTTPServer']>,\n",
       " <LeafDataset id: testDatasetScanOceanography/Meteorological/44058/2014/cbibs-oceanography_Meteorological_44058_201410_draft.nc, name: cbibs-oceanography_Meteorological_44058_201410_draft.nc, services: ['OPENDAP', 'HTTPServer']>,\n",
       " <LeafDataset id: testDatasetScanOceanography/Meteorological/44058/2014/cbibs-oceanography_Meteorological_44058_201409_draft.nc, name: cbibs-oceanography_Meteorological_44058_201409_draft.nc, services: ['OPENDAP', 'HTTPServer']>,\n",
       " <LeafDataset id: testDatasetScanOceanography/Meteorological/44058/2014/cbibs-oceanography_Meteorological_44058_201408_draft.nc, name: cbibs-oceanography_Meteorological_44058_201408_draft.nc, services: ['OPENDAP', 'HTTPServer']>,\n",
       " <LeafDataset id: testDatasetScanOceanography/Meteorological/44058/2014/cbibs-oceanography_Meteorological_44058_201407_draft.nc, name: cbibs-oceanography_Meteorological_44058_201407_draft.nc, services: ['OPENDAP', 'HTTPServer']>,\n",
       " <LeafDataset id: testDatasetScanOceanography/Meteorological/44057/2014/cbibs-oceanography_Meteorological_44057_201410_draft.nc, name: cbibs-oceanography_Meteorological_44057_201410_draft.nc, services: ['OPENDAP', 'HTTPServer']>,\n",
       " <LeafDataset id: testDatasetScanOceanography/Meteorological/44057/2014/cbibs-oceanography_Meteorological_44057_201409_draft.nc, name: cbibs-oceanography_Meteorological_44057_201409_draft.nc, services: ['OPENDAP', 'HTTPServer']>,\n",
       " <LeafDataset id: testDatasetScanOceanography/Meteorological/44057/2014/cbibs-oceanography_Meteorological_44057_201408_draft.nc, name: cbibs-oceanography_Meteorological_44057_201408_draft.nc, services: ['OPENDAP', 'HTTPServer']>,\n",
       " <LeafDataset id: testDatasetScanOceanography/Meteorological/44057/2014/cbibs-oceanography_Meteorological_44057_201407_draft.nc, name: cbibs-oceanography_Meteorological_44057_201407_draft.nc, services: ['OPENDAP', 'HTTPServer']>,\n",
       " <LeafDataset id: testDatasetScanOceanography/Meteorological/44043/2014/cbibs-oceanography_Meteorological_44043_201410_draft.nc, name: cbibs-oceanography_Meteorological_44043_201410_draft.nc, services: ['OPENDAP', 'HTTPServer']>,\n",
       " <LeafDataset id: testDatasetScanOceanography/Meteorological/44043/2014/cbibs-oceanography_Meteorological_44043_201409_draft.nc, name: cbibs-oceanography_Meteorological_44043_201409_draft.nc, services: ['OPENDAP', 'HTTPServer']>,\n",
       " <LeafDataset id: testDatasetScanOceanography/Meteorological/44043/2014/cbibs-oceanography_Meteorological_44043_201408_draft.nc, name: cbibs-oceanography_Meteorological_44043_201408_draft.nc, services: ['OPENDAP', 'HTTPServer']>,\n",
       " <LeafDataset id: testDatasetScanOceanography/Meteorological/44043/2014/cbibs-oceanography_Meteorological_44043_201407_draft.nc, name: cbibs-oceanography_Meteorological_44043_201407_draft.nc, services: ['OPENDAP', 'HTTPServer']>,\n",
       " <LeafDataset id: testDatasetScanOceanography/Meteorological/44042/2014/cbibs-oceanography_Meteorological_44042_201410_draft.nc, name: cbibs-oceanography_Meteorological_44042_201410_draft.nc, services: ['OPENDAP', 'HTTPServer']>,\n",
       " <LeafDataset id: testDatasetScanOceanography/Meteorological/44042/2014/cbibs-oceanography_Meteorological_44042_201409_draft.nc, name: cbibs-oceanography_Meteorological_44042_201409_draft.nc, services: ['OPENDAP', 'HTTPServer']>,\n",
       " <LeafDataset id: testDatasetScanOceanography/Meteorological/44042/2014/cbibs-oceanography_Meteorological_44042_201408_draft.nc, name: cbibs-oceanography_Meteorological_44042_201408_draft.nc, services: ['OPENDAP', 'HTTPServer']>,\n",
       " <LeafDataset id: testDatasetScanOceanography/Meteorological/44042/2014/cbibs-oceanography_Meteorological_44042_201407_draft.nc, name: cbibs-oceanography_Meteorological_44042_201407_draft.nc, services: ['OPENDAP', 'HTTPServer']>,\n",
       " <LeafDataset id: testDatasetScanOceanography/Meteorological/44041/2014/cbibs-oceanography_Meteorological_44041_201410_draft.nc, name: cbibs-oceanography_Meteorological_44041_201410_draft.nc, services: ['OPENDAP', 'HTTPServer']>,\n",
       " <LeafDataset id: testDatasetScanOceanography/Meteorological/44041/2014/cbibs-oceanography_Meteorological_44041_201409_draft.nc, name: cbibs-oceanography_Meteorological_44041_201409_draft.nc, services: ['OPENDAP', 'HTTPServer']>,\n",
       " <LeafDataset id: testDatasetScanOceanography/Meteorological/44041/2014/cbibs-oceanography_Meteorological_44041_201408_draft.nc, name: cbibs-oceanography_Meteorological_44041_201408_draft.nc, services: ['OPENDAP', 'HTTPServer']>,\n",
       " <LeafDataset id: testDatasetScanOceanography/Meteorological/44041/2014/cbibs-oceanography_Meteorological_44041_201407_draft.nc, name: cbibs-oceanography_Meteorological_44041_201407_draft.nc, services: ['OPENDAP', 'HTTPServer']>]"
      ]
     },
     "execution_count": 3,
     "metadata": {},
     "output_type": "execute_result"
    }
   ],
   "source": [
    "c.datasets"
   ]
  },
  {
   "cell_type": "code",
   "execution_count": 3,
   "metadata": {
    "collapsed": false
   },
   "outputs": [],
   "source": [
    "from netCDF4 import Dataset\n",
    "records = []\n",
    "for dataset in c.datasets:\n",
    "    odap = [i for i in dataset.services if i['name'] == 'odap']\n",
    "    if not odap:\n",
    "        continue\n",
    "    odap = odap[0]\n",
    "    with Dataset(odap['url'], 'r') as nc:\n",
    "        record = {\n",
    "            'category_id':'cbibs',\n",
    "            'id' : 'test',\n",
    "            'service_type' : 'thredds',\n",
    "            'station_id': '',\n",
    "            'title':nc.title,\n",
    "            'url' : odap['url']\n",
    "        }\n",
    "        records.append(record)\n",
    "            \n",
    "        "
   ]
  },
  {
   "cell_type": "code",
   "execution_count": null,
   "metadata": {
    "collapsed": true
   },
   "outputs": [],
   "source": []
  }
 ],
 "metadata": {
  "kernelspec": {
   "display_name": "Python 2",
   "language": "python",
   "name": "python2"
  },
  "language_info": {
   "codemirror_mode": {
    "name": "ipython",
    "version": 2
   },
   "file_extension": ".py",
   "mimetype": "text/x-python",
   "name": "python",
   "nbconvert_exporter": "python",
   "pygments_lexer": "ipython2",
   "version": "2.7.6"
  }
 },
 "nbformat": 4,
 "nbformat_minor": 0
}
