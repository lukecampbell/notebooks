{
 "cells": [
  {
   "cell_type": "code",
   "execution_count": 1,
   "metadata": {
    "collapsed": true
   },
   "outputs": [],
   "source": [
    "from owslib.iso import MD_Metadata"
   ]
  },
  {
   "cell_type": "code",
   "execution_count": 2,
   "metadata": {
    "collapsed": true
   },
   "outputs": [],
   "source": [
    "with open('/tmp/iso.xml') as f:\n",
    "    buf = f.read()"
   ]
  },
  {
   "cell_type": "code",
   "execution_count": 3,
   "metadata": {
    "collapsed": true
   },
   "outputs": [],
   "source": [
    "from lxml import etree\n",
    "tree = etree.fromstring(buf)\n",
    "\n",
    "metadata = MD_Metadata(tree)"
   ]
  },
  {
   "cell_type": "code",
   "execution_count": 4,
   "metadata": {
    "collapsed": false
   },
   "outputs": [
    {
     "data": {
      "text/plain": [
       "[<owslib.iso.MD_DataIdentification at 0x10f3c9750>,\n",
       " <owslib.iso.SV_ServiceIdentification at 0x10f3bdb50>,\n",
       " <owslib.iso.SV_ServiceIdentification at 0x10f3c99d0>,\n",
       " <owslib.iso.SV_ServiceIdentification at 0x10f3b0550>]"
      ]
     },
     "execution_count": 4,
     "metadata": {},
     "output_type": "execute_result"
    }
   ],
   "source": [
    "metadata.identificationinfo"
   ]
  },
  {
   "cell_type": "code",
   "execution_count": 10,
   "metadata": {
    "collapsed": false
   },
   "outputs": [],
   "source": [
    "i = metadata.identificationinfo[1]"
   ]
  },
  {
   "cell_type": "code",
   "execution_count": 12,
   "metadata": {
    "collapsed": false
   },
   "outputs": [
    {
     "data": {
      "text/plain": [
       "'service'"
      ]
     },
     "execution_count": 12,
     "metadata": {},
     "output_type": "execute_result"
    }
   ],
   "source": [
    "i.identtype"
   ]
  },
  {
   "cell_type": "code",
   "execution_count": 14,
   "metadata": {
    "collapsed": false
   },
   "outputs": [],
   "source": [
    "griddap_key = 'ERDDAPgriddapDatasetQueryAndAccess'"
   ]
  },
  {
   "cell_type": "code",
   "execution_count": 20,
   "metadata": {
    "collapsed": false
   },
   "outputs": [
    {
     "name": "stdout",
     "output_type": "stream",
     "text": [
      "http://coastwatch.pfeg.noaa.gov/erddap/griddap/osuSstClimate\n"
     ]
    }
   ],
   "source": [
    "for ident in metadata.identificationinfo:\n",
    "    if ident.identtype == 'service':\n",
    "        operations = {k['name'] : k for k in ident.operations}\n",
    "        if griddap_key in operations:\n",
    "            print operations[griddap_key]['connectpoint'][0].url"
   ]
  },
  {
   "cell_type": "code",
   "execution_count": 25,
   "metadata": {
    "collapsed": true
   },
   "outputs": [],
   "source": [
    "import requests\n",
    "url = 'http://coastwatch.pfeg.noaa.gov/erddap/metadata/iso19115/xml/erdCalCOFIeggstg_iso19115.xml'\n",
    "r = requests.get(url)\n",
    "tree = etree.fromstring(r.content)"
   ]
  },
  {
   "cell_type": "code",
   "execution_count": 26,
   "metadata": {
    "collapsed": true
   },
   "outputs": [],
   "source": [
    "metadata = MD_Metadata(tree)"
   ]
  },
  {
   "cell_type": "code",
   "execution_count": 27,
   "metadata": {
    "collapsed": false
   },
   "outputs": [
    {
     "data": {
      "text/plain": [
       "[<owslib.iso.MD_DataIdentification at 0x10f43be10>,\n",
       " <owslib.iso.SV_ServiceIdentification at 0x10f4f68d0>,\n",
       " <owslib.iso.SV_ServiceIdentification at 0x10f5041d0>,\n",
       " <owslib.iso.SV_ServiceIdentification at 0x10f4349d0>]"
      ]
     },
     "execution_count": 27,
     "metadata": {},
     "output_type": "execute_result"
    }
   ],
   "source": [
    "metadata.identificationinfo"
   ]
  },
  {
   "cell_type": "code",
   "execution_count": 29,
   "metadata": {
    "collapsed": false
   },
   "outputs": [
    {
     "name": "stdout",
     "output_type": "stream",
     "text": [
      "['ERDDAPtabledapDatasetQueryAndAccess']\n",
      "['OPeNDAPDatasetQueryAndAccess']\n",
      "['ERDDAP_Subset']\n"
     ]
    }
   ],
   "source": [
    "for ident in metadata.identificationinfo:\n",
    "    if ident.identtype != 'service':\n",
    "        continue\n",
    "    print [i['name'] for i in ident.operations]"
   ]
  },
  {
   "cell_type": "code",
   "execution_count": null,
   "metadata": {
    "collapsed": true
   },
   "outputs": [],
   "source": []
  }
 ],
 "metadata": {
  "kernelspec": {
   "display_name": "Python 2",
   "language": "python",
   "name": "python2"
  },
  "language_info": {
   "codemirror_mode": {
    "name": "ipython",
    "version": 2
   },
   "file_extension": ".py",
   "mimetype": "text/x-python",
   "name": "python",
   "nbconvert_exporter": "python",
   "pygments_lexer": "ipython2",
   "version": "2.7.6"
  }
 },
 "nbformat": 4,
 "nbformat_minor": 0
}
