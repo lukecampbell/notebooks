{
 "metadata": {
  "name": ""
 },
 "nbformat": 3,
 "nbformat_minor": 0,
 "worksheets": [
  {
   "cells": [
    {
     "cell_type": "markdown",
     "metadata": {},
     "source": [
      "Trying out some ideas with determinants"
     ]
    },
    {
     "cell_type": "code",
     "collapsed": false,
     "input": [
      "a = np.arange(9).reshape(3,3)\n",
      "print repr(a)"
     ],
     "language": "python",
     "metadata": {},
     "outputs": [
      {
       "output_type": "stream",
       "stream": "stdout",
       "text": [
        "array([[0, 1, 2],\n",
        "       [3, 4, 5],\n",
        "       [6, 7, 8]])\n"
       ]
      }
     ],
     "prompt_number": 1
    },
    {
     "cell_type": "code",
     "collapsed": false,
     "input": [
      "np.linalg.det(a)"
     ],
     "language": "python",
     "metadata": {},
     "outputs": [
      {
       "metadata": {},
       "output_type": "pyout",
       "prompt_number": 2,
       "text": [
        "0.0"
       ]
      }
     ],
     "prompt_number": 2
    },
    {
     "cell_type": "markdown",
     "metadata": {},
     "source": [
      "Okay let's use it to determine the are of a triangle.\n",
      "\n",
      "Consider a triangle:"
     ]
    },
    {
     "cell_type": "code",
     "collapsed": false,
     "input": [
      "from matplotlib.patches import Polygon\n",
      "triangle = np.array([(0,0), (1,2), (0.5, -1)])\n",
      "fig = plt.subplot(111)\n",
      "poly = Polygon(triangle)\n",
      "fig.add_patch(poly)\n",
      "fig.set_autoscaley_on(False)\n",
      "fig.set_xlim([-.2,1.3])\n",
      "fig.set_ylim([-1.5,3.2])"
     ],
     "language": "python",
     "metadata": {},
     "outputs": [
      {
       "metadata": {},
       "output_type": "pyout",
       "prompt_number": 8,
       "text": [
        "(-1.5, 3.2)"
       ]
      },
      {
       "metadata": {},
       "output_type": "display_data",
       "png": "[encoded data removed]",
       "text": [
        "<matplotlib.figure.Figure at 0x10fac7d50>"
       ]
      }
     ],
     "prompt_number": 8
    },
    {
     "cell_type": "markdown",
     "metadata": {},
     "source": [
      "One thing we can do to determine the area of a triangle is\n",
      "\n",
      "$$ \\frac{1}{2} \\cdot \\begin{vmatrix}\n",
      "x_0 & y_0 & 1\\\\\n",
      "x_1 & y_1 & 1\\\\\n",
      "x_2 & y_2 & 1\\\\\n",
      "\\end{vmatrix} $$\n",
      "\n",
      "So, let's give it a shot."
     ]
    },
    {
     "cell_type": "code",
     "collapsed": false,
     "input": [
      "x = triangle[:,0]\n",
      "y = triangle[:,1]\n",
      "mat = np.array([[x[0], y[0], 1], [x[1], y[1], 1], [x[2], y[2], 1]])\n",
      "mat"
     ],
     "language": "python",
     "metadata": {},
     "outputs": [
      {
       "metadata": {},
       "output_type": "pyout",
       "prompt_number": 9,
       "text": [
        "array([[ 0. ,  0. ,  1. ],\n",
        "       [ 1. ,  2. ,  1. ],\n",
        "       [ 0.5, -1. ,  1. ]])"
       ]
      }
     ],
     "prompt_number": 9
    },
    {
     "cell_type": "code",
     "collapsed": false,
     "input": [
      "0.5 * np.linalg.det(mat)"
     ],
     "language": "python",
     "metadata": {},
     "outputs": [
      {
       "metadata": {},
       "output_type": "pyout",
       "prompt_number": 10,
       "text": [
        "-1.0"
       ]
      }
     ],
     "prompt_number": 10
    },
    {
     "cell_type": "code",
     "collapsed": false,
     "input": [],
     "language": "python",
     "metadata": {},
     "outputs": []
    }
   ],
   "metadata": {}
  }
 ]
}