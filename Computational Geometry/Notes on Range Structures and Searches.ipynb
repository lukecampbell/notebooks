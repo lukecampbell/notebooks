{
 "metadata": {
  "name": ""
 },
 "nbformat": 3,
 "nbformat_minor": 0,
 "worksheets": [
  {
   "cells": [
    {
     "cell_type": "markdown",
     "metadata": {},
     "source": [
      "# General Notes\n",
      "\n",
      "1. Building a general data structure will generally improve search performance to around $O(n)$ but the generating the structure takes $O(h\\cdot n)$ time where $h$ is the height of the tree, in a general binary range tree $h=\\lg n$\n",
      "\n",
      "2. When it comes to the OOI CDM, building a data structure may be too costly in terms of performance vs a standard comparison which is $O(n)$. \n",
      "   \n",
      "   Typically, for retrieval operations a coverage is instantiated referencing a persisted coverage, it is only instantiated for the one query, no cache is used so if we performed an orthogonal range query against the OOI CDM it would take $O(n)$ time but if we initialized a complex data structure it would take $O(n \\cdot h)$ time.\n"
     ]
    },
    {
     "cell_type": "markdown",
     "metadata": {},
     "source": [
      "# Interval Trees\n",
      "\n",
      "### Interval Properties\n",
      "\n",
      "A 1-d interval comrpises two scalar values: $P:=(x,x')$\n",
      "\n",
      "#### Equivalency Property\n",
      "\n",
      "An interval $P$ is equivalent to $Q$ if and only if $P(x) = Q(x)$ and $P(x') = Q(x')$.\n",
      "\n",
      "$\\left(P(x) = Q(x)\\right) \\land \\left(P(x') = Q(x')\\right) \\iff P = Q$\n",
      "\n",
      "#### Disjoint Property\n",
      "\n",
      "$P$ is disjoint from $Q$ if $\\forall p \\in P, p \\notin Q$\n",
      "We can break this down to a set of component properties:\n",
      "$$ P(x') < Q(x) $$ or\n",
      "$$ P(x) > Q(x') $$\n",
      "\n",
      "#### Contains Property\n",
      "\n",
      "$P$ contains $Q$ if $P(x) \\le Q(x)$ and $ P(x') \\ge Q(x')$, this contains property also describes order: we say that $P$ comes before $Q$ if $Q$ is complete contained inside $P$. This property is important for tree construction.\n",
      "\n",
      "$$ \\left(P(x) \\le Q(x)\\right) \\land \\left(P(x') \\ge Q(x')\\right) \\iff Q \\subseteq P \\Rightarrow P < Q $$\n",
      "\n",
      "#### Intersection Property\n",
      "\n",
      "$P$ intersects $Q$ if there is at least one number $p \\in P$ where $p \\in Q$ as well.\n",
      "We can break this down to a set of cases where this exists:\n",
      "\n",
      "$$ Q(x) \\le P(x) \\le Q(x') $$ or\n",
      "$$ Q(x) \\le P(x') \\le Q(x') $$ or\n",
      "$$ P(x) \\le Q(x) \\le Q(x') \\le P(x') $$\n",
      "\n",
      "#### Precedence Property\n",
      "\n",
      "Based on the above properties you can assert that if $P(x) < Q(x)$ then $P < Q$.\n",
      "\n",
      "Proof:\n",
      "\n",
      "If $P(x) < Q(x)$ then $P$ is either \n",
      "\n",
      " - disjoint if $P(x') < Q(x)$, which implies $P < Q$ by the disjoint property\n",
      " - contains $Q$ if $P(x') \\ge Q(x')$ which implies $P < Q$.\n",
      " - intersects $Q$ if $P(x') \\in \\left[Q(x), Q(x')\\right]$, which implies $P < Q$.\n",
      " \n",
      "We can extend this property in that if $P(x) = Q(x)$ then $P < Q$ if $P(x') > Q(x')$ by the contains property.\n",
      "\n",
      "## Interval Tree\n",
      "\n",
      "In computer science, an interval tree is an ordered tree data structure to hold intervals. Specifically, it allows one to efficiently find all intervals that overlap with any given interval or point. It is often used for windowing queries, for instance, to find all roads on a computerized map inside a rectangular viewport, or to find all visible elements inside a three-dimensional scene. A similar data structure is the segment tree.\n",
      "\n",
      "### Construction\n",
      "\n",
      "We will construct an interval tree that contains $I$, a set of intervals.\n",
      "\n",
      "#### Interval Class"
     ]
    },
    {
     "cell_type": "code",
     "collapsed": false,
     "input": [
      "import numpy as np\n",
      "class Interval:\n",
      "    '''\n",
      "    A class that represents a 1-d interval\n",
      "    See: http://bit.ly/15TNgiH\n",
      "    '''\n",
      "    def __init__(self, x0, x1, left=None, right=None):\n",
      "        if x0 is None:\n",
      "            x0 = -np.inf\n",
      "        if x1 is None:\n",
      "            x1 = np.inf\n",
      "        assert x0 <= x1\n",
      "        self.x0 = x0\n",
      "        self.x1 = x1\n",
      "        self.left = left\n",
      "        self.right = right\n",
      "\n",
      "    def __repr__(self):\n",
      "        retval =  '(%s,%s)' % (self.x0, self.x1)\n",
      "        if self.left or self.right:\n",
      "            retval += \"'\"\n",
      "        return retval\n",
      "\n",
      "\n",
      "    def __cmp__(self, other):\n",
      "        if self.x0 < other.x0:\n",
      "            return -1\n",
      "        elif self.x0 > other.x0:\n",
      "            return 1\n",
      "        else: # self.x0 == other.x0:\n",
      "            if self.x1 > other.x1:\n",
      "                return -1\n",
      "            elif self.x1 < other.x1:\n",
      "                return 1\n",
      "        return 0\n",
      "\n",
      "    def contains(self, other):\n",
      "        return self.x0 <= other.x0 and self.x1 >= other.x1\n",
      "\n",
      "    def disjoint(self, other):\n",
      "        if self.x0 > other.x1:\n",
      "            return True\n",
      "        if self.x1 < other.x0:\n",
      "            return True\n",
      "        return False\n",
      "\n",
      "    def intersects(self, other):\n",
      "        return not self.disjoint(other)\n",
      "\n",
      "    def union(self, other):\n",
      "        x0 = min(self.x0, other.x0)\n",
      "        x1 = max(self.x1, other.x1)\n",
      "        return Interval(x0,x1)\n"
     ],
     "language": "python",
     "metadata": {},
     "outputs": [],
     "prompt_number": 3
    },
    {
     "cell_type": "markdown",
     "metadata": {},
     "source": [
      "Next is the algorithm to construct the tree\n",
      "#### Tree Construction"
     ]
    },
    {
     "cell_type": "code",
     "collapsed": false,
     "input": [
      "def construct_tree(interval_list):\n",
      "    '''\n",
      "    Constructs a balanced range tree given a list of sorted intervals\n",
      "    '''\n",
      "    q = []\n",
      "    if len(interval_list) == 1:\n",
      "        # Root node\n",
      "        return interval_list[0]\n",
      "    I = interval_list\n",
      "    for i in xrange(0,len(I),2):\n",
      "        # pair the next two points in the list\n",
      "        if i == len(I)-1:\n",
      "            q.append(I[i])\n",
      "            return construct_tree(q)\n",
      "        x0 = I[i].x0\n",
      "        x1 = max(I[i].x1, I[i+1].x1)\n",
      "        left = I[i]\n",
      "        right = I[i+1]\n",
      "        n = Interval(x0, x1, left, right)\n",
      "        q.append(n)\n",
      "    return construct_tree(q)\n"
     ],
     "language": "python",
     "metadata": {},
     "outputs": [],
     "prompt_number": 4
    },
    {
     "cell_type": "markdown",
     "metadata": {},
     "source": [
      "#### Sorting the Intervals"
     ]
    },
    {
     "cell_type": "code",
     "collapsed": false,
     "input": [
      "def swap(arr, i0, i1):\n",
      "    if i0 != i1:\n",
      "        t = arr[i0]\n",
      "        arr[i0] = arr[i1]\n",
      "        arr[i1] = t\n",
      "\n",
      "def qsort_partition(arr, left, right, pivot):\n",
      "    val = arr[pivot]\n",
      "    swap(arr,pivot,right)\n",
      "    store_index = left\n",
      "    for i in xrange(left, right):\n",
      "        if arr[i] < val:\n",
      "            swap(arr, i, store_index)\n",
      "            store_index += 1\n",
      "    swap(arr, store_index, right)\n",
      "    return store_index\n",
      "\n",
      "def qsort(arr, left=None, right=None):\n",
      "    if left is None:\n",
      "        left = 0\n",
      "    if right is None:\n",
      "        right = len(arr)-1\n",
      "    if left < right:\n",
      "        pivot = (right - left) / 2 + left\n",
      "        pivot = qsort_partition(arr, left, right, pivot)\n",
      "        qsort(arr, left, pivot-1)\n",
      "        qsort(arr, pivot+1, right)\n"
     ],
     "language": "python",
     "metadata": {},
     "outputs": [],
     "prompt_number": 5
    },
    {
     "cell_type": "markdown",
     "metadata": {},
     "source": [
      "For a simple example, I will make a list of arbitrary intervals, sort it and display it."
     ]
    },
    {
     "cell_type": "code",
     "collapsed": false,
     "input": [
      "interval_list = [\n",
      "    Interval(0,1),\n",
      "    Interval(5,10),\n",
      "    Interval(7,10),\n",
      "    Interval(3,7),\n",
      "    Interval(2,6)\n",
      "    ]\n",
      "qsort(interval_list)\n",
      "interval_list"
     ],
     "language": "python",
     "metadata": {},
     "outputs": [
      {
       "metadata": {},
       "output_type": "pyout",
       "prompt_number": 6,
       "text": [
        "[(0,1), (2,6), (3,7), (5,10), (7,10)]"
       ]
      }
     ],
     "prompt_number": 6
    },
    {
     "cell_type": "markdown",
     "metadata": {},
     "source": [
      "Time to construct our tree:"
     ]
    },
    {
     "cell_type": "code",
     "collapsed": false,
     "input": [
      "tree = construct_tree(interval_list)"
     ],
     "language": "python",
     "metadata": {},
     "outputs": [],
     "prompt_number": 7
    },
    {
     "cell_type": "markdown",
     "metadata": {},
     "source": [
      "In order to properly show the tree, I will include this function that traverses the tree and outputs DOT script that can be pasted into SVG"
     ]
    },
    {
     "cell_type": "code",
     "collapsed": false,
     "input": [
      "from uuid import uuid4\n",
      "def _dot_tree(root):\n",
      "    if not hasattr(root,'id'):\n",
      "        root.id = uuid4().hex\n",
      "\n",
      "    print '  n_%s [label=\"%s\"]' % (root.id, repr(root))\n",
      "\n",
      "    if root.left:\n",
      "        _dot_tree(root.left)\n",
      "        print \"  n_%s -> n_%s\" %(root.id, root.left.id)\n",
      "\n",
      "    if root.right:\n",
      "        _dot_tree(root.right)\n",
      "        print \"  n_%s -> n_%s\" %(root.id, root.right.id)\n",
      "\n",
      "def dot_tree(root):\n",
      "    print 'digarph G {'\n",
      "    _dot_tree(root)\n",
      "    print '}\\n'\n"
     ],
     "language": "python",
     "metadata": {},
     "outputs": [],
     "prompt_number": 8
    },
    {
     "cell_type": "markdown",
     "metadata": {},
     "source": [
      "Here's the example output from our example:"
     ]
    },
    {
     "cell_type": "code",
     "collapsed": true,
     "input": [
      "dot_tree(tree)"
     ],
     "language": "python",
     "metadata": {},
     "outputs": [
      {
       "output_type": "stream",
       "stream": "stdout",
       "text": [
        "digarph G {\n",
        "  n_8f71eb48c0314c8c9a509d4f10c1af00 [label=\"(0,10)'\"]\n",
        "  n_665790fd55d246c7a5b3b6e3e61d4066 [label=\"(0,10)'\"]\n",
        "  n_a5ff98710de44517a9540181ec1975e6 [label=\"(0,6)'\"]\n",
        "  n_1832b2eef5834f2cac067b89d6a9a11d [label=\"(0,1)\"]\n",
        "  n_a5ff98710de44517a9540181ec1975e6 -> n_1832b2eef5834f2cac067b89d6a9a11d\n",
        "  n_9840dcf932024483ab3ef53d309b689c [label=\"(2,6)\"]\n",
        "  n_a5ff98710de44517a9540181ec1975e6 -> n_9840dcf932024483ab3ef53d309b689c\n",
        "  n_665790fd55d246c7a5b3b6e3e61d4066 -> n_a5ff98710de44517a9540181ec1975e6\n",
        "  n_aa2cb2b1ebd84037b7500a630461eb7d [label=\"(3,10)'\"]\n",
        "  n_afa8073137aa493696a3a77b5dd625d8 [label=\"(3,7)\"]\n",
        "  n_aa2cb2b1ebd84037b7500a630461eb7d -> n_afa8073137aa493696a3a77b5dd625d8\n",
        "  n_ed8ab5b8fd46442382dba2a012972bfc [label=\"(5,10)\"]\n",
        "  n_aa2cb2b1ebd84037b7500a630461eb7d -> n_ed8ab5b8fd46442382dba2a012972bfc\n",
        "  n_665790fd55d246c7a5b3b6e3e61d4066 -> n_aa2cb2b1ebd84037b7500a630461eb7d\n",
        "  n_8f71eb48c0314c8c9a509d4f10c1af00 -> n_665790fd55d246c7a5b3b6e3e61d4066\n",
        "  n_29c2c9b467854683a49c381dc8095d92 [label=\"(7,10)\"]\n",
        "  n_8f71eb48c0314c8c9a509d4f10c1af00 -> n_29c2c9b467854683a49c381dc8095d92\n",
        "}\n",
        "\n"
       ]
      }
     ],
     "prompt_number": 9
    },
    {
     "cell_type": "markdown",
     "metadata": {},
     "source": [
      "Here's the output as a PNG\n",
      "![Graph](files/images/graph.png)"
     ]
    },
    {
     "cell_type": "markdown",
     "metadata": {},
     "source": [
      "## Using the Tree\n",
      "\n",
      "The next algorithm is a key algoritm that is the basis for many searching, traversal and set operations.\n",
      "\n",
      "### V-Split\n",
      "\n",
      "The V-Split algorithm will identify the lowest component of the tree where a specified interval is contained within.\n",
      "\n",
      "![vsplit](files/images/vsplit.png)"
     ]
    },
    {
     "cell_type": "code",
     "collapsed": false,
     "input": [
      "def vsplit(t, interval):\n",
      "    i = interval\n",
      "    v = t\n",
      "    while v.left and v.right and v.contains(i):\n",
      "        if v.left.contains(i) and not v.right.intersects(i):\n",
      "            v = v.left\n",
      "        elif v.right.contains(i) and not v.left.intersects(i):\n",
      "            v = v.right\n",
      "        else:\n",
      "            return v\n",
      "    return v\n"
     ],
     "language": "python",
     "metadata": {},
     "outputs": [],
     "prompt_number": 10
    },
    {
     "cell_type": "code",
     "collapsed": false,
     "input": [
      "vs = vsplit(tree, Interval(4,6))\n",
      "print vs"
     ],
     "language": "python",
     "metadata": {},
     "outputs": [
      {
       "output_type": "stream",
       "stream": "stdout",
       "text": [
        "(0,10)'\n"
       ]
      }
     ],
     "prompt_number": 11
    },
    {
     "cell_type": "code",
     "collapsed": false,
     "input": [],
     "language": "python",
     "metadata": {},
     "outputs": [],
     "prompt_number": 11
    }
   ],
   "metadata": {}
  }
 ]
}