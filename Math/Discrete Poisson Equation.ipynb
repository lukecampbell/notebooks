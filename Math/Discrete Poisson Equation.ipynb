{
 "metadata": {
  "name": "Discrete Poisson Equation"
 },
 "nbformat": 3,
 "nbformat_minor": 0,
 "worksheets": [
  {
   "cells": [
    {
     "cell_type": "code",
     "collapsed": false,
     "input": [
      "import numpy as np\n",
      "def brute_poisson(grid):\n",
      "    assert len(grid.shape)==2\n",
      "    out = np.zeros(grid.shape)\n",
      "    u = grid\n",
      "    \n",
      "    for i in xrange(grid.shape[0]-2):\n",
      "        for j in xrange(grid.shape[1]-2):\n",
      "            # Using a 2nd-order central finite difference method\n",
      "            out[i+1,j+1] = u[i+2,j+1] + u[i,j+1] + u[i+1,j] + u[i+1,j+2] - 4 * u[i+1,j+1]\n",
      "    return out \n",
      "\n",
      "def tridiagonal(a,b,c):\n",
      "    return np.diag(a,-1) + np.diag(b,0) + np.diag(c,1)\n",
      "    \n"
     ],
     "language": "python",
     "metadata": {},
     "outputs": [],
     "prompt_number": 1
    },
    {
     "cell_type": "code",
     "collapsed": false,
     "input": [
      "# Define a simple grid, the motion across x,y is linear so the 2nd derivative\n",
      "# will be 0\n",
      "grid = np.arange(25).reshape((5,5))\n",
      "grid"
     ],
     "language": "python",
     "metadata": {},
     "outputs": [
      {
       "output_type": "pyout",
       "prompt_number": 2,
       "text": [
        "array([[ 0,  1,  2,  3,  4],\n",
        "       [ 5,  6,  7,  8,  9],\n",
        "       [10, 11, 12, 13, 14],\n",
        "       [15, 16, 17, 18, 19],\n",
        "       [20, 21, 22, 23, 24]])"
       ]
      }
     ],
     "prompt_number": 2
    },
    {
     "cell_type": "code",
     "collapsed": false,
     "input": [
      "# Calculuate the laplace operation against the grid (Discrete Poission)\n",
      "out  = brute_poisson(grid)\n",
      "out"
     ],
     "language": "python",
     "metadata": {},
     "outputs": [
      {
       "output_type": "pyout",
       "prompt_number": 3,
       "text": [
        "array([[ 0.,  0.,  0.,  0.,  0.],\n",
        "       [ 0.,  0.,  0.,  0.,  0.],\n",
        "       [ 0.,  0.,  0.,  0.,  0.],\n",
        "       [ 0.,  0.,  0.,  0.,  0.],\n",
        "       [ 0.,  0.,  0.,  0.,  0.]])"
       ]
      }
     ],
     "prompt_number": 3
    },
    {
     "cell_type": "code",
     "collapsed": false,
     "input": [
      "# Now we're going to try the matrix method\n",
      "U = grid[1:4,1:4].T.flatten()\n",
      "U"
     ],
     "language": "python",
     "metadata": {},
     "outputs": [
      {
       "output_type": "pyout",
       "prompt_number": 4,
       "text": [
        "array([ 6, 11, 16,  7, 12, 17,  8, 13, 18])"
       ]
      }
     ],
     "prompt_number": 4
    },
    {
     "cell_type": "code",
     "collapsed": false,
     "input": [
      "D = tridiagonal([-1]*2, [4]*3, [-1]*2)\n",
      "D\n"
     ],
     "language": "python",
     "metadata": {},
     "outputs": [
      {
       "output_type": "pyout",
       "prompt_number": 5,
       "text": [
        "array([[ 4, -1,  0],\n",
        "       [-1,  4, -1],\n",
        "       [ 0, -1,  4]])"
       ]
      }
     ],
     "prompt_number": 5
    },
    {
     "cell_type": "code",
     "collapsed": false,
     "input": [
      "I = np.identity(3)\n",
      "I"
     ],
     "language": "python",
     "metadata": {},
     "outputs": [
      {
       "output_type": "pyout",
       "prompt_number": 6,
       "text": [
        "array([[ 1.,  0.,  0.],\n",
        "       [ 0.,  1.,  0.],\n",
        "       [ 0.,  0.,  1.]])"
       ]
      }
     ],
     "prompt_number": 6
    },
    {
     "cell_type": "code",
     "collapsed": false,
     "input": [
      "A = np.zeros((9,9))\n",
      "for i in xrange(3):\n",
      "    A[3*i:3*(i+1), 3*i:3*(i+1)] += D\n",
      "for i in xrange(2):\n",
      "    A[3*(i+1):3*(i+2), 3*i:3*(i+1)] += -I\n",
      "    A[3*i:3*(i+1), 3*(i+1):3*(i+2)] += -I\n",
      "A"
     ],
     "language": "python",
     "metadata": {},
     "outputs": [
      {
       "output_type": "pyout",
       "prompt_number": 7,
       "text": [
        "array([[ 4., -1.,  0., -1.,  0.,  0.,  0.,  0.,  0.],\n",
        "       [-1.,  4., -1.,  0., -1.,  0.,  0.,  0.,  0.],\n",
        "       [ 0., -1.,  4.,  0.,  0., -1.,  0.,  0.,  0.],\n",
        "       [-1.,  0.,  0.,  4., -1.,  0., -1.,  0.,  0.],\n",
        "       [ 0., -1.,  0., -1.,  4., -1.,  0., -1.,  0.],\n",
        "       [ 0.,  0., -1.,  0., -1.,  4.,  0.,  0., -1.],\n",
        "       [ 0.,  0.,  0., -1.,  0.,  0.,  4., -1.,  0.],\n",
        "       [ 0.,  0.,  0.,  0., -1.,  0., -1.,  4., -1.],\n",
        "       [ 0.,  0.,  0.,  0.,  0., -1.,  0., -1.,  4.]])"
       ]
      }
     ],
     "prompt_number": 7
    },
    {
     "cell_type": "code",
     "collapsed": false,
     "input": [
      "out2 = np.dot(A,U).reshape(3,3)\n",
      "out2 # Incredibly wrong answer"
     ],
     "language": "python",
     "metadata": {},
     "outputs": [
      {
       "output_type": "pyout",
       "prompt_number": 8,
       "text": [
        "array([[  6.,  10.,  36.],\n",
        "       [  2.,   0.,  22.],\n",
        "       [ 12.,  14.,  42.]])"
       ]
      }
     ],
     "prompt_number": 8
    },
    {
     "cell_type": "code",
     "collapsed": false,
     "input": [],
     "language": "python",
     "metadata": {},
     "outputs": [],
     "prompt_number": 8
    }
   ],
   "metadata": {}
  }
 ]
}