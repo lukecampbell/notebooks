{
 "metadata": {
  "name": ""
 },
 "nbformat": 3,
 "nbformat_minor": 0,
 "worksheets": [
  {
   "cells": [
    {
     "cell_type": "markdown",
     "metadata": {},
     "source": [
      "# Masked Arrays\n"
     ]
    },
    {
     "cell_type": "markdown",
     "metadata": {},
     "source": [
      "A lot of our data has a concept of missing or filled data. One of the problem we face by introducing functions into our data model is how to treat missing data. If a function takes, as an argument, arrays that contain missing data the treatment of those missing values is important.\n",
      "\n",
      "Consider for example if 0 is a fill value and in the extreme abyssal loops there is a division operation... you can see how that can be bad, now instead of the function just returning an absurd value the whole thing fails and has the potential to crash. \n",
      "\n",
      "What about the case where the fill value is -9999 and we have a function that converts a dataset from cm to m with a linear transform? Well now the new data is going to be -99990, which is a perfectly legitimate value and not indicative of a fill value anymore.\n",
      "\n",
      "\n",
      "My recommendation, if at all feasible, would be not to pass fill values into the function at all, one of the tools we can try to use is masked arrays."
     ]
    },
    {
     "cell_type": "code",
     "collapsed": false,
     "input": [
      "temperature = np.random.random(25) * 10 + 5\n",
      "time = np.arange(25)\n",
      "pressure = np.arange(25)\n",
      "\n",
      "# now just for example's sake I'm going to put a few fill values in\n",
      "temperature[np.array([10, 14, 15, 20])] = -9999\n",
      "\n",
      "pressure[np.array([1,5,9])] = -9999\n"
     ],
     "language": "python",
     "metadata": {},
     "outputs": [],
     "prompt_number": 64
    },
    {
     "cell_type": "code",
     "collapsed": false,
     "input": [
      "def computation(time, temperature, pressure):\n",
      "    retval = np.empty_like(time,dtype=np.float32)\n",
      "    for i in xrange(time.shape[0]):\n",
      "        if temperature[i] < 0:\n",
      "            raise ValueError(\"Invalid Temperature\")\n",
      "        elif pressure[i] < 0:\n",
      "            raise ValueError(\"Invalid Pressure\")\n",
      "        else:\n",
      "            retval[i] = 3 * temperature[i] + 2.8 * pressure[i]\n",
      "    return retval\n",
      "        "
     ],
     "language": "python",
     "metadata": {},
     "outputs": [],
     "prompt_number": 79
    },
    {
     "cell_type": "markdown",
     "metadata": {},
     "source": [
      "So now we have a very small data set and a function that does some scientific computation"
     ]
    },
    {
     "cell_type": "code",
     "collapsed": false,
     "input": [
      "import pandas as pd\n",
      "from IPython.core.display import HTML\n",
      "table = pd.DataFrame({'time (s)':time, 'temperature (deg_C)':temperature, 'pressure (dbar)': pressure})\n",
      "cols = table.columns.tolist()\n",
      "cols.reverse()\n",
      "HTML(table[cols].to_html())"
     ],
     "language": "python",
     "metadata": {},
     "outputs": [
      {
       "html": [
        "<table border=\"1\" class=\"dataframe\">\n",
        "  <thead>\n",
        "    <tr style=\"text-align: right;\">\n",
        "      <th></th>\n",
        "      <th>time (s)</th>\n",
        "      <th>temperature (deg_C)</th>\n",
        "      <th>pressure (dbar)</th>\n",
        "    </tr>\n",
        "  </thead>\n",
        "  <tbody>\n",
        "    <tr>\n",
        "      <th>0 </th>\n",
        "      <td>  0</td>\n",
        "      <td>   14.793334</td>\n",
        "      <td>    0</td>\n",
        "    </tr>\n",
        "    <tr>\n",
        "      <th>1 </th>\n",
        "      <td>  1</td>\n",
        "      <td>   11.902654</td>\n",
        "      <td>-9999</td>\n",
        "    </tr>\n",
        "    <tr>\n",
        "      <th>2 </th>\n",
        "      <td>  2</td>\n",
        "      <td>   12.018885</td>\n",
        "      <td>    2</td>\n",
        "    </tr>\n",
        "    <tr>\n",
        "      <th>3 </th>\n",
        "      <td>  3</td>\n",
        "      <td>    5.560689</td>\n",
        "      <td>    3</td>\n",
        "    </tr>\n",
        "    <tr>\n",
        "      <th>4 </th>\n",
        "      <td>  4</td>\n",
        "      <td>   10.450682</td>\n",
        "      <td>    4</td>\n",
        "    </tr>\n",
        "    <tr>\n",
        "      <th>5 </th>\n",
        "      <td>  5</td>\n",
        "      <td>    7.204537</td>\n",
        "      <td>-9999</td>\n",
        "    </tr>\n",
        "    <tr>\n",
        "      <th>6 </th>\n",
        "      <td>  6</td>\n",
        "      <td>    6.404998</td>\n",
        "      <td>    6</td>\n",
        "    </tr>\n",
        "    <tr>\n",
        "      <th>7 </th>\n",
        "      <td>  7</td>\n",
        "      <td>   12.141137</td>\n",
        "      <td>    7</td>\n",
        "    </tr>\n",
        "    <tr>\n",
        "      <th>8 </th>\n",
        "      <td>  8</td>\n",
        "      <td>    6.854372</td>\n",
        "      <td>    8</td>\n",
        "    </tr>\n",
        "    <tr>\n",
        "      <th>9 </th>\n",
        "      <td>  9</td>\n",
        "      <td>    5.726974</td>\n",
        "      <td>-9999</td>\n",
        "    </tr>\n",
        "    <tr>\n",
        "      <th>10</th>\n",
        "      <td> 10</td>\n",
        "      <td>-9999.000000</td>\n",
        "      <td>   10</td>\n",
        "    </tr>\n",
        "    <tr>\n",
        "      <th>11</th>\n",
        "      <td> 11</td>\n",
        "      <td>    9.010994</td>\n",
        "      <td>   11</td>\n",
        "    </tr>\n",
        "    <tr>\n",
        "      <th>12</th>\n",
        "      <td> 12</td>\n",
        "      <td>    9.650601</td>\n",
        "      <td>   12</td>\n",
        "    </tr>\n",
        "    <tr>\n",
        "      <th>13</th>\n",
        "      <td> 13</td>\n",
        "      <td>    6.144383</td>\n",
        "      <td>   13</td>\n",
        "    </tr>\n",
        "    <tr>\n",
        "      <th>14</th>\n",
        "      <td> 14</td>\n",
        "      <td>-9999.000000</td>\n",
        "      <td>   14</td>\n",
        "    </tr>\n",
        "    <tr>\n",
        "      <th>15</th>\n",
        "      <td> 15</td>\n",
        "      <td>-9999.000000</td>\n",
        "      <td>   15</td>\n",
        "    </tr>\n",
        "    <tr>\n",
        "      <th>16</th>\n",
        "      <td> 16</td>\n",
        "      <td>   14.532572</td>\n",
        "      <td>   16</td>\n",
        "    </tr>\n",
        "    <tr>\n",
        "      <th>17</th>\n",
        "      <td> 17</td>\n",
        "      <td>   14.295993</td>\n",
        "      <td>   17</td>\n",
        "    </tr>\n",
        "    <tr>\n",
        "      <th>18</th>\n",
        "      <td> 18</td>\n",
        "      <td>    8.250860</td>\n",
        "      <td>   18</td>\n",
        "    </tr>\n",
        "    <tr>\n",
        "      <th>19</th>\n",
        "      <td> 19</td>\n",
        "      <td>   11.385566</td>\n",
        "      <td>   19</td>\n",
        "    </tr>\n",
        "    <tr>\n",
        "      <th>20</th>\n",
        "      <td> 20</td>\n",
        "      <td>-9999.000000</td>\n",
        "      <td>   20</td>\n",
        "    </tr>\n",
        "    <tr>\n",
        "      <th>21</th>\n",
        "      <td> 21</td>\n",
        "      <td>   14.167471</td>\n",
        "      <td>   21</td>\n",
        "    </tr>\n",
        "    <tr>\n",
        "      <th>22</th>\n",
        "      <td> 22</td>\n",
        "      <td>    8.949268</td>\n",
        "      <td>   22</td>\n",
        "    </tr>\n",
        "    <tr>\n",
        "      <th>23</th>\n",
        "      <td> 23</td>\n",
        "      <td>    8.327470</td>\n",
        "      <td>   23</td>\n",
        "    </tr>\n",
        "    <tr>\n",
        "      <th>24</th>\n",
        "      <td> 24</td>\n",
        "      <td>   14.071911</td>\n",
        "      <td>   24</td>\n",
        "    </tr>\n",
        "  </tbody>\n",
        "</table>"
       ],
       "metadata": {},
       "output_type": "pyout",
       "prompt_number": 80,
       "text": [
        "<IPython.core.display.HTML at 0x105e63e90>"
       ]
      }
     ],
     "prompt_number": 80
    },
    {
     "cell_type": "markdown",
     "metadata": {},
     "source": [
      "If we try to use this data with fill values in to compute we get an error."
     ]
    },
    {
     "cell_type": "code",
     "collapsed": false,
     "input": [
      "computation(time, temperature, pressure)"
     ],
     "language": "python",
     "metadata": {},
     "outputs": [
      {
       "ename": "ValueError",
       "evalue": "Invalid Pressure",
       "output_type": "pyerr",
       "traceback": [
        "\u001b[0;31m---------------------------------------------------------------------------\u001b[0m\n\u001b[0;31mValueError\u001b[0m                                Traceback (most recent call last)",
        "\u001b[0;32m<ipython-input-81-6691352e2955>\u001b[0m in \u001b[0;36m<module>\u001b[0;34m()\u001b[0m\n\u001b[0;32m----> 1\u001b[0;31m \u001b[0mcomputation\u001b[0m\u001b[0;34m(\u001b[0m\u001b[0mtime\u001b[0m\u001b[0;34m,\u001b[0m \u001b[0mtemperature\u001b[0m\u001b[0;34m,\u001b[0m \u001b[0mpressure\u001b[0m\u001b[0;34m)\u001b[0m\u001b[0;34m\u001b[0m\u001b[0m\n\u001b[0m",
        "\u001b[0;32m<ipython-input-79-1684fc9155a3>\u001b[0m in \u001b[0;36mcomputation\u001b[0;34m(time, temperature, pressure)\u001b[0m\n\u001b[1;32m      5\u001b[0m             \u001b[0;32mraise\u001b[0m \u001b[0mValueError\u001b[0m\u001b[0;34m(\u001b[0m\u001b[0;34m\"Invalid Temperature\"\u001b[0m\u001b[0;34m)\u001b[0m\u001b[0;34m\u001b[0m\u001b[0m\n\u001b[1;32m      6\u001b[0m         \u001b[0;32melif\u001b[0m \u001b[0mpressure\u001b[0m\u001b[0;34m[\u001b[0m\u001b[0mi\u001b[0m\u001b[0;34m]\u001b[0m \u001b[0;34m<\u001b[0m \u001b[0;36m0\u001b[0m\u001b[0;34m:\u001b[0m\u001b[0;34m\u001b[0m\u001b[0m\n\u001b[0;32m----> 7\u001b[0;31m             \u001b[0;32mraise\u001b[0m \u001b[0mValueError\u001b[0m\u001b[0;34m(\u001b[0m\u001b[0;34m\"Invalid Pressure\"\u001b[0m\u001b[0;34m)\u001b[0m\u001b[0;34m\u001b[0m\u001b[0m\n\u001b[0m\u001b[1;32m      8\u001b[0m         \u001b[0;32melse\u001b[0m\u001b[0;34m:\u001b[0m\u001b[0;34m\u001b[0m\u001b[0m\n\u001b[1;32m      9\u001b[0m             \u001b[0mretval\u001b[0m\u001b[0;34m[\u001b[0m\u001b[0mi\u001b[0m\u001b[0;34m]\u001b[0m \u001b[0;34m=\u001b[0m \u001b[0;36m3\u001b[0m \u001b[0;34m*\u001b[0m \u001b[0mtemperature\u001b[0m\u001b[0;34m[\u001b[0m\u001b[0mi\u001b[0m\u001b[0;34m]\u001b[0m \u001b[0;34m+\u001b[0m \u001b[0;36m2.8\u001b[0m \u001b[0;34m*\u001b[0m \u001b[0mpressure\u001b[0m\u001b[0;34m[\u001b[0m\u001b[0mi\u001b[0m\u001b[0;34m]\u001b[0m\u001b[0;34m\u001b[0m\u001b[0m\n",
        "\u001b[0;31mValueError\u001b[0m: Invalid Pressure"
       ]
      }
     ],
     "prompt_number": 81
    },
    {
     "cell_type": "markdown",
     "metadata": {},
     "source": [
      "If we use a mask we can make sure the function doesn't raise an error"
     ]
    },
    {
     "cell_type": "code",
     "collapsed": false,
     "input": [
      "mask = ~np.isclose(temperature, [-9999], equal_nan=True)\n",
      "mask = mask & ~np.isclose(pressure, [-9999], equal_nan=True)\n",
      "sci_param = np.ones_like(time, dtype=np.float32) * -9999"
     ],
     "language": "python",
     "metadata": {},
     "outputs": [],
     "prompt_number": 102
    },
    {
     "cell_type": "code",
     "collapsed": false,
     "input": [
      "sci_param[mask] = computation(time[mask], temperature[mask], pressure[mask])"
     ],
     "language": "python",
     "metadata": {},
     "outputs": [],
     "prompt_number": 103
    },
    {
     "cell_type": "code",
     "collapsed": false,
     "input": [
      "sci_param"
     ],
     "language": "python",
     "metadata": {},
     "outputs": [
      {
       "metadata": {},
       "output_type": "pyout",
       "prompt_number": 105,
       "text": [
        "array([   44.38000488, -9999.        ,    41.65665436,    25.08206749,\n",
        "          42.55204773, -9999.        ,    36.01499557,    56.0234108 ,\n",
        "          42.96311569, -9999.        , -9999.        ,    57.83298111,\n",
        "          62.55180359,    54.83314896, -9999.        , -9999.        ,\n",
        "          88.39772034,    90.48797607,    75.15258026,    87.35669708,\n",
        "       -9999.        ,   101.30241394,    88.44780731,    89.38240814,\n",
        "         109.41573334], dtype=float32)"
       ]
      }
     ],
     "prompt_number": 105
    },
    {
     "cell_type": "code",
     "collapsed": false,
     "input": [],
     "language": "python",
     "metadata": {},
     "outputs": []
    }
   ],
   "metadata": {}
  }
 ]
}