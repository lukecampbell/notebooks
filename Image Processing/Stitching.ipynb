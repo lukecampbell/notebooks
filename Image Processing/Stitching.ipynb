{
 "cells": [
  {
   "cell_type": "code",
   "execution_count": 1,
   "metadata": {
    "collapsed": true
   },
   "outputs": [],
   "source": [
    "from animated_wms.tiles import TileStitcher"
   ]
  },
  {
   "cell_type": "code",
   "execution_count": 7,
   "metadata": {
    "collapsed": false
   },
   "outputs": [
    {
     "name": "stdout",
     "output_type": "stream",
     "text": [
      "/tmp/tile_cache/011_008.jpg\n",
      "/tmp/tile_cache/014_011.jpg\n",
      "/tmp/tile_cache/011_008.jpg\n",
      "/tmp/tile_cache/011_009.jpg\n",
      "/tmp/tile_cache/011_010.jpg\n",
      "/tmp/tile_cache/011_011.jpg\n",
      "/tmp/tile_cache/012_008.jpg\n",
      "/tmp/tile_cache/012_009.jpg\n",
      "/tmp/tile_cache/012_010.jpg\n",
      "/tmp/tile_cache/012_011.jpg\n",
      "/tmp/tile_cache/013_008.jpg\n",
      "/tmp/tile_cache/013_009.jpg\n",
      "/tmp/tile_cache/013_010.jpg\n",
      "/tmp/tile_cache/013_011.jpg\n",
      "/tmp/tile_cache/014_008.jpg\n",
      "/tmp/tile_cache/014_009.jpg\n",
      "/tmp/tile_cache/014_010.jpg\n",
      "/tmp/tile_cache/014_011.jpg\n"
     ]
    },
    {
     "data": {
      "text/plain": [
       "(910, 684)"
      ]
     },
     "execution_count": 7,
     "metadata": {},
     "output_type": "execute_result"
    }
   ],
   "source": [
    "tile_stitcher = TileStitcher(20, -90, 45, -50, 5)\n",
    "tilemap = tile_stitcher.get_tilemap('/tmp/tilemap.png', 'http://services.arcgisonline.com/ArcGIS/rest/services/Ocean_Basemap/MapServer/tile/{z}/{y}/{x}.jpg')\n",
    "\n",
    "from PIL import Image\n",
    "im = Image.open(tilemap)\n",
    "im.size"
   ]
  },
  {
   "cell_type": "code",
   "execution_count": 21,
   "metadata": {
    "collapsed": false
   },
   "outputs": [
    {
     "name": "stdout",
     "output_type": "stream",
     "text": [
      "('11', '08')\n",
      "0\n",
      "0\n",
      "('11', '09')\n",
      "256\n",
      "0\n",
      "('11', '10')\n",
      "512\n",
      "0\n",
      "('11', '11')\n",
      "768\n",
      "0\n",
      "('11', '12')\n",
      "1024\n",
      "0\n",
      "('12', '08')\n",
      "0\n",
      "256\n",
      "('12', '09')\n",
      "256\n",
      "256\n",
      "('12', '10')\n",
      "512\n",
      "256\n",
      "('12', '11')\n",
      "768\n",
      "256\n",
      "('12', '12')\n",
      "1024\n",
      "256\n",
      "('13', '08')\n",
      "0\n",
      "512\n",
      "('13', '09')\n",
      "256\n",
      "512\n",
      "('13', '10')\n",
      "512\n",
      "512\n",
      "('13', '11')\n",
      "768\n",
      "512\n",
      "('13', '12')\n",
      "1024\n",
      "512\n"
     ]
    }
   ],
   "source": [
    "import numpy as np\n",
    "image_files = list(glob('/tmp/tile_cache/*.jpg'))\n",
    "grid =[]\n",
    "for fn in image_files:\n",
    "    y, x = coors_from_tile(fn)\n",
    "    grid.append([y,x])\n",
    "grid = np.array(grid)\n",
    "\n",
    "y_range = np.min(grid[:,0]), np.max(grid[:,0])\n",
    "x_range = np.min(grid[:,1]), np.max(grid[:,1])\n",
    "    \n",
    "y_len = ((y_range[1] - y_range[0])+1) * 256\n",
    "x_len = ((x_range[1] - x_range[0])+1) * 256\n",
    "\n",
    "blank_image = Image.new('RGB', (x_len, y_len))\n",
    "\n",
    "for tile in image_files:\n",
    "    s = re.match(r'.*([0-9]{2})_([0-9]{2})\\.jpg', tile)\n",
    "    y, x = s.groups()\n",
    "    y = int(y)\n",
    "    x = int(x)\n",
    "    print s.groups()\n",
    "    im = Image.open(tile)\n",
    "    xcoord = (x-x_range[0]) * 256\n",
    "    ycoord = (y-y_range[0]) * 256\n",
    "    print xcoord\n",
    "    print ycoord\n",
    "    blank_image.paste(im, ((x - x_range[0]) * 256, (y - y_range[0]) * 256))\n",
    "blank_image.save('/tmp/blah.jpg')\n"
   ]
  },
  {
   "cell_type": "code",
   "execution_count": 40,
   "metadata": {
    "collapsed": false
   },
   "outputs": [],
   "source": [
    "from PIL import Image, ImageDraw, ImageFont"
   ]
  },
  {
   "cell_type": "code",
   "execution_count": 20,
   "metadata": {
    "collapsed": false
   },
   "outputs": [
    {
     "data": {
      "image/png": "[encoded data removed]",
      "text/plain": [
       "<IPython.core.display.Image object>"
      ]
     },
     "execution_count": 20,
     "metadata": {},
     "output_type": "execute_result"
    }
   ],
   "source": [
    "from IPython.display import Image as InlineImage\n",
    "InlineImage(filename='/tmp/legend.png')"
   ]
  },
  {
   "cell_type": "code",
   "execution_count": 54,
   "metadata": {
    "collapsed": false
   },
   "outputs": [
    {
     "data": {
      "image/png": "[encoded data removed]",
      "text/plain": [
       "<IPython.core.display.Image object>"
      ]
     },
     "execution_count": 54,
     "metadata": {},
     "output_type": "execute_result"
    }
   ],
   "source": [
    "im = Image.new('RGBA', (400,400))\n",
    "draw = ImageDraw.Draw(im)\n",
    "draw.rectangle(((0,0), (225, 45)), fill=(255,255,255,100))\n",
    "\n",
    "font = ImageFont.truetype('/Library/Fonts/Arial Bold.ttf', 20)\n",
    "draw.text((10, 10), '2015-03-01T04:00:00Z', '#777', font=font)\n",
    "cropped = im.crop(im.getbbox())\n",
    "im.close()\n",
    "cropped.save('/tmp/huh.png')\n",
    "cropped.close()\n",
    "InlineImage(filename='/tmp/huh.png')"
   ]
  },
  {
   "cell_type": "code",
   "execution_count": null,
   "metadata": {
    "collapsed": true
   },
   "outputs": [],
   "source": []
  }
 ],
 "metadata": {
  "kernelspec": {
   "display_name": "Python 2",
   "language": "python",
   "name": "python2"
  },
  "language_info": {
   "codemirror_mode": {
    "name": "ipython",
    "version": 2
   },
   "file_extension": ".py",
   "mimetype": "text/x-python",
   "name": "python",
   "nbconvert_exporter": "python",
   "pygments_lexer": "ipython2",
   "version": "2.7.6"
  }
 },
 "nbformat": 4,
 "nbformat_minor": 0
}
