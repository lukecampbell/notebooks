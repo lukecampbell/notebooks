{
 "cells": [
  {
   "cell_type": "code",
   "execution_count": 2,
   "metadata": {
    "collapsed": false
   },
   "outputs": [],
   "source": [
    "from netCDF4 import Dataset\n",
    "#url = \"http://usace.asa.rocks/thredds/dodsC/frfData/oceanography/waterlevel/8651370/8651370.ncml\"\n",
    "#url = \"http://usace.asa.rocks/thredds/dodsC/frfData/oceanography/waterlevel/601/601.ncml\"\n",
    "#url = \"http://usace.asa.rocks/thredds/dodsC/frfData/oceanography/currents/awac02/awac02.ncml\"\n",
    "#url = \"http://usace.asa.rocks/thredds/dodsC/frfData/oceanography/ctd/eop-ctd/eop-ctd.ncml\"\n",
    "#url = 'http://localhost:8080/thredds/dodsC/weatherflow/station_700.ncml'\n",
    "url = 'http://usace.asa.rocks/thredds/dodsC/frfData/oceanography/waves/adop02/adop02.ncml'\n",
    "nc = Dataset(url)"
   ]
  },
  {
   "cell_type": "code",
   "execution_count": 3,
   "metadata": {
    "collapsed": false
   },
   "outputs": [
    {
     "data": {
      "text/plain": [
       "OrderedDict([(u'depth', <type 'netCDF4.Dimension'>: name = 'depth', size = 1\n",
       "), (u'depthP', <type 'netCDF4.Dimension'>: name = 'depthP', size = 741\n",
       "), (u'time', <type 'netCDF4.Dimension'>: name = 'time', size = 6099\n",
       "), (u'waveDirectionBins', <type 'netCDF4.Dimension'>: name = 'waveDirectionBins', size = 180\n",
       "), (u'waveFrequency', <type 'netCDF4.Dimension'>: name = 'waveFrequency', size = 50\n",
       ")])"
      ]
     },
     "execution_count": 3,
     "metadata": {},
     "output_type": "execute_result"
    }
   ],
   "source": [
    "nc.dimensions"
   ]
  },
  {
   "cell_type": "code",
   "execution_count": 4,
   "metadata": {
    "collapsed": false
   },
   "outputs": [
    {
     "data": {
      "text/plain": [
       "'2010-08-05T16:00:00'"
      ]
     },
     "execution_count": 4,
     "metadata": {},
     "output_type": "execute_result"
    }
   ],
   "source": [
    "from netcdftime import utime\n",
    "epoch = utime(nc.variables['time'].units)\n",
    "start = epoch.num2date(nc.variables['time'][0])\n",
    "start.isoformat()"
   ]
  },
  {
   "cell_type": "code",
   "execution_count": 5,
   "metadata": {
    "collapsed": false
   },
   "outputs": [
    {
     "data": {
      "text/plain": [
       "'2011-06-24T14:00:02'"
      ]
     },
     "execution_count": 5,
     "metadata": {},
     "output_type": "execute_result"
    }
   ],
   "source": [
    "end = epoch.num2date(nc.variables['time'][-1])\n",
    "end.isoformat()"
   ]
  },
  {
   "cell_type": "code",
   "execution_count": 7,
   "metadata": {
    "collapsed": false
   },
   "outputs": [
    {
     "ename": "KeyError",
     "evalue": "'v'",
     "output_type": "error",
     "traceback": [
      "\u001b[0;31m---------------------------------------------------------------------------\u001b[0m",
      "\u001b[0;31mKeyError\u001b[0m                                  Traceback (most recent call last)",
      "\u001b[0;32m<ipython-input-7-8df0ae455cb6>\u001b[0m in \u001b[0;36m<module>\u001b[0;34m()\u001b[0m\n\u001b[0;32m----> 1\u001b[0;31m \u001b[0mvar\u001b[0m \u001b[0;34m=\u001b[0m \u001b[0mnc\u001b[0m\u001b[0;34m.\u001b[0m\u001b[0mvariables\u001b[0m\u001b[0;34m[\u001b[0m\u001b[0;34m'v'\u001b[0m\u001b[0;34m]\u001b[0m\u001b[0;34m\u001b[0m\u001b[0m\n\u001b[0m",
      "\u001b[0;31mKeyError\u001b[0m: 'v'"
     ]
    }
   ],
   "source": [
    "var = nc.variables['v']"
   ]
  },
  {
   "cell_type": "code",
   "execution_count": 8,
   "metadata": {
    "collapsed": false
   },
   "outputs": [
    {
     "ename": "NameError",
     "evalue": "name 'var' is not defined",
     "output_type": "error",
     "traceback": [
      "\u001b[0;31m---------------------------------------------------------------------------\u001b[0m",
      "\u001b[0;31mNameError\u001b[0m                                 Traceback (most recent call last)",
      "\u001b[0;32m<ipython-input-8-74ba84ab4752>\u001b[0m in \u001b[0;36m<module>\u001b[0;34m()\u001b[0m\n\u001b[1;32m      1\u001b[0m \u001b[0mi0\u001b[0m\u001b[0;34m=\u001b[0m \u001b[0;36m13288\u001b[0m\u001b[0;34m\u001b[0m\u001b[0m\n\u001b[1;32m      2\u001b[0m \u001b[0mi1\u001b[0m \u001b[0;34m=\u001b[0m \u001b[0;36m17547\u001b[0m\u001b[0;34m\u001b[0m\u001b[0m\n\u001b[0;32m----> 3\u001b[0;31m \u001b[0mvar\u001b[0m\u001b[0;34m[\u001b[0m\u001b[0mi0\u001b[0m\u001b[0;34m:\u001b[0m\u001b[0mi1\u001b[0m\u001b[0;34m]\u001b[0m\u001b[0;34m\u001b[0m\u001b[0m\n\u001b[0m",
      "\u001b[0;31mNameError\u001b[0m: name 'var' is not defined"
     ]
    }
   ],
   "source": [
    "i0= 13288\n",
    "i1 = 17547\n",
    "var[i0:i1]"
   ]
  },
  {
   "cell_type": "code",
   "execution_count": 9,
   "metadata": {
    "collapsed": false
   },
   "outputs": [
    {
     "ename": "SyntaxError",
     "evalue": "EOL while scanning string literal (<ipython-input-9-e7f04dd6a2ad>, line 1)",
     "output_type": "error",
     "traceback": [
      "\u001b[0;36m  File \u001b[0;32m\"<ipython-input-9-e7f04dd6a2ad>\"\u001b[0;36m, line \u001b[0;32m1\u001b[0m\n\u001b[0;31m    nc.variables['tim\u001b[0m\n\u001b[0m                    ^\u001b[0m\n\u001b[0;31mSyntaxError\u001b[0m\u001b[0;31m:\u001b[0m EOL while scanning string literal\n"
     ]
    }
   ],
   "source": [
    "nc.variables['tim"
   ]
  },
  {
   "cell_type": "code",
   "execution_count": 28,
   "metadata": {
    "collapsed": false
   },
   "outputs": [
    {
     "data": {
      "text/plain": [
       "<Response [200]>"
      ]
     },
     "execution_count": 28,
     "metadata": {},
     "output_type": "execute_result"
    }
   ],
   "source": [
    "import requests\n",
    "import json\n",
    "data = {\n",
    "    'url':'http://localhost:8080/thredds/dodsC/weatherflow/station_700.ncml',\n",
    "    'variables':[],\n",
    "    'start':None,\n",
    "    'end': None,\n",
    "    'service_type':'thredds'\n",
    "    }\n",
    "r = requests.post('http://localhost:4002/dx/get_data', data=json.dumps(data), headers={'Content-Type':'application/json'})\n",
    "r"
   ]
  },
  {
   "cell_type": "code",
   "execution_count": 29,
   "metadata": {
    "collapsed": false
   },
   "outputs": [
    {
     "data": {
      "text/plain": [
       "{u'dimensions': {u'maxStrlen64': 64, u'time': 84721},\n",
       " u'metadata': {u'Conventions': u'CF-1.6',\n",
       "  u'DODS.dimName': u'name_strlen',\n",
       "  u'DODS.strlen': 11,\n",
       "  u'cdm_data_type': u'Station',\n",
       "  u'date_created': u'2015-04-08T01:00:03.088284',\n",
       "  u'featureType': u'timeSeries',\n",
       "  u'geospatial_lat_max': 37.96643,\n",
       "  u'geospatial_lat_min': 37.96643,\n",
       "  u'geospatial_lon_max': -75.87741,\n",
       "  u'geospatial_lon_min': -75.87741,\n",
       "  u'institution': u'Weatherflow, Inc.',\n",
       "  u'keywords': u'Weather, Winds',\n",
       "  u'project': u'Weatherflow',\n",
       "  u'publisher_email': u'devops@asascience.com',\n",
       "  u'publisher_name': u'RPS ASA on behalf of Weatherflow, Inc.',\n",
       "  u'publisher_phone': u'(401) 789-6224',\n",
       "  u'publisher_url': u'http://www.asascience.com/',\n",
       "  u'references': u'http://www.weatherflow.com',\n",
       "  u'time_coverage_end': u'2015-04-09T00:00:00',\n",
       "  u'time_coverage_start': u'2015-04-08T00:00:00',\n",
       "  u'title': u'Weatherflow Observed Buoy Water Velocity'},\n",
       " u'request': {u'end': None,\n",
       "  u'service_type': u'thredds',\n",
       "  u'start': None,\n",
       "  u'stride': None,\n",
       "  u'url': u'http://localhost:8080/thredds/dodsC/weatherflow/station_700.ncml',\n",
       "  u'variables': []},\n",
       " u'variables': {u'lat': {u'axis': u'Y',\n",
       "   u'long_name': u'Latitude',\n",
       "   u'standard_name': u'latitude',\n",
       "   u'units': u'degrees_north'},\n",
       "  u'lon': {u'axis': u'X',\n",
       "   u'long_name': u'Longitude',\n",
       "   u'standard_name': u'longitude',\n",
       "   u'units': u'degrees_east'},\n",
       "  u'station_name': {u'cf_role': u'timeseries_id',\n",
       "   u'long_name': u'station-700'},\n",
       "  u'time': {u'_ChunkSize': 1,\n",
       "   u'axis': u'T',\n",
       "   u'long_name': u'Time',\n",
       "   u'standard_name': u'time',\n",
       "   u'units': u'seconds since 1970-01-01'},\n",
       "  u'wind_direction': {u'_ChunkSize': 1,\n",
       "   u'_FillValue': -9999.0,\n",
       "   u'coordinates': u'time lat lon',\n",
       "   u'long_name': u'Wind Direction',\n",
       "   u'observation_type': u'measured',\n",
       "   u'standard_name': u'wind_direction',\n",
       "   u'units': u'deg'},\n",
       "  u'wind_gust': {u'_ChunkSize': 1,\n",
       "   u'_FillValue': -9999.0,\n",
       "   u'coordinates': u'time lat lon',\n",
       "   u'long_name': u'Wind Gust',\n",
       "   u'observation_type': u'measured',\n",
       "   u'standard_name': u'wind_speed_of_gust',\n",
       "   u'units': u'm/s'},\n",
       "  u'wind_speed': {u'_ChunkSize': 1,\n",
       "   u'_FillValue': -9999.0,\n",
       "   u'coordinates': u'time lat lon',\n",
       "   u'long_name': u'Wind Speed',\n",
       "   u'observation_type': u'measured',\n",
       "   u'standard_name': u'wind_speed',\n",
       "   u'units': u'm/s'}}}"
      ]
     },
     "execution_count": 29,
     "metadata": {},
     "output_type": "execute_result"
    }
   ],
   "source": [
    "r.json()"
   ]
  },
  {
   "cell_type": "code",
   "execution_count": 1,
   "metadata": {
    "collapsed": false
   },
   "outputs": [
    {
     "data": {
      "text/plain": [
       "(u'time',)"
      ]
     },
     "execution_count": 1,
     "metadata": {},
     "output_type": "execute_result"
    }
   ],
   "source": [
    "from netCDF4 import Dataset\n",
    "nc = Dataset('http://usace.asa.rocks/thredds/dodsC/frfData/oceanography/waves/adop02/adop02.ncml', 'r')\n",
    "nc.variables['time'].dimensions"
   ]
  },
  {
   "cell_type": "code",
   "execution_count": 15,
   "metadata": {
    "collapsed": false
   },
   "outputs": [
    {
     "name": "stdout",
     "output_type": "stream",
     "text": [
      "2012-03-11 08:00:00\n",
      "2014-10-12 07:05:00\n",
      "[[-83.567371999999992, 41.145270499999995], [-78.645815999999996, 43.153226499999995]]\n"
     ]
    }
   ],
   "source": [
    "from netCDF4 import Dataset\n",
    "from netcdftime import utime\n",
    "\n",
    "with Dataset('http://tds.glos.us/thredds/dodsC/SST/LakeErieSST-Agg', 'r') as nc:\n",
    "    t0 = nc.variables['time'][0]\n",
    "    t1 = nc.variables['time'][-1]\n",
    "    units = nc.variables['time'].units\n",
    "    lat = nc.variables['lat'][:]\n",
    "    lon = nc.variables['lon'][:]\n",
    "epoch = utime(units)\n",
    "dt0 = epoch.num2date(t0)\n",
    "dt1 = epoch.num2date(t1)\n",
    "\n",
    "print dt0\n",
    "print dt1\n",
    "bbox = [[lon[0], lat[0]], [lon[-1],lat[-1]]]\n",
    "print bbox"
   ]
  },
  {
   "cell_type": "code",
   "execution_count": 6,
   "metadata": {
    "collapsed": false
   },
   "outputs": [
    {
     "name": "stderr",
     "output_type": "stream",
     "text": [
      "/Users/lcampbell/.virtualenvs/work/lib/python2.7/site-packages/numexpr-2.1-py2.7-macosx-10.10-intel.egg/numexpr/cpuinfo.py:71: UserWarning: [Errno 2] No such file or directory\n",
      "  stacklevel=stacklevel+1):\n"
     ]
    }
   ],
   "source": [
    "from IPython.display import HTML\n",
    "import folium"
   ]
  },
  {
   "cell_type": "code",
   "execution_count": 16,
   "metadata": {
    "collapsed": true
   },
   "outputs": [],
   "source": [
    "def inline_map(map):\n",
    "    \"\"\"\n",
    "    Embeds the HTML source of the map directly into the IPython notebook.\n",
    "    \n",
    "    This method will not work if the map depends on any files (json data). Also this uses\n",
    "    the HTML5 srcdoc attribute, which may not be supported in all browsers.\n",
    "    \"\"\"\n",
    "    map._build_map()\n",
    "    return HTML('<iframe srcdoc=\"{srcdoc}\" style=\"width: 100%; height: 510px; border: none\"></iframe>'.format(srcdoc=map.HTML.replace('\"', '&quot;')))\n",
    "\n",
    "def embed_map(map, path=\"map.html\"):\n",
    "    \"\"\"\n",
    "    Embeds a linked iframe to the map into the IPython notebook.\n",
    "    \n",
    "    Note: this method will not capture the source of the map into the notebook.\n",
    "    This method should work for all maps (as long as they use relative urls).\n",
    "    \"\"\"\n",
    "    map.create_map(path=path)\n",
    "    return HTML('<iframe src=\"files/{path}\" style=\"width: 100%; height: 510px; border: none\"></iframe>'.format(path=path))\n",
    "def get_coordinates(bounding_box):\n",
    "    \"\"\"Create bounding box coordinates for the map.\"\"\"\n",
    "    coordinates = []\n",
    "    coordinates.append([bounding_box[1], bounding_box[0]])\n",
    "    coordinates.append([bounding_box[1], bounding_box[2]])\n",
    "    coordinates.append([bounding_box[3], bounding_box[2]])\n",
    "    coordinates.append([bounding_box[3], bounding_box[0]])\n",
    "    coordinates.append([bounding_box[1], bounding_box[0]])\n",
    "    return coordinates"
   ]
  },
  {
   "cell_type": "code",
   "execution_count": 21,
   "metadata": {
    "collapsed": false
   },
   "outputs": [
    {
     "data": {
      "text/html": [
       "<iframe srcdoc=\"<!DOCTYPE html>\n",
       "<head>\n",
       "   <meta http-equiv=&quot;content-type&quot; content=&quot;text/html; charset=UTF-8&quot; />\n",
       "   <link rel=&quot;stylesheet&quot; href=&quot;//cdnjs.cloudflare.com/ajax/libs/leaflet/0.7.3/leaflet.css&quot; />\n",
       "   <script src=&quot;//cdnjs.cloudflare.com/ajax/libs/leaflet/0.7.3/leaflet.js&quot;></script>\n",
       "\n",
       "   <script src=&quot;//ajax.googleapis.com/ajax/libs/jquery/1.11.1/jquery.min.js&quot;></script>\n",
       "\n",
       "   <link rel=&quot;stylesheet&quot; href=&quot;//maxcdn.bootstrapcdn.com/bootstrap/3.2.0/css/bootstrap.min.css&quot;>\n",
       "   <link rel=&quot;stylesheet&quot; href=&quot;//maxcdn.bootstrapcdn.com/bootstrap/3.2.0/css/bootstrap-theme.min.css&quot;>\n",
       "   <script src=&quot;//maxcdn.bootstrapcdn.com/bootstrap/3.2.0/js/bootstrap.min.js&quot;></script>\n",
       "\n",
       "   <link href=&quot;//maxcdn.bootstrapcdn.com/font-awesome/4.1.0/css/font-awesome.min.css&quot; rel=&quot;stylesheet&quot;>\n",
       "\n",
       "   <link rel=&quot;stylesheet&quot; href=&quot;//rawgit.com/lvoogdt/Leaflet.awesome-markers/2.0/develop/dist/leaflet.awesome-markers.css&quot;>\n",
       "   <script src=&quot;//rawgithub.com/lvoogdt/Leaflet.awesome-markers/2.0/develop/dist/leaflet.awesome-markers.js&quot;></script>\n",
       "\n",
       "\n",
       "   <link rel=&quot;stylesheet&quot; href=&quot;//cdnjs.cloudflare.com/ajax/libs/leaflet.markercluster/0.4.0/MarkerCluster.Default.css&quot;>\n",
       "   <link rel=&quot;stylesheet&quot; href=&quot;//cdnjs.cloudflare.com/ajax/libs/leaflet.markercluster/0.4.0/MarkerCluster.css&quot;>\n",
       "   <script src=&quot;//cdnjs.cloudflare.com/ajax/libs/leaflet.markercluster/0.4.0/leaflet.markercluster-src.js&quot;></script>\n",
       "   <script src=&quot;//cdnjs.cloudflare.com/ajax/libs/leaflet.markercluster/0.4.0/leaflet.markercluster.js&quot;></script>\n",
       "\n",
       "   <link rel=&quot;stylesheet&quot; href=&quot;//birdage.github.io/Leaflet.awesome-markers/dist/leaflet.awesome.rotate.css&quot;>\n",
       "\n",
       "   \n",
       "   \n",
       "   \n",
       "   \n",
       "\n",
       "   <style>\n",
       "\n",
       "      html, body {\n",
       "        width: 100%;\n",
       "        height: 100%;\n",
       "        margin: 0;\n",
       "        padding: 0;\n",
       "      }\n",
       "\n",
       "      #map {\n",
       "        position:absolute;\n",
       "        top:0;\n",
       "        bottom:0;\n",
       "        right:0;\n",
       "        left:0;\n",
       "      }\n",
       "\n",
       "   </style>\n",
       "</head>\n",
       "\n",
       "<body>\n",
       "\n",
       "   <div class=&quot;folium-map&quot; id=&quot;folium_6d2e85bacc594a8b94374ae79fb0a686&quot; style=&quot;width: 960px; height: 500px&quot;></div>\n",
       "\n",
       "   <script>\n",
       "\n",
       "      \n",
       "\n",
       "      var base_tile = L.tileLayer('http://services.arcgisonline.com/ArcGIS/rest/services/Ocean_Basemap/MapServer/tile/{z}/{y}/{x}.jpg', {\n",
       "          maxZoom: 18,\n",
       "          minZoom: 1,\n",
       "          attribution: 'Sources: Esri, GEBCO, NOAA, National Geographic, DeLorme, HERE, Geonames.org, and other contributors'\n",
       "      });\n",
       "\n",
       "      var baseLayer = {\n",
       "        &quot;Base Layer&quot;: base_tile\n",
       "      };\n",
       "\n",
       "      /*\n",
       "      addition of the wms layers\n",
       "      */\n",
       "\n",
       "      \n",
       "\n",
       "      /*\n",
       "      addition of the tile layers\n",
       "      */\n",
       "      \n",
       "\n",
       "      /*\n",
       "      list of layers to be added\n",
       "      */\n",
       "      var layer_list = {\n",
       "      \n",
       "      };\n",
       "\n",
       "      /*\n",
       "      Bounding box.\n",
       "      */\n",
       "      var southWest = L.latLng(-90, -180),\n",
       "          northEast = L.latLng(90, 180),\n",
       "          bounds = L.latLngBounds(southWest, northEast);\n",
       "\n",
       "      /*\n",
       "      Creates the map and adds the selected layers\n",
       "      */\n",
       "      var map = L.map('folium_6d2e85bacc594a8b94374ae79fb0a686', {\n",
       "                                       center:[42.1492485, -81.106594],\n",
       "                                       zoom: 7,\n",
       "                                       maxBounds: bounds,\n",
       "                                       layers: [base_tile]\n",
       "                                     });\n",
       "\n",
       "      L.control.layers(baseLayer, layer_list).addTo(map);\n",
       "\n",
       "      //cluster group\n",
       "      var clusteredmarkers = L.markerClusterGroup();\n",
       "      //section for adding clustered markers\n",
       "      \n",
       "      //add the clustered markers to the group anyway\n",
       "      map.addLayer(clusteredmarkers);\n",
       "\n",
       "      \n",
       "\n",
       "      \n",
       "\n",
       "      \n",
       "      var latLngs = [ [41.1452705, -83.567372],  [41.1452705, -78.645816],  [43.1532265, -78.645816],  [43.1532265, -83.567372],  [41.1452705, -83.567372], ];\n",
       "var line_1 = L.polyline(latLngs,{\n",
       "color: '#FF0000',\n",
       "weight: 5,\n",
       "\n",
       "});\n",
       "      map.addLayer(line_1);\n",
       "      \n",
       "\n",
       "      \n",
       "\n",
       "      \n",
       "\n",
       "      \n",
       "\n",
       "   </script>\n",
       "\n",
       "</body>\" style=\"width: 100%; height: 510px; border: none\"></iframe>"
      ],
      "text/plain": [
       "<IPython.core.display.HTML object>"
      ]
     },
     "execution_count": 21,
     "metadata": {},
     "output_type": "execute_result"
    }
   ],
   "source": [
    "import numpy as np\n",
    "tileset = r'http://services.arcgisonline.com/ArcGIS/rest/services/Ocean_Basemap/MapServer/tile/{z}/{y}/{x}.jpg'\n",
    "map = folium.Map(location=[np.mean(lat), np.mean(lon)], tiles=tileset, attr='Sources: Esri, GEBCO, NOAA, National Geographic, DeLorme, HERE, Geonames.org, and other contributors', zoom_start=7)\n",
    "map.line(get_coordinates(np.asarray(bbox).reshape(-1)), line_color='#FF0000', line_weight=5) \n",
    "inline_map(map)"
   ]
  },
  {
   "cell_type": "code",
   "execution_count": 4,
   "metadata": {
    "collapsed": false
   },
   "outputs": [
    {
     "name": "stdout",
     "output_type": "stream",
     "text": [
      "2015-03-15 00:00:00\n",
      "2015-03-15 19:40:00\n"
     ]
    }
   ],
   "source": [
    "from netCDF4 import Dataset\n",
    "from netcdftime import utime\n",
    "\n",
    "with Dataset('http://tds.glos.us/thredds/dodsC/glos/habs/lakes/sea_surface_water_temperature/tollsps/2015/tollsps_sea_surface_water_temperature_2015135.nc', 'r') as nc:\n",
    "    t0 = nc.variables['time'][0]\n",
    "    t1 = nc.variables['time'][-1]\n",
    "    units = nc.variables['time'].units\n",
    "epoch = utime(units)\n",
    "dt0 = epoch.num2date(t0)\n",
    "dt1 = epoch.num2date(t1)\n",
    "\n",
    "print dt0\n",
    "print dt1"
   ]
  },
  {
   "cell_type": "code",
   "execution_count": null,
   "metadata": {
    "collapsed": true
   },
   "outputs": [],
   "source": []
  }
 ],
 "metadata": {
  "kernelspec": {
   "display_name": "Python 2",
   "language": "python",
   "name": "python2"
  },
  "language_info": {
   "codemirror_mode": {
    "name": "ipython",
    "version": 2
   },
   "file_extension": ".py",
   "mimetype": "text/x-python",
   "name": "python",
   "nbconvert_exporter": "python",
   "pygments_lexer": "ipython2",
   "version": "2.7.6"
  }
 },
 "nbformat": 4,
 "nbformat_minor": 0
}
