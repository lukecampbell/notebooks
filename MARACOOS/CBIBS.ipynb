{
 "cells": [
  {
   "cell_type": "code",
   "execution_count": 1,
   "metadata": {
    "collapsed": true
   },
   "outputs": [],
   "source": [
    "from thredds_crawler.crawl import Crawl"
   ]
  },
  {
   "cell_type": "code",
   "execution_count": 2,
   "metadata": {
    "collapsed": false
   },
   "outputs": [
    {
     "name": "stdout",
     "output_type": "stream",
     "text": [
      "Crawl._run took 9.53674316406e-07 seconds\n",
      "2015-05-01 13:15:55,951 - [INFO] Crawling: http://cbibs-dev.asa.rocks/thredds/agg.xml\n"
     ]
    },
    {
     "name": "stderr",
     "output_type": "stream",
     "text": [
      "INFO:thredds_crawler:Crawling: http://cbibs-dev.asa.rocks/thredds/agg.xml\n"
     ]
    },
    {
     "name": "stdout",
     "output_type": "stream",
     "text": [
      "2015-05-01 13:15:56,047 - [DEBUG] Processing meteorological_44041_agg\n"
     ]
    },
    {
     "name": "stderr",
     "output_type": "stream",
     "text": [
      "DEBUG:thredds_crawler:Processing meteorological_44041_agg\n"
     ]
    },
    {
     "name": "stdout",
     "output_type": "stream",
     "text": [
      "LeafDataset._init took 0.05668592453 seconds\n",
      "2015-05-01 13:15:56,105 - [DEBUG] Processing meteorological_44042_agg\n"
     ]
    },
    {
     "name": "stderr",
     "output_type": "stream",
     "text": [
      "DEBUG:thredds_crawler:Processing meteorological_44042_agg\n"
     ]
    },
    {
     "name": "stdout",
     "output_type": "stream",
     "text": [
      "LeafDataset._init took 0.0426850318909 seconds\n",
      "2015-05-01 13:15:56,148 - [DEBUG] Processing meteorological_44043_agg\n"
     ]
    },
    {
     "name": "stderr",
     "output_type": "stream",
     "text": [
      "DEBUG:thredds_crawler:Processing meteorological_44043_agg\n"
     ]
    },
    {
     "name": "stdout",
     "output_type": "stream",
     "text": [
      "LeafDataset._init took 0.0420489311218 seconds\n",
      "2015-05-01 13:15:56,192 - [DEBUG] Processing meteorological_44057_agg\n"
     ]
    },
    {
     "name": "stderr",
     "output_type": "stream",
     "text": [
      "DEBUG:thredds_crawler:Processing meteorological_44057_agg\n"
     ]
    },
    {
     "name": "stdout",
     "output_type": "stream",
     "text": [
      "LeafDataset._init took 0.0434529781342 seconds\n",
      "2015-05-01 13:15:56,236 - [DEBUG] Processing meteorological_44058_agg\n"
     ]
    },
    {
     "name": "stderr",
     "output_type": "stream",
     "text": [
      "DEBUG:thredds_crawler:Processing meteorological_44058_agg\n"
     ]
    },
    {
     "name": "stdout",
     "output_type": "stream",
     "text": [
      "LeafDataset._init took 0.0430879592896 seconds\n",
      "2015-05-01 13:15:56,280 - [DEBUG] Processing meteorological_44059_agg\n"
     ]
    },
    {
     "name": "stderr",
     "output_type": "stream",
     "text": [
      "DEBUG:thredds_crawler:Processing meteorological_44059_agg\n"
     ]
    },
    {
     "name": "stdout",
     "output_type": "stream",
     "text": [
      "LeafDataset._init took 0.0416359901428 seconds\n",
      "2015-05-01 13:15:56,323 - [DEBUG] Processing meteorological_44062_agg\n"
     ]
    },
    {
     "name": "stderr",
     "output_type": "stream",
     "text": [
      "DEBUG:thredds_crawler:Processing meteorological_44062_agg\n"
     ]
    },
    {
     "name": "stdout",
     "output_type": "stream",
     "text": [
      "LeafDataset._init took 0.0416979789734 seconds\n",
      "2015-05-01 13:15:56,366 - [DEBUG] Processing meteorological_44063_agg\n"
     ]
    },
    {
     "name": "stderr",
     "output_type": "stream",
     "text": [
      "DEBUG:thredds_crawler:Processing meteorological_44063_agg\n"
     ]
    },
    {
     "name": "stdout",
     "output_type": "stream",
     "text": [
      "LeafDataset._init took 0.0436260700226 seconds\n",
      "2015-05-01 13:15:56,410 - [DEBUG] Processing meteorological_44064_agg\n"
     ]
    },
    {
     "name": "stderr",
     "output_type": "stream",
     "text": [
      "DEBUG:thredds_crawler:Processing meteorological_44064_agg\n"
     ]
    },
    {
     "name": "stdout",
     "output_type": "stream",
     "text": [
      "LeafDataset._init took 0.0423650741577 seconds\n",
      "2015-05-01 13:15:56,454 - [DEBUG] Processing meteorological_44068_agg\n"
     ]
    },
    {
     "name": "stderr",
     "output_type": "stream",
     "text": [
      "DEBUG:thredds_crawler:Processing meteorological_44068_agg\n"
     ]
    },
    {
     "name": "stdout",
     "output_type": "stream",
     "text": [
      "LeafDataset._init took 0.0414891242981 seconds\n",
      "2015-05-01 13:15:56,497 - [DEBUG] Processing meteorological_44601_agg\n"
     ]
    },
    {
     "name": "stderr",
     "output_type": "stream",
     "text": [
      "DEBUG:thredds_crawler:Processing meteorological_44601_agg\n"
     ]
    },
    {
     "name": "stdout",
     "output_type": "stream",
     "text": [
      "LeafDataset._init took 0.0413990020752 seconds\n",
      "2015-05-01 13:15:56,539 - [DEBUG] Processing waterquality_44041_agg\n"
     ]
    },
    {
     "name": "stderr",
     "output_type": "stream",
     "text": [
      "DEBUG:thredds_crawler:Processing waterquality_44041_agg\n"
     ]
    },
    {
     "name": "stdout",
     "output_type": "stream",
     "text": [
      "LeafDataset._init took 0.043701171875 seconds\n",
      "2015-05-01 13:15:56,584 - [DEBUG] Processing waterquality_44042_agg\n"
     ]
    },
    {
     "name": "stderr",
     "output_type": "stream",
     "text": [
      "DEBUG:thredds_crawler:Processing waterquality_44042_agg\n"
     ]
    },
    {
     "name": "stdout",
     "output_type": "stream",
     "text": [
      "LeafDataset._init took 0.0411338806152 seconds\n",
      "2015-05-01 13:15:56,626 - [DEBUG] Processing waterquality_44043_agg\n"
     ]
    },
    {
     "name": "stderr",
     "output_type": "stream",
     "text": [
      "DEBUG:thredds_crawler:Processing waterquality_44043_agg\n"
     ]
    },
    {
     "name": "stdout",
     "output_type": "stream",
     "text": [
      "LeafDataset._init took 0.040992975235 seconds\n",
      "2015-05-01 13:15:56,668 - [DEBUG] Processing waterquality_44057_agg\n"
     ]
    },
    {
     "name": "stderr",
     "output_type": "stream",
     "text": [
      "DEBUG:thredds_crawler:Processing waterquality_44057_agg\n"
     ]
    },
    {
     "name": "stdout",
     "output_type": "stream",
     "text": [
      "LeafDataset._init took 0.0418701171875 seconds\n",
      "2015-05-01 13:15:56,711 - [DEBUG] Processing waterquality_44058_agg\n"
     ]
    },
    {
     "name": "stderr",
     "output_type": "stream",
     "text": [
      "DEBUG:thredds_crawler:Processing waterquality_44058_agg\n"
     ]
    },
    {
     "name": "stdout",
     "output_type": "stream",
     "text": [
      "LeafDataset._init took 0.0415821075439 seconds\n",
      "2015-05-01 13:15:56,754 - [DEBUG] Processing waterquality_44059_agg\n"
     ]
    },
    {
     "name": "stderr",
     "output_type": "stream",
     "text": [
      "DEBUG:thredds_crawler:Processing waterquality_44059_agg\n"
     ]
    },
    {
     "name": "stdout",
     "output_type": "stream",
     "text": [
      "LeafDataset._init took 0.0425138473511 seconds\n",
      "2015-05-01 13:15:56,798 - [DEBUG] Processing waterquality_44062_agg\n"
     ]
    },
    {
     "name": "stderr",
     "output_type": "stream",
     "text": [
      "DEBUG:thredds_crawler:Processing waterquality_44062_agg\n"
     ]
    },
    {
     "name": "stdout",
     "output_type": "stream",
     "text": [
      "LeafDataset._init took 0.0415451526642 seconds\n",
      "2015-05-01 13:15:56,841 - [DEBUG] Processing waterquality_44063_agg\n"
     ]
    },
    {
     "name": "stderr",
     "output_type": "stream",
     "text": [
      "DEBUG:thredds_crawler:Processing waterquality_44063_agg\n"
     ]
    },
    {
     "name": "stdout",
     "output_type": "stream",
     "text": [
      "LeafDataset._init took 0.0428919792175 seconds\n",
      "2015-05-01 13:15:56,884 - [DEBUG] Processing waterquality_44064_agg\n"
     ]
    },
    {
     "name": "stderr",
     "output_type": "stream",
     "text": [
      "DEBUG:thredds_crawler:Processing waterquality_44064_agg\n"
     ]
    },
    {
     "name": "stdout",
     "output_type": "stream",
     "text": [
      "LeafDataset._init took 0.0405838489532 seconds\n",
      "2015-05-01 13:15:56,926 - [DEBUG] Processing waterquality_44068_agg\n"
     ]
    },
    {
     "name": "stderr",
     "output_type": "stream",
     "text": [
      "DEBUG:thredds_crawler:Processing waterquality_44068_agg\n"
     ]
    },
    {
     "name": "stdout",
     "output_type": "stream",
     "text": [
      "LeafDataset._init took 0.0409910678864 seconds\n",
      "2015-05-01 13:15:56,968 - [DEBUG] Processing waterquality_44601_agg\n"
     ]
    },
    {
     "name": "stderr",
     "output_type": "stream",
     "text": [
      "DEBUG:thredds_crawler:Processing waterquality_44601_agg\n"
     ]
    },
    {
     "name": "stdout",
     "output_type": "stream",
     "text": [
      "LeafDataset._init took 0.0407700538635 seconds\n",
      "Crawl.__init__ took 1.05952000618 seconds\n"
     ]
    }
   ],
   "source": [
    "catalog_url = 'http://cbibs-dev.asa.rocks/thredds/agg.xml'\n",
    "crawler = Crawl(catalog_url, debug=True)"
   ]
  },
  {
   "cell_type": "code",
   "execution_count": 9,
   "metadata": {
    "collapsed": false
   },
   "outputs": [],
   "source": [
    "relevant = []\n",
    "for dataset in crawler.datasets:\n",
    "    if 'Meteor' in dataset.name:\n",
    "        services = {s['service'].lower(): s for s in dataset.services}\n",
    "        if 'opendap' in services:\n",
    "            relevant.append(services['opendap']['url'])"
   ]
  },
  {
   "cell_type": "code",
   "execution_count": 12,
   "metadata": {
    "collapsed": false
   },
   "outputs": [],
   "source": [
    "from netCDF4 import Dataset\n",
    "import numpy as np\n",
    "import json\n",
    "import re\n",
    "records = []\n",
    "for dataset in relevant:\n",
    "    with Dataset(dataset) as nc:\n",
    "        lat = np.asscalar(nc.variables['latitude'][0])\n",
    "        lon = np.asscalar(nc.variables['longitude'][0])\n",
    "        institution = nc.institution\n",
    "        title = nc.title\n",
    "        title = ' '.join(title.split('_')[:-1])\n",
    "        record = {\n",
    "            \"categories\": [\n",
    "                \"winds\", \"air_temp\"\n",
    "            ],\n",
    "            \"id\":dataset.split('/')[-1],\n",
    "            \"institution\":\"CBIBS\",\n",
    "            \"name\":title,\n",
    "            \"lat\":lat,\n",
    "            \"lon\":lon\n",
    "        }\n",
    "        records.append(record)\n",
    "with open('/tmp/dump.json', 'w') as f:\n",
    "    f.write(json.dumps(records))"
   ]
  },
  {
   "cell_type": "code",
   "execution_count": 14,
   "metadata": {
    "collapsed": true
   },
   "outputs": [],
   "source": [
    "records = []\n",
    "for dataset in relevant:\n",
    "    with Dataset(dataset) as nc:\n",
    "        title = nc.title\n",
    "        title = ' '.join(title.split('_')[:-1])\n",
    "        url = dataset\n",
    "        service_type = 'thredds'\n",
    "        record = {\n",
    "            \"category_id\": \"winds\",\n",
    "            \"id\":dataset.split('/')[-1],\n",
    "            \"service_type\":\"thredds\",\n",
    "            \"station_id\":dataset.split('/')[-1],\n",
    "            \"title\":title,\n",
    "            \"url\" : dataset\n",
    "        }\n",
    "        records.append(record)\n",
    "with open('/tmp/dump.json', 'w') as f:\n",
    "    f.write(json.dumps(records))\n",
    "    "
   ]
  },
  {
   "cell_type": "code",
   "execution_count": null,
   "metadata": {
    "collapsed": true
   },
   "outputs": [],
   "source": []
  }
 ],
 "metadata": {
  "kernelspec": {
   "display_name": "Python 2",
   "language": "python",
   "name": "python2"
  },
  "language_info": {
   "codemirror_mode": {
    "name": "ipython",
    "version": 2
   },
   "file_extension": ".py",
   "mimetype": "text/x-python",
   "name": "python",
   "nbconvert_exporter": "python",
   "pygments_lexer": "ipython2",
   "version": "2.7.6"
  }
 },
 "nbformat": 4,
 "nbformat_minor": 0
}
