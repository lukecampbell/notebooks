{
 "cells": [
  {
   "cell_type": "code",
   "execution_count": 45,
   "metadata": {
    "collapsed": true
   },
   "outputs": [],
   "source": [
    "path = '/Users/lcampbell/data/MARACOOS/hrecos'"
   ]
  },
  {
   "cell_type": "code",
   "execution_count": 46,
   "metadata": {
    "collapsed": false
   },
   "outputs": [],
   "source": [
    "import os\n",
    "stations = os.listdir(path)"
   ]
  },
  {
   "cell_type": "code",
   "execution_count": 47,
   "metadata": {
    "collapsed": false
   },
   "outputs": [],
   "source": [
    "stations = [s.strip() for s in stations]"
   ]
  },
  {
   "cell_type": "code",
   "execution_count": 48,
   "metadata": {
    "collapsed": true
   },
   "outputs": [],
   "source": [
    "from jinja2 import Template"
   ]
  },
  {
   "cell_type": "code",
   "execution_count": 53,
   "metadata": {
    "collapsed": true
   },
   "outputs": [],
   "source": [
    "template = '''<?xml version=\"1.0\" encoding=\"UTF-8\"?>\n",
    "<catalog name=\"THREDDS Server Default Catalog : You must change this to fit your server!\"\n",
    "        xmlns=\"http://www.unidata.ucar.edu/namespaces/thredds/InvCatalog/v1.0\"\n",
    "        xmlns:xlink=\"http://www.w3.org/1999/xlink\">\n",
    "  <service name=\"all\" base=\"\" serviceType=\"compound\">\n",
    "    <service name=\"odap\" serviceType=\"OpenDAP\" base=\"/thredds/dodsC/\" />\n",
    "    <service name=\"iso\" serviceType=\"ISO\" base=\"/thredds/iso/\" />\n",
    "    <service name=\"sos\" serviceType=\"SOS\" base=\"/thredds/sos/\" /> \n",
    "  </service>\n",
    "  {% for station in stations %}\n",
    "  <dataset name=\"{{title}} {{ station }} Aggregation\" ID=\"{{prefix}}{{ station }}_agg\" urlPath=\"{{url_path}}/{{prefix}}{{ station }}_agg.ncml\">\n",
    "    <metadata inherited=\"true\">\n",
    "      <serviceName>all</serviceName>\n",
    "      <dataType>Station</dataType>\n",
    "      <dataFormat>NetCDF</dataFormat>\n",
    "    </metadata>\n",
    "    <netcdf xmlns=\"http://www.unidata.ucar.edu/namespaces/netcdf/ncml-2.2\">\n",
    "      <aggregation dimName=\"time\" type=\"joinExisting\">\n",
    "        <scan location=\"{{path}}/{{ station }}\" suffix=\".nc\" />\n",
    "      </aggregation>\n",
    "    </netcdf>\n",
    "  </dataset>\n",
    "  {% endfor %}\n",
    "</catalog>\n",
    "'''"
   ]
  },
  {
   "cell_type": "code",
   "execution_count": 54,
   "metadata": {
    "collapsed": false
   },
   "outputs": [],
   "source": [
    "def generate_aggregations(catalog_path, title, prefix, url_path, stations, path):\n",
    "    t = Template(template)\n",
    "    with open(catalog_path, 'w') as f:\n",
    "        f.write(t.render(title=title, prefix=prefix, url_path=url_path, stations=stations, path=path))"
   ]
  },
  {
   "cell_type": "code",
   "execution_count": 55,
   "metadata": {
    "collapsed": true
   },
   "outputs": [],
   "source": [
    "catalog_path = '/Users/lcampbell/tomcats/thredds/content/thredds/sldmb.xml'\n",
    "title = 'SLDMB Station'\n",
    "prefix='sldmb_'\n",
    "url_path='sldmb'\n",
    "path = '/Users/lcampbell/data/MARACOOS/sldmb'\n",
    "stations = [s.strip() for s in os.listdir(path)]\n",
    "generate_aggregations(catalog_path, title, prefix, url_path, stations, path)"
   ]
  },
  {
   "cell_type": "code",
   "execution_count": 56,
   "metadata": {
    "collapsed": true
   },
   "outputs": [],
   "source": [
    "catalog_path = '/Users/lcampbell/tomcats/thredds/content/thredds/hrecos.xml'\n",
    "title = 'HRECOS Station'\n",
    "prefix='hrecos_'\n",
    "url_path='hrecos'\n",
    "path = '/Users/lcampbell/data/MARACOOS/hrecos'\n",
    "stations = [s.strip() for s in os.listdir(path)]\n",
    "generate_aggregations(catalog_path, title, prefix, url_path, stations, path)"
   ]
  },
  {
   "cell_type": "code",
   "execution_count": null,
   "metadata": {
    "collapsed": true
   },
   "outputs": [],
   "source": []
  }
 ],
 "metadata": {
  "kernelspec": {
   "display_name": "Python 2",
   "language": "python",
   "name": "python2"
  },
  "language_info": {
   "codemirror_mode": {
    "name": "ipython",
    "version": 2
   },
   "file_extension": ".py",
   "mimetype": "text/x-python",
   "name": "python",
   "nbconvert_exporter": "python",
   "pygments_lexer": "ipython2",
   "version": "2.7.6"
  }
 },
 "nbformat": 4,
 "nbformat_minor": 0
}
