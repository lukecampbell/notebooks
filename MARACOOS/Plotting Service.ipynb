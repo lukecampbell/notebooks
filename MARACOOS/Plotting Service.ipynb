{
 "cells": [
  {
   "cell_type": "code",
   "execution_count": null,
   "metadata": {
    "collapsed": true
   },
   "outputs": [],
   "source": [
    "from IPython.display import Image\n",
    "from datetime import datetime\n",
    "import requests\n",
    "import json\n",
    "service_api = 'http://localhost:4002/plotting/plot'"
   ]
  },
  {
   "cell_type": "code",
   "execution_count": 17,
   "metadata": {
    "collapsed": true
   },
   "outputs": [],
   "source": [
    "json_data = '''\n",
    "{\n",
    "    \"data_request\": {\n",
    "        \"end\": \"2014-01-01\",\n",
    "        \"service_type\": \"thredds\",\n",
    "        \"start\": \"2014-01-01\",\n",
    "        \"end\": \"2015-01-01\",\n",
    "        \"url\": \"http://usace.asa.rocks/thredds/dodsC/frfData/oceanography/waterlevel/601/601.ncml\",\n",
    "        \"variables\": [\n",
    "            \"time\",\n",
    "            \"waterLevelHeight\"\n",
    "        ]\n",
    "    },\n",
    "    \"plot_request\": {\n",
    "        \"format\": \"png\",\n",
    "        \"height\": 400,\n",
    "        \"plottype\": \"timeseries\",\n",
    "        \"ylabel\":\"Water Level(m)\",\n",
    "        \"title\": \"Basic Timeseries\",\n",
    "        \"width\": 600\n",
    "    }\n",
    "}\n",
    "'''"
   ]
  },
  {
   "cell_type": "code",
   "execution_count": 18,
   "metadata": {
    "collapsed": false
   },
   "outputs": [
    {
     "data": {
      "text/plain": [
       "<Response [200]>"
      ]
     },
     "execution_count": 18,
     "metadata": {},
     "output_type": "execute_result"
    }
   ],
   "source": [
    "response = requests.post(service_api, data=json_data, headers={'Content-Type':'application/json'})\n",
    "response"
   ]
  },
  {
   "cell_type": "code",
   "execution_count": 19,
   "metadata": {
    "collapsed": false
   },
   "outputs": [
    {
     "data": {
      "text/html": [
       "<img src=\"http://localhost:4002/plotting/plot/png/aab3e.png\"/>"
      ],
      "text/plain": [
       "<IPython.core.display.Image object>"
      ]
     },
     "execution_count": 19,
     "metadata": {},
     "output_type": "execute_result"
    }
   ],
   "source": [
    "url = response.json()['url']\n",
    "url = 'http://localhost:4002' + url\n",
    "Image(url=url)"
   ]
  },
  {
   "cell_type": "code",
   "execution_count": 235,
   "metadata": {
    "collapsed": true
   },
   "outputs": [],
   "source": [
    "json_data = '''\n",
    "{\n",
    "    \"url\":\"http://tds.glos.us/thredds/dodsC/glos/habs/lakes/ysi_turbidity/tollsps/tollsps.ncml\",\n",
    "    \"variables\":[\"time\",\"turbidity\"],\n",
    "    \"start\":\"2015-03-25\",\n",
    "    \"end\":\"2015-03-25\",\n",
    "    \"service_type\":\"thredds\"\n",
    "}\n",
    "'''"
   ]
  },
  {
   "cell_type": "code",
   "execution_count": 236,
   "metadata": {
    "collapsed": false
   },
   "outputs": [
    {
     "data": {
      "text/plain": [
       "<Response [200]>"
      ]
     },
     "execution_count": 236,
     "metadata": {},
     "output_type": "execute_result"
    }
   ],
   "source": [
    "response = requests.post('http://localhost:4002/dx/data', data=json_data, headers={'Content-Type':'application/json'})\n",
    "response"
   ]
  },
  {
   "cell_type": "code",
   "execution_count": 237,
   "metadata": {
    "collapsed": false
   },
   "outputs": [
    {
     "name": "stdout",
     "output_type": "stream",
     "text": [
      "{\n",
      "  \"dimensions\": {\n",
      "    \"height\": 1,\n",
      "    \"maxStrlen64\": 64,\n",
      "    \"time\": 1508\n",
      "  },\n",
      "  \"metadata\": {\n",
      "    \"Conventions\": \"CF-1.6\",\n",
      "    \"DODS.dimName\": \"text\",\n",
      "    \"DODS.strlen\": 128,\n",
      "    \"Metadata_Conventions\": \"Unidata Dataset Discovery v1.0\",\n",
      "    \"acknowledgment\": \"\",\n",
      "    \"cdm_data_type\": \"station\",\n",
      "    \"comment\": \"\",\n",
      "    \"contributor_name\": \"GLOS\",\n",
      "    \"contributor_role\": \"\",\n",
      "    \"creator_email\": \"\",\n",
      "    \"creator_name\": \"\",\n",
      "    \"creator_url\": \"\",\n",
      "    \"date_created\": \"2015413\",\n",
      "    \"date_issued\": \"2015413\",\n",
      "    \"date_modified\": \"2015413\",\n",
      "    \"featureType\": \"timeSeries\",\n",
      "    \"geospatial_lat_max\": 41.68,\n",
      "    \"geospatial_lat_min\": 41.68,\n",
      "    \"geospatial_lat_resolution\": \"\",\n",
      "    \"geospatial_lat_units\": \"degrees_north\",\n",
      "    \"geospatial_lon_max\": -83.81,\n",
      "    \"geospatial_lon_min\": -83.81,\n",
      "    \"geospatial_lon_resolution\": \"\",\n",
      "    \"geospatial_lon_units\": \"degrees_east\",\n",
      "    \"geospatial_vertical_max\": \"\",\n",
      "    \"geospatial_vertical_min\": \"\",\n",
      "    \"geospatial_vertical_positive\": \"\",\n",
      "    \"geospatial_vertical_resolution\": \"\",\n",
      "    \"geospatial_vertical_units\": \"\",\n",
      "    \"history\": \"\",\n",
      "    \"id\": \"tollsps\",\n",
      "    \"institution\": \"GLOS,LimnoTech\",\n",
      "    \"institution_dods_url\": \"\",\n",
      "    \"institution_url\": \"http://glos.us\",\n",
      "    \"instrument\": \"instrument\",\n",
      "    \"keywords\": \"TERRESTRIAL HYDROSPHERE > WATER QUALITY/WATER CHEMISTRY > TURBIDITY\",\n",
      "    \"keywords_vocabulary\": \"\",\n",
      "    \"license\": \"Freely Distributed\",\n",
      "    \"metadata_link\": \"\",\n",
      "    \"missing_value\": -9999.0,\n",
      "    \"naming_authority\": \"GLOS\",\n",
      "    \"nodc_template_version\": \"NODC_NetCDF_TimeSeries_Orthogonal_Template_v1.1\",\n",
      "    \"platform\": \"platform\",\n",
      "    \"processing_level\": \"none\",\n",
      "    \"project\": \"\",\n",
      "    \"publisher_email\": \"dmac@glos.us\",\n",
      "    \"publisher_name\": \"GLOS\",\n",
      "    \"publisher_url\": \"http://glos.us\",\n",
      "    \"references\": \"\",\n",
      "    \"sea_name\": \"Great Lakes\",\n",
      "    \"source\": \"\",\n",
      "    \"standard_name_vocabulary\": \"NetCDF Climate and Forecast (CF) Metadata Convention Standard Name Table v26\",\n",
      "    \"summary\": \"\",\n",
      "    \"time_coverage_duration\": \"\",\n",
      "    \"time_coverage_end\": \"2015-03-26T14:50:00\",\n",
      "    \"time_coverage_resolution\": \"\",\n",
      "    \"time_coverage_start\": \"2015-03-16T00:00:00\",\n",
      "    \"title\": \"Toledo Low Service Pump Station\",\n",
      "    \"uuid\": \"\"\n",
      "  },\n",
      "  \"request\": {\n",
      "    \"end\": \"2015-03-25T00:00:00\",\n",
      "    \"service_type\": \"thredds\",\n",
      "    \"start\": \"2015-03-25T00:00:00\",\n",
      "    \"stride\": null,\n",
      "    \"url\": \"http://tds.glos.us/thredds/dodsC/glos/habs/lakes/ysi_turbidity/tollsps/tollsps.ncml\",\n",
      "    \"variables\": [\n",
      "      \"time\",\n",
      "      \"turbidity\"\n",
      "    ]\n",
      "  },\n",
      "  \"variables\": {\n",
      "    \"time\": {\n",
      "      \"axis\": \"T\",\n",
      "      \"calendar\": \"gregorian\",\n",
      "      \"data\": [\n",
      "        1427241600.0\n",
      "      ],\n",
      "      \"dimensions\": [\n",
      "        \"time\"\n",
      "      ],\n",
      "      \"long_name\": \"time of measurement\",\n",
      "      \"standard_name\": \"time\",\n",
      "      \"time_coverage_end\": \"2015-04-13T23:55:01+0000\",\n",
      "      \"time_coverage_start\": \"2015-04-13T23:55:01+0000\",\n",
      "      \"units\": \"seconds since 1970-01-01T00:00:00Z\"\n",
      "    },\n",
      "    \"turbidity\": {\n",
      "      \"_FillValue\": -9999.0,\n",
      "      \"add_offset\": 0.0,\n",
      "      \"coordinates\": \"time latitude longitude height\",\n",
      "      \"coverage_content_type\": \"physicalMeasurement\",\n",
      "      \"data\": [\n",
      "        16.63\n",
      "      ],\n",
      "      \"depth\": 0.0,\n",
      "      \"dimensions\": [\n",
      "        \"time\"\n",
      "      ],\n",
      "      \"featureType\": \"timeSeries\",\n",
      "      \"grid_mapping\": \"crs\",\n",
      "      \"habs_name\": \"turbidity\",\n",
      "      \"instrument\": \"instrument\",\n",
      "      \"keywords\": \"TERRESTRIAL HYDROSPHERE > WATER QUALITY/WATER CHEMISTRY > TURBIDITY\",\n",
      "      \"keywords_vocabulary\": \"GCMD Earth Science Keywords. Version 5.3.3\",\n",
      "      \"long_name\": \"YSI Turbidity\",\n",
      "      \"nc_name\": \"/usr/local/glos/habs/tmp//tollsps_ysi_turbidity.nc\",\n",
      "      \"nodc_name\": \"\",\n",
      "      \"platform\": \"platform\",\n",
      "      \"scale_factor\": 1.0,\n",
      "      \"short_name\": \"YSI Turbidity\",\n",
      "      \"source\": \"habs/data/tollsps_ysi_turbidity\",\n",
      "      \"standard_name\": \"ysi_turbidity\",\n",
      "      \"target\": \"/tmp/tollsps_ysi_turbidity\",\n",
      "      \"units\": \"ntu\"\n",
      "    }\n",
      "  }\n",
      "}\n"
     ]
    }
   ],
   "source": [
    "print response.content"
   ]
  },
  {
   "cell_type": "code",
   "execution_count": null,
   "metadata": {
    "collapsed": true
   },
   "outputs": [],
   "source": []
  },
  {
   "cell_type": "code",
   "execution_count": null,
   "metadata": {
    "collapsed": true
   },
   "outputs": [],
   "source": []
  }
 ],
 "metadata": {
  "kernelspec": {
   "display_name": "Python 2",
   "language": "python",
   "name": "python2"
  },
  "language_info": {
   "codemirror_mode": {
    "name": "ipython",
    "version": 2
   },
   "file_extension": ".py",
   "mimetype": "text/x-python",
   "name": "python",
   "nbconvert_exporter": "python",
   "pygments_lexer": "ipython2",
   "version": "2.7.6"
  }
 },
 "nbformat": 4,
 "nbformat_minor": 0
}
