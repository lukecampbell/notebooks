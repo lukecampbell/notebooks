{
 "cells": [
  {
   "cell_type": "code",
   "execution_count": 8,
   "metadata": {
    "collapsed": false
   },
   "outputs": [],
   "source": [
    "from animated_wms.web_map import WebMap\n",
    "from animated_wms.animation import Animation\n",
    "from datetime import datetime, timedelta\n",
    "\n",
    "bbox = [[-90, 20], [-50, 45]]\n",
    "web_map = WebMap(bbox, 5, 'wms/feed.json')\n",
    "basemap_url = 'http://services.arcgisonline.com/ArcGIS/rest/services/Ocean_Basemap/MapServer/tile/{z}/{y}/{x}.jpg'\n",
    "wms_layer = 'HYCOM Currents'\n",
    "\n",
    "animation = Animation(web_map)\n",
    "start = datetime.utcnow()\n",
    "end = start + timedelta(days=2)\n",
    "delta = timedelta(hours=6)\n",
    "\n",
    "animation.get_mp4('videos/currents.mp4', basemap_url, wms_layer, start, end, delta)"
   ]
  },
  {
   "cell_type": "code",
   "execution_count": 9,
   "metadata": {
    "collapsed": false
   },
   "outputs": [],
   "source": [
    "animation.get_gif('videos/currents.gif', basemap_url, wms_layer, start, end, delta)"
   ]
  },
  {
   "cell_type": "code",
   "execution_count": 11,
   "metadata": {
    "collapsed": false
   },
   "outputs": [
    {
     "data": {
      "text/html": [
       "<img src=\"/files/MARACOOS/videos/currents.gif\">"
      ],
      "text/plain": [
       "<IPython.core.display.HTML object>"
      ]
     },
     "metadata": {},
     "output_type": "display_data"
    }
   ],
   "source": [
    "%%html\n",
    "<img src=\"/files/MARACOOS/videos/currents.gif\">"
   ]
  },
  {
   "cell_type": "code",
   "execution_count": null,
   "metadata": {
    "collapsed": true
   },
   "outputs": [],
   "source": []
  }
 ],
 "metadata": {
  "kernelspec": {
   "display_name": "Python 2",
   "language": "python",
   "name": "python2"
  },
  "language_info": {
   "codemirror_mode": {
    "name": "ipython",
    "version": 2
   },
   "file_extension": ".py",
   "mimetype": "text/x-python",
   "name": "python",
   "nbconvert_exporter": "python",
   "pygments_lexer": "ipython2",
   "version": "2.7.6"
  }
 },
 "nbformat": 4,
 "nbformat_minor": 0
}
