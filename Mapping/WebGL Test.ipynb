{
 "metadata": {
  "name": "",
  "signature": "sha256:31a3d85bdf4b67c92315f916f1438f143aa8867cd65a0f308b82aad405643962"
 },
 "nbformat": 3,
 "nbformat_minor": 0,
 "worksheets": [
  {
   "cells": [
    {
     "cell_type": "code",
     "collapsed": false,
     "input": [
      "from IPython.display import HTML\n",
      "context = '''\n",
      "    <div id=\"earth_div\" style=\"width:600px;height:400px;border:1px solid gray; padding:2px;\"></div>\n",
      "'''\n",
      "\n",
      "script = '''\n",
      "    <script src=\"http://www.webglearth.com/v2/api.js\"></script>\n",
      "    <script>\n",
      "      function initialize() {\n",
      "        var earth = new WE.map('earth_div');\n",
      "        WE.tileLayer('http://maps.ngdc.noaa.gov/arcgis/rest/services/web_mercator/etopo1_hillshade/MapServer/tile/{z}/{y}/{x}').addTo(earth);\n",
      "      }\n",
      "      initialize();\n",
      "    </script>\n",
      "    \n",
      "'''\n",
      "\n",
      "HTML(context + script)"
     ],
     "language": "python",
     "metadata": {},
     "outputs": [
      {
       "html": [
        "\n",
        "    <div id=\"earth_div\" style=\"width:600px;height:400px;border:1px solid gray; padding:2px;\"></div>\n",
        "\n",
        "    <script src=\"http://www.webglearth.com/v2/api.js\"></script>\n",
        "    <script>\n",
        "      function initialize() {\n",
        "        var earth = new WE.map('earth_div');\n",
        "        WE.tileLayer('http://maps.ngdc.noaa.gov/arcgis/rest/services/web_mercator/etopo1_hillshade/MapServer/tile/{z}/{y}/{x}').addTo(earth);\n",
        "      }\n",
        "      initialize();\n",
        "    </script>\n",
        "    \n"
       ],
       "metadata": {},
       "output_type": "pyout",
       "prompt_number": 4,
       "text": [
        "<IPython.core.display.HTML at 0x105eef1d0>"
       ]
      }
     ],
     "prompt_number": 4
    },
    {
     "cell_type": "code",
     "collapsed": false,
     "input": [],
     "language": "python",
     "metadata": {},
     "outputs": []
    }
   ],
   "metadata": {}
  }
 ]
}